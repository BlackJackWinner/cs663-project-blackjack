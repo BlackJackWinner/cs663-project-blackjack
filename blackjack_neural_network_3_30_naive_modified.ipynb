{
 "cells": [
  {
   "cell_type": "code",
   "execution_count": 1,
   "metadata": {},
   "outputs": [
    {
     "name": "stderr",
     "output_type": "stream",
     "text": [
      "Using TensorFlow backend.\n"
     ]
    }
   ],
   "source": [
    "import numpy as np\n",
    "import pandas as pd\n",
    "import random\n",
    "import matplotlib.pyplot as plt\n",
    "import seaborn as sns\n",
    "import sklearn.metrics as metrics\n",
    "from keras.models import Sequential\n",
    "from keras.layers import Dense, LSTM, Flatten, Dropout"
   ]
  },
  {
   "cell_type": "code",
   "execution_count": 2,
   "metadata": {},
   "outputs": [],
   "source": [
    "# This function lists out all permutations of ace values in the array sum_array\n",
    "# For example, if you have 2 aces, there are 4 permutations:\n",
    "#     [[1,1], [1,11], [11,1], [11,11]]\n",
    "# These permutations lead to 3 unique sums: [2, 12, 22]\n",
    "# Of these 3, only 2 are <=21 so they are returned: [2, 12]\n",
    "def get_ace_values(ace_list):\n",
    "    sum_array = np.zeros((2*len(ace_list), len(ace_list)))\n",
    "    # This loop gets the permutations\n",
    "    for i in range(len(ace_list)):\n",
    "        n = len(ace_list) - i\n",
    "        half_len = int(2 ** n * 0.5)\n",
    "        for rep in range(int(sum_array.shape[0]/half_len/2)):\n",
    "            sum_array[rep *2**n: rep * 2**n + half_len, i] = 1\n",
    "            sum_array[rep*2**n+half_len : rep*2**n+half_len*2, i] = 11\n",
    "    # return values that are valid (<=21)\n",
    "    return list(set([int(s) for s in np.sum(sum_array, axis=1) if s<=21]))\n",
    "\n",
    "# Convert num_aces, an int to a list of lists\n",
    "# For example if num_aces=2, the output should be [[1,11],[1,11]]\n",
    "def ace_values(num_aces):\n",
    "    ace_list = []\n",
    "    for i in range(num_aces):\n",
    "        ace_list.append([1,11])\n",
    "    return get_ace_values(ace_list)"
   ]
  },
  {
   "cell_type": "code",
   "execution_count": 6,
   "metadata": {},
   "outputs": [],
   "source": [
    "# generate a deck\n",
    "# card_types = ['A',2,3,4,5,6,7,8,9,10,10,10,10]\n",
    "def generate_decks(num_decks, card_types):\n",
    "    deck = []\n",
    "    for i in range(num_decks):\n",
    "        for j in range(4):\n",
    "            deck.extend(card_types)\n",
    "    random.shuffle(deck)\n",
    "    return deck"
   ]
  },
  {
   "cell_type": "code",
   "execution_count": 8,
   "metadata": {},
   "outputs": [],
   "source": [
    "# sum up value of hand card\n",
    "def sum_up(hand):\n",
    "    num_aces = 0 #num of aces\n",
    "    total = 0  #total score\n",
    "    for card in hand:\n",
    "        if card != 'A':\n",
    "            total += card  #if the card is not 'A', get the face value\n",
    "        else:\n",
    "            num_aces += 1  #how many aces does the hand card have\n",
    "    # Call function ace_values to produce list of possible values for aces in hand\n",
    "    ace_value_list = ace_values(num_aces) #get ace value from this hand of aces\n",
    "    final_totals = [i+total for i in ace_value_list if i+total<=21]  # total score in the hand\n",
    "    \n",
    "    if final_totals == []:\n",
    "        if ace_value_list == []:\n",
    "            return total\n",
    "        else:\n",
    "            return min(ace_value_list) + total\n",
    "    else:\n",
    "        return max(final_totals)"
   ]
  },
  {
   "cell_type": "code",
   "execution_count": 9,
   "metadata": {},
   "outputs": [],
   "source": [
    "# Play a game of blackjack (after the cards are dealt)\n",
    "# blackjack = set(['A',10])\n",
    "#1 check dealer_card == blackjack? yes, check player blackjack? player blackjack yes(0) no(player -1)\n",
    "#2 check player blackjack? yes player win\n",
    "def play_game(dealer_hand, player_hands, blackjack, curr_player_results, dealer_cards, hit_stand):\n",
    "    action = 0\n",
    "    # Dealer checks for 21\n",
    "    if set(dealer_hand) == blackjack:\n",
    "        for player in range(players):\n",
    "            if set(player_hands[player]) != blackjack:\n",
    "                curr_player_results[0,player] = -1 #player lose\n",
    "            else:\n",
    "                curr_player_results[0,player] = 0 # both have blackjack \n",
    "    else:\n",
    "        for player in range(players):\n",
    "            # Players check for 21\n",
    "            if set(player_hands[player]) == blackjack:\n",
    "                curr_player_results[0,player] = 1  #player lose\n",
    "            else:\n",
    "                # Hit randomly, check for busts\n",
    "                if (hit_stand >= 0.5) and (sum_up(player_hands[player]) != 21):\n",
    "                    player_hands[player].append(dealer_cards.pop(0))  #player get one more card\n",
    "                    action = 1  #hit\n",
    "                    live_total.append(sum_up(player_hands[player]))  #total card score in player hand\n",
    "                    if sum_up(player_hands[player]) > 21:\n",
    "                        curr_player_results[0,player] = -1  # player lose (bust)\n",
    "\n",
    "    # Dealer hits based on the rules\n",
    "    while sum_up(dealer_hand) < 17:\n",
    "        dealer_hand.append(dealer_cards.pop(0))  #dealer get one more card\n",
    "    # Compare dealer hand to players hand but first check if dealer busted\n",
    "    if sum_up(dealer_hand) > 21:\n",
    "        for player in range(players):\n",
    "            if curr_player_results[0,player] != -1:\n",
    "                curr_player_results[0,player] = 1\n",
    "    else:\n",
    "        for player in range(players):\n",
    "            if sum_up(player_hands[player]) > sum_up(dealer_hand):\n",
    "                if sum_up(player_hands[player]) <= 21:\n",
    "                    curr_player_results[0,player] = 1  #player win\n",
    "            elif sum_up(player_hands[player]) == sum_up(dealer_hand):\n",
    "                curr_player_results[0,player] = 0\n",
    "            else:\n",
    "                curr_player_results[0,player] = -1\n",
    "                \n",
    "    return curr_player_results, dealer_cards, action"
   ]
  },
  {
   "cell_type": "code",
   "execution_count": 10,
   "metadata": {},
   "outputs": [],
   "source": [
    "stacks = 10000\n",
    "players = 1\n",
    "num_decks = 4\n",
    "\n",
    "card_types = ['A',2,3,4,5,6,7,8,9,10,10,10,10]\n",
    "\n",
    "dealer_card_feature = []\n",
    "player_card_feature = []\n",
    "player_live_total = []\n",
    "player_live_action = []\n",
    "player_results = []\n",
    "\n",
    "for stack in range(stacks):\n",
    "    blackjack = set(['A',10])\n",
    "    dealer_cards = generate_decks(num_decks, card_types)\n",
    "    while len(dealer_cards) > 20:\n",
    "        \n",
    "        curr_player_results = np.zeros((1,players))\n",
    "        \n",
    "        dealer_hand = []\n",
    "        player_hands = [[] for player in range(players)]\n",
    "        live_total = []\n",
    "        live_action = []\n",
    "\n",
    "        # Deal FIRST card\n",
    "        for player, hand in enumerate(player_hands):\n",
    "            player_hands[player].append(dealer_cards.pop(0))\n",
    "        dealer_hand.append(dealer_cards.pop(0))\n",
    "        # Deal SECOND card\n",
    "        for player, hand in enumerate(player_hands):\n",
    "            player_hands[player].append(dealer_cards.pop(0))\n",
    "        dealer_hand.append(dealer_cards.pop(0))\n",
    "        \n",
    "        # Record the player's live total after cards are dealt\n",
    "        live_total.append(sum_up(player_hands[player]))\n",
    "        \n",
    "        if stack < 5000:\n",
    "            hit_stand = 1\n",
    "        else:\n",
    "            hit_stand = 0\n",
    "        curr_player_results, dealer_cards, action = play_game(dealer_hand, player_hands, \n",
    "                                                              blackjack, curr_player_results, \n",
    "                                                              dealer_cards, hit_stand)\n",
    "        \n",
    "        # Track features\n",
    "        dealer_card_feature.append(dealer_hand[0])\n",
    "        player_card_feature.append(player_hands)\n",
    "        player_results.append(list(curr_player_results[0]))\n",
    "        player_live_total.append(live_total)\n",
    "        player_live_action.append(action)\n",
    "\n",
    "model_df = pd.DataFrame()\n",
    "model_df['dealer_card'] = dealer_card_feature\n",
    "model_df['player_total_initial'] = [sum_up(i[0][0:2]) for i in player_card_feature]\n",
    "model_df['hit?'] = player_live_action\n",
    "\n",
    "has_ace = []\n",
    "for i in player_card_feature:\n",
    "    if ('A' in i[0][0:2]):\n",
    "        has_ace.append(1)\n",
    "    else:\n",
    "        has_ace.append(0)\n",
    "model_df['has_ace'] = has_ace\n",
    "\n",
    "dealer_card_num = []\n",
    "for i in model_df['dealer_card']:\n",
    "    if i=='A':\n",
    "        dealer_card_num.append(11)  #deal's card has no 1 ? \n",
    "    else:\n",
    "        dealer_card_num.append(i)\n",
    "model_df['dealer_card_num'] = dealer_card_num\n",
    "\n",
    "model_df['player_result'] = [i[0] for i in player_results]\n",
    "lose = []\n",
    "for i in model_df['player_result']:\n",
    "    if i == -1:\n",
    "        lose.append(1)\n",
    "    else:\n",
    "        lose.append(0)\n",
    "model_df['lose'] = lose\n",
    "\n",
    "correct = []  #correct action \n",
    "for i, val in enumerate(model_df['lose']):\n",
    "    if val == 1:\n",
    "        if player_live_action[i] == 1:\n",
    "            correct.append(0)\n",
    "        else:\n",
    "            correct.append(1)\n",
    "    else:\n",
    "        if player_live_action[i] == 1:\n",
    "            correct.append(1)\n",
    "        else:\n",
    "            correct.append(0)\n",
    "model_df['correct_action'] = correct"
   ]
  },
  {
   "cell_type": "code",
   "execution_count": 11,
   "metadata": {},
   "outputs": [
    {
     "name": "stdout",
     "output_type": "stream",
     "text": [
      "0          3\n",
      "1          7\n",
      "2         10\n",
      "3          A\n",
      "4          9\n",
      "          ..\n",
      "357585    10\n",
      "357586     7\n",
      "357587    10\n",
      "357588    10\n",
      "357589    10\n",
      "Name: dealer_card, Length: 357590, dtype: object\n"
     ]
    },
    {
     "data": {
      "text/plain": [
       "array([3, 7, 10, 'A', 9, 6, 8, 4, 5, 2], dtype=object)"
      ]
     },
     "execution_count": 11,
     "metadata": {},
     "output_type": "execute_result"
    }
   ],
   "source": [
    "print(model_df['dealer_card'])\n",
    "model_df['dealer_card'].unique()"
   ]
  },
  {
   "cell_type": "code",
   "execution_count": 12,
   "metadata": {},
   "outputs": [
    {
     "name": "stdout",
     "output_type": "stream",
     "text": [
      "[12 20 18 13 16 21 17  6 14 15  4  8 10 11 19  9  7  5]\n"
     ]
    }
   ],
   "source": [
    "print(model_df['player_total_initial'].unique())"
   ]
  },
  {
   "cell_type": "code",
   "execution_count": 13,
   "metadata": {},
   "outputs": [
    {
     "data": {
      "text/plain": [
       "array([ 3,  7, 10, 11,  9,  6,  8,  4,  5,  2])"
      ]
     },
     "execution_count": 13,
     "metadata": {},
     "output_type": "execute_result"
    }
   ],
   "source": [
    "model_df['dealer_card_num'].unique()"
   ]
  },
  {
   "cell_type": "code",
   "execution_count": 14,
   "metadata": {},
   "outputs": [
    {
     "name": "stdout",
     "output_type": "stream",
     "text": [
      "0         1\n",
      "1         0\n",
      "2         0\n",
      "3         0\n",
      "4         1\n",
      "         ..\n",
      "357585    0\n",
      "357586    0\n",
      "357587    1\n",
      "357588    1\n",
      "357589    0\n",
      "Name: correct_action, Length: 357590, dtype: int64\n"
     ]
    }
   ],
   "source": [
    "print(model_df['correct_action'])"
   ]
  },
  {
   "cell_type": "code",
   "execution_count": 15,
   "metadata": {},
   "outputs": [
    {
     "data": {
      "text/html": [
       "<div>\n",
       "<style scoped>\n",
       "    .dataframe tbody tr th:only-of-type {\n",
       "        vertical-align: middle;\n",
       "    }\n",
       "\n",
       "    .dataframe tbody tr th {\n",
       "        vertical-align: top;\n",
       "    }\n",
       "\n",
       "    .dataframe thead th {\n",
       "        text-align: right;\n",
       "    }\n",
       "</style>\n",
       "<table border=\"1\" class=\"dataframe\">\n",
       "  <thead>\n",
       "    <tr style=\"text-align: right;\">\n",
       "      <th></th>\n",
       "      <th>dealer_card</th>\n",
       "      <th>player_total_initial</th>\n",
       "      <th>hit?</th>\n",
       "      <th>has_ace</th>\n",
       "      <th>dealer_card_num</th>\n",
       "      <th>player_result</th>\n",
       "      <th>lose</th>\n",
       "      <th>correct_action</th>\n",
       "    </tr>\n",
       "  </thead>\n",
       "  <tbody>\n",
       "    <tr>\n",
       "      <td>0</td>\n",
       "      <td>3</td>\n",
       "      <td>12</td>\n",
       "      <td>1</td>\n",
       "      <td>0</td>\n",
       "      <td>3</td>\n",
       "      <td>1.0</td>\n",
       "      <td>0</td>\n",
       "      <td>1</td>\n",
       "    </tr>\n",
       "    <tr>\n",
       "      <td>1</td>\n",
       "      <td>7</td>\n",
       "      <td>20</td>\n",
       "      <td>1</td>\n",
       "      <td>0</td>\n",
       "      <td>7</td>\n",
       "      <td>-1.0</td>\n",
       "      <td>1</td>\n",
       "      <td>0</td>\n",
       "    </tr>\n",
       "    <tr>\n",
       "      <td>2</td>\n",
       "      <td>10</td>\n",
       "      <td>18</td>\n",
       "      <td>1</td>\n",
       "      <td>0</td>\n",
       "      <td>10</td>\n",
       "      <td>-1.0</td>\n",
       "      <td>1</td>\n",
       "      <td>0</td>\n",
       "    </tr>\n",
       "    <tr>\n",
       "      <td>3</td>\n",
       "      <td>A</td>\n",
       "      <td>18</td>\n",
       "      <td>1</td>\n",
       "      <td>0</td>\n",
       "      <td>11</td>\n",
       "      <td>-1.0</td>\n",
       "      <td>1</td>\n",
       "      <td>0</td>\n",
       "    </tr>\n",
       "    <tr>\n",
       "      <td>4</td>\n",
       "      <td>9</td>\n",
       "      <td>13</td>\n",
       "      <td>1</td>\n",
       "      <td>0</td>\n",
       "      <td>9</td>\n",
       "      <td>1.0</td>\n",
       "      <td>0</td>\n",
       "      <td>1</td>\n",
       "    </tr>\n",
       "    <tr>\n",
       "      <td>...</td>\n",
       "      <td>...</td>\n",
       "      <td>...</td>\n",
       "      <td>...</td>\n",
       "      <td>...</td>\n",
       "      <td>...</td>\n",
       "      <td>...</td>\n",
       "      <td>...</td>\n",
       "      <td>...</td>\n",
       "    </tr>\n",
       "    <tr>\n",
       "      <td>357585</td>\n",
       "      <td>10</td>\n",
       "      <td>21</td>\n",
       "      <td>0</td>\n",
       "      <td>1</td>\n",
       "      <td>10</td>\n",
       "      <td>1.0</td>\n",
       "      <td>0</td>\n",
       "      <td>0</td>\n",
       "    </tr>\n",
       "    <tr>\n",
       "      <td>357586</td>\n",
       "      <td>7</td>\n",
       "      <td>12</td>\n",
       "      <td>0</td>\n",
       "      <td>0</td>\n",
       "      <td>7</td>\n",
       "      <td>1.0</td>\n",
       "      <td>0</td>\n",
       "      <td>0</td>\n",
       "    </tr>\n",
       "    <tr>\n",
       "      <td>357587</td>\n",
       "      <td>10</td>\n",
       "      <td>13</td>\n",
       "      <td>0</td>\n",
       "      <td>0</td>\n",
       "      <td>10</td>\n",
       "      <td>-1.0</td>\n",
       "      <td>1</td>\n",
       "      <td>1</td>\n",
       "    </tr>\n",
       "    <tr>\n",
       "      <td>357588</td>\n",
       "      <td>10</td>\n",
       "      <td>16</td>\n",
       "      <td>0</td>\n",
       "      <td>1</td>\n",
       "      <td>10</td>\n",
       "      <td>-1.0</td>\n",
       "      <td>1</td>\n",
       "      <td>1</td>\n",
       "    </tr>\n",
       "    <tr>\n",
       "      <td>357589</td>\n",
       "      <td>10</td>\n",
       "      <td>21</td>\n",
       "      <td>0</td>\n",
       "      <td>1</td>\n",
       "      <td>10</td>\n",
       "      <td>1.0</td>\n",
       "      <td>0</td>\n",
       "      <td>0</td>\n",
       "    </tr>\n",
       "  </tbody>\n",
       "</table>\n",
       "<p>357590 rows × 8 columns</p>\n",
       "</div>"
      ],
      "text/plain": [
       "       dealer_card  player_total_initial  hit?  has_ace  dealer_card_num  \\\n",
       "0                3                    12     1        0                3   \n",
       "1                7                    20     1        0                7   \n",
       "2               10                    18     1        0               10   \n",
       "3                A                    18     1        0               11   \n",
       "4                9                    13     1        0                9   \n",
       "...            ...                   ...   ...      ...              ...   \n",
       "357585          10                    21     0        1               10   \n",
       "357586           7                    12     0        0                7   \n",
       "357587          10                    13     0        0               10   \n",
       "357588          10                    16     0        1               10   \n",
       "357589          10                    21     0        1               10   \n",
       "\n",
       "        player_result  lose  correct_action  \n",
       "0                 1.0     0               1  \n",
       "1                -1.0     1               0  \n",
       "2                -1.0     1               0  \n",
       "3                -1.0     1               0  \n",
       "4                 1.0     0               1  \n",
       "...               ...   ...             ...  \n",
       "357585            1.0     0               0  \n",
       "357586            1.0     0               0  \n",
       "357587           -1.0     1               1  \n",
       "357588           -1.0     1               1  \n",
       "357589            1.0     0               0  \n",
       "\n",
       "[357590 rows x 8 columns]"
      ]
     },
     "execution_count": 15,
     "metadata": {},
     "output_type": "execute_result"
    }
   ],
   "source": [
    "model_df"
   ]
  },
  {
   "cell_type": "code",
   "execution_count": 16,
   "metadata": {},
   "outputs": [
    {
     "name": "stdout",
     "output_type": "stream",
     "text": [
      "0.3977823764646662\n"
     ]
    }
   ],
   "source": [
    "coinflip_win_possibility = 1 - (model_df.sum()['lose'] /\\\n",
    "                  model_df.count()['lose'])\n",
    "print(coinflip_win_possibility)"
   ]
  },
  {
   "cell_type": "code",
   "execution_count": 17,
   "metadata": {},
   "outputs": [
    {
     "data": {
      "text/plain": [
       "357590"
      ]
     },
     "execution_count": 17,
     "metadata": {},
     "output_type": "execute_result"
    }
   ],
   "source": [
    "sum(pd.DataFrame(player_results)[0].value_counts())"
   ]
  },
  {
   "cell_type": "code",
   "execution_count": 18,
   "metadata": {},
   "outputs": [],
   "source": [
    "data = 1 - (model_df.groupby(by='dealer_card').sum()['lose'] /\\\n",
    "            model_df.groupby(by='dealer_card').count()['lose'])"
   ]
  },
  {
   "cell_type": "code",
   "execution_count": 19,
   "metadata": {},
   "outputs": [
    {
     "data": {
      "image/png": "[encoded data removed]",
      "text/plain": [
       "<Figure size 720x432 with 1 Axes>"
      ]
     },
     "metadata": {
      "needs_background": "light"
     },
     "output_type": "display_data"
    }
   ],
   "source": [
    "#From this we can see when the dealer has 6 in his card, he has the highest winning probability 48%\n",
    "#when the dealer has A in his hand, the probiliby is the smallest\n",
    "# bust \n",
    "fig, ax = plt.subplots(figsize=(10,6))\n",
    "ax = sns.barplot(x=data.index, y=data.values)\n",
    "\n",
    "ax.set_xlabel(\"Dealer's Card\",fontsize=16)\n",
    "ax.set_ylabel(\"Probability of Tie or Win\",fontsize=16)\n",
    "plt.tight_layout()\n",
    "plt.savefig(fname='dealer_card_probs', dpi=150)"
   ]
  },
  {
   "cell_type": "code",
   "execution_count": 20,
   "metadata": {},
   "outputs": [],
   "source": [
    "data = 1 - (model_df.groupby(by='player_total_initial').sum()['lose'] /\\\n",
    "            model_df.groupby(by='player_total_initial').count()['lose'])"
   ]
  },
  {
   "cell_type": "code",
   "execution_count": 21,
   "metadata": {},
   "outputs": [
    {
     "data": {
      "image/png": "[encoded data removed]",
      "text/plain": [
       "<Figure size 720x432 with 1 Axes>"
      ]
     },
     "metadata": {
      "needs_background": "light"
     },
     "output_type": "display_data"
    }
   ],
   "source": [
    "#when the player hand value is 19, 20 has the higher winning probality\n",
    "fig, ax = plt.subplots(figsize=(10,6))\n",
    "ax = sns.barplot(x=data[:-1].index,\n",
    "                 y=data[:-1].values)\n",
    "ax.set_xlabel(\"Player's Hand Value\",fontsize=16)\n",
    "ax.set_ylabel(\"Probability of Tie or Win\",fontsize=16)\n",
    "\n",
    "plt.tight_layout()\n",
    "plt.savefig(fname='player_hand_probs', dpi=150)"
   ]
  },
  {
   "cell_type": "code",
   "execution_count": 22,
   "metadata": {},
   "outputs": [
    {
     "data": {
      "text/plain": [
       "has_ace\n",
       "0    0.644167\n",
       "1    0.362290\n",
       "Name: lose, dtype: float64"
      ]
     },
     "execution_count": 22,
     "metadata": {},
     "output_type": "execute_result"
    }
   ],
   "source": [
    "#when the player does not have ace the winner probability is higher?\n",
    "model_df.groupby(by='has_ace').sum()['lose'] / model_df.groupby(by='has_ace').count()['lose']"
   ]
  },
  {
   "cell_type": "code",
   "execution_count": 23,
   "metadata": {},
   "outputs": [
    {
     "data": {
      "image/png": "[encoded data removed]",
      "text/plain": [
       "<Figure size 1152x576 with 2 Axes>"
      ]
     },
     "metadata": {
      "needs_background": "light"
     },
     "output_type": "display_data"
    }
   ],
   "source": [
    "pivot_data = model_df[model_df['player_total_initial'] != 21]\n",
    "\n",
    "losses_pivot = pd.pivot_table(pivot_data, values='lose', \n",
    "                              index=['dealer_card_num'],\n",
    "                              columns = ['player_total_initial'],\n",
    "                              aggfunc = np.sum)\n",
    "\n",
    "games_pivot =  pd.pivot_table(pivot_data, values='lose', \n",
    "                              index=['dealer_card_num'],\n",
    "                              columns = ['player_total_initial'],\n",
    "                              aggfunc = 'count')\n",
    "\n",
    "heat_data = 1 - losses_pivot.sort_index(ascending=False) / games_pivot.sort_index(ascending=False)\n",
    "\n",
    "fig, ax = plt.subplots(figsize=(16,8))\n",
    "sns.heatmap(heat_data, square=False, cmap=\"PiYG\");\n",
    "\n",
    "ax.set_xlabel(\"Player's Hand Value\",fontsize=16)\n",
    "ax.set_ylabel(\"Dealer's Card\",fontsize=16)\n",
    "\n",
    "plt.savefig(fname='heat_map_random', dpi=150)"
   ]
  },
  {
   "cell_type": "code",
   "execution_count": 24,
   "metadata": {},
   "outputs": [],
   "source": [
    "stacks = 10000\n",
    "players = 1\n",
    "num_decks = 4\n",
    "\n",
    "# a different strategy \n",
    "# Hit only when we know we will not bust hit when we know our hand value is not than 11 \n",
    "\n",
    "card_types = ['A',2,3,4,5,6,7,8,9,10,10,10,10]\n",
    "\n",
    "dealer_card_feature = []\n",
    "player_card_feature = []\n",
    "player_results = []\n",
    "player_live_action = []\n",
    "\n",
    "\n",
    "for stack in range(stacks):\n",
    "    blackjack = set(['A',10])\n",
    "    dealer_cards = generate_decks(num_decks, card_types)\n",
    "\n",
    "    while len(dealer_cards) > 20:\n",
    "        \n",
    "        curr_player_results = np.zeros((1,players))\n",
    "        \n",
    "        dealer_hand = []\n",
    "        player_hands = [[] for player in range(players)]\n",
    "        player_aces = [[] for player in range(players)]\n",
    "\n",
    "        # Deal FIRST card\n",
    "        for player, hand in enumerate(player_hands):\n",
    "            if(dealer_cards[-1] == 'A'):\n",
    "                player_aces[player].append(1)\n",
    "                player_hands[player].append(dealer_cards.pop(0))\n",
    "            else:\n",
    "                player_aces[player].append(0)\n",
    "                player_hands[player].append(dealer_cards.pop(0))       \n",
    "        dealer_hand.append(dealer_cards.pop(0))\n",
    "        # Deal SECOND card\n",
    "        for player, hand in enumerate(player_hands):\n",
    "            if(dealer_cards[-1] == 'A'):\n",
    "                player_aces[player].append(1)\n",
    "                player_hands[player].append(dealer_cards.pop(0))\n",
    "            else:\n",
    "                player_aces[player].append(0)\n",
    "                player_hands[player].append(dealer_cards.pop(0))\n",
    "        dealer_hand.append(dealer_cards.pop(0))\n",
    "        \n",
    "        action = 0\n",
    "\n",
    "        # Dealer checks for 21\n",
    "        if set(dealer_hand) == blackjack:\n",
    "            for player in range(players):\n",
    "                if set(player_hands[player]) != blackjack:\n",
    "                    curr_player_results[0,player] = -1\n",
    "                else:\n",
    "                    curr_player_results[0,player] = 0\n",
    "        else:\n",
    "            for player in range(players):\n",
    "                # Players check for 21\n",
    "                if set(player_hands[player]) == blackjack:\n",
    "                    curr_player_results[0,player] = 1\n",
    "                else:\n",
    "                    dealer_first_hand = 0\n",
    "                    if dealer_hand[0] == 'A':\n",
    "                        dealer_first_hand = 10\n",
    "                    else:\n",
    "                        dealer_first_hand = dealer_hand[0]\n",
    "                        \n",
    "                    # smart strategy\n",
    "                    if dealer_first_hand > 7 and sum_up(player_hands[player]) < 13:\n",
    "                        player_hands[player].append(dealer_cards.pop(0))\n",
    "                        action = 1\n",
    "                    elif dealer_first_hand > 8 and sum_up(player_hands[player]) < 14:\n",
    "                        player_hands[player].append(dealer_cards.pop(0))\n",
    "                        action = 1\n",
    "                    elif dealer_first_hand < 12:\n",
    "                        player_hands[player].append(dealer_cards.pop(0))\n",
    "                        action = 1\n",
    "                    elif dealer_first_hand > 7 and sum_up(player_hands[player]) < 19 and player_aces[player] > 0:\n",
    "                        player_hands[player].append(dealer_cards.pop(0))\n",
    "                        action = 1\n",
    "                    elif sum_up(player_hands[player]) > 21:\n",
    "                        curr_player_results[0,player] = -1\n",
    "                        break\n",
    "                    \n",
    "                     # Hit only when we know we will not bust\n",
    "#                     while sum_up(player_hands[player]) <= 11:\n",
    "#                         player_hands[player].append(dealer_cards.pop(0))\n",
    "#                         action = 1\n",
    "#                         if sum_up(player_hands[player]) > 21:\n",
    "#                             curr_player_results[0,player] = -1\n",
    "#                             break\n",
    "\n",
    "        \n",
    "        # Dealer hits based on the rules\n",
    "        while sum_up(dealer_hand) < 17:\n",
    "            dealer_hand.append(dealer_cards.pop(0))\n",
    "        # Compare dealer hand to players hand but first check if dealer busted\n",
    "        if sum_up(dealer_hand) > 21:\n",
    "            for player in range(players):\n",
    "                if curr_player_results[0,player] != -1:\n",
    "                    curr_player_results[0,player] = 1\n",
    "        else:\n",
    "            for player in range(players):\n",
    "                if sum_up(player_hands[player]) > sum_up(dealer_hand):\n",
    "                    if sum_up(player_hands[player]) <= 21:\n",
    "                        curr_player_results[0,player] = 1\n",
    "                elif sum_up(player_hands[player]) == sum_up(dealer_hand):\n",
    "                    curr_player_results[0,player] = 0\n",
    "                else:\n",
    "                    curr_player_results[0,player] = -1\n",
    "        # Track features\n",
    "        dealer_card_feature.append(dealer_hand[0])\n",
    "        player_card_feature.append(player_hands)\n",
    "        player_results.append(list(curr_player_results[0]))\n",
    "        player_live_action.append(action)\n",
    "    \n",
    "model_df_naive_modified = pd.DataFrame()\n",
    "model_df_naive_modified['dealer_card'] = dealer_card_feature\n",
    "model_df_naive_modified['player_total_initial'] = [sum_up(i[0][0:2]) for i in player_card_feature]\n",
    "model_df_naive_modified['player_result'] = [i[0] for i in player_results]\n",
    "model_df_naive_modified['hit?'] = player_live_action\n",
    "\n",
    "lose = []\n",
    "for i in model_df_naive_modified['player_result']:\n",
    "    if i == -1:\n",
    "        lose.append(1)\n",
    "    else:\n",
    "        lose.append(0)\n",
    "model_df_naive_modified['lose'] = lose\n",
    "\n",
    "has_ace = []\n",
    "for i in player_card_feature:\n",
    "    if ('A' in i[0][0:2]):\n",
    "        has_ace.append(1)\n",
    "    else:\n",
    "        has_ace.append(0)\n",
    "model_df_naive_modified['has_ace'] = has_ace\n",
    "\n",
    "dealer_card_num = []\n",
    "for i in model_df_naive_modified['dealer_card']:\n",
    "    if i=='A':\n",
    "        dealer_card_num.append(11)\n",
    "    else:\n",
    "        dealer_card_num.append(i)\n",
    "model_df_naive_modified['dealer_card_num'] = dealer_card_num\n",
    "\n",
    "correct = []  #correct action \n",
    "for i, val in enumerate(model_df_naive_modified['lose']):\n",
    "    if val == 1:\n",
    "        if player_live_action[i] == 1:\n",
    "            correct.append(0)\n",
    "        else:\n",
    "            correct.append(1)\n",
    "    else:\n",
    "        if player_live_action[i] == 1:\n",
    "            correct.append(1)\n",
    "        else:\n",
    "            correct.append(0)\n",
    "model_df_naive_modified['correct_action'] = correct"
   ]
  },
  {
   "cell_type": "code",
   "execution_count": 25,
   "metadata": {},
   "outputs": [
    {
     "data": {
      "text/html": [
       "<div>\n",
       "<style scoped>\n",
       "    .dataframe tbody tr th:only-of-type {\n",
       "        vertical-align: middle;\n",
       "    }\n",
       "\n",
       "    .dataframe tbody tr th {\n",
       "        vertical-align: top;\n",
       "    }\n",
       "\n",
       "    .dataframe thead th {\n",
       "        text-align: right;\n",
       "    }\n",
       "</style>\n",
       "<table border=\"1\" class=\"dataframe\">\n",
       "  <thead>\n",
       "    <tr style=\"text-align: right;\">\n",
       "      <th></th>\n",
       "      <th>dealer_card</th>\n",
       "      <th>player_total_initial</th>\n",
       "      <th>player_result</th>\n",
       "      <th>hit?</th>\n",
       "      <th>lose</th>\n",
       "      <th>has_ace</th>\n",
       "      <th>dealer_card_num</th>\n",
       "      <th>correct_action</th>\n",
       "    </tr>\n",
       "  </thead>\n",
       "  <tbody>\n",
       "    <tr>\n",
       "      <td>0</td>\n",
       "      <td>3</td>\n",
       "      <td>12</td>\n",
       "      <td>-1.0</td>\n",
       "      <td>1</td>\n",
       "      <td>1</td>\n",
       "      <td>0</td>\n",
       "      <td>3</td>\n",
       "      <td>0</td>\n",
       "    </tr>\n",
       "    <tr>\n",
       "      <td>1</td>\n",
       "      <td>5</td>\n",
       "      <td>16</td>\n",
       "      <td>0.0</td>\n",
       "      <td>1</td>\n",
       "      <td>0</td>\n",
       "      <td>0</td>\n",
       "      <td>5</td>\n",
       "      <td>1</td>\n",
       "    </tr>\n",
       "    <tr>\n",
       "      <td>2</td>\n",
       "      <td>10</td>\n",
       "      <td>19</td>\n",
       "      <td>1.0</td>\n",
       "      <td>1</td>\n",
       "      <td>0</td>\n",
       "      <td>0</td>\n",
       "      <td>10</td>\n",
       "      <td>1</td>\n",
       "    </tr>\n",
       "    <tr>\n",
       "      <td>3</td>\n",
       "      <td>10</td>\n",
       "      <td>19</td>\n",
       "      <td>0.0</td>\n",
       "      <td>1</td>\n",
       "      <td>0</td>\n",
       "      <td>0</td>\n",
       "      <td>10</td>\n",
       "      <td>1</td>\n",
       "    </tr>\n",
       "    <tr>\n",
       "      <td>4</td>\n",
       "      <td>5</td>\n",
       "      <td>15</td>\n",
       "      <td>1.0</td>\n",
       "      <td>1</td>\n",
       "      <td>0</td>\n",
       "      <td>0</td>\n",
       "      <td>5</td>\n",
       "      <td>1</td>\n",
       "    </tr>\n",
       "  </tbody>\n",
       "</table>\n",
       "</div>"
      ],
      "text/plain": [
       "  dealer_card  player_total_initial  player_result  hit?  lose  has_ace  \\\n",
       "0           3                    12           -1.0     1     1        0   \n",
       "1           5                    16            0.0     1     0        0   \n",
       "2          10                    19            1.0     1     0        0   \n",
       "3          10                    19            0.0     1     0        0   \n",
       "4           5                    15            1.0     1     0        0   \n",
       "\n",
       "   dealer_card_num  correct_action  \n",
       "0                3               0  \n",
       "1                5               1  \n",
       "2               10               1  \n",
       "3               10               1  \n",
       "4                5               1  "
      ]
     },
     "execution_count": 25,
     "metadata": {},
     "output_type": "execute_result"
    }
   ],
   "source": [
    "model_df_naive_modified.head()"
   ]
  },
  {
   "cell_type": "code",
   "execution_count": 26,
   "metadata": {},
   "outputs": [
    {
     "name": "stdout",
     "output_type": "stream",
     "text": [
      "0.722187646818351\n"
     ]
    }
   ],
   "source": [
    "naive_modified_win_possibility = 1 - (model_df_naive_modified.sum()['lose'] /\\\n",
    "                  model_df_naive_modified.count()['lose'])\n",
    "print(naive_modified_win_possibility)"
   ]
  },
  {
   "cell_type": "code",
   "execution_count": 27,
   "metadata": {},
   "outputs": [
    {
     "data": {
      "image/png": "[encoded data removed]",
      "text/plain": [
       "<Figure size 864x432 with 1 Axes>"
      ]
     },
     "metadata": {
      "needs_background": "light"
     },
     "output_type": "display_data"
    }
   ],
   "source": [
    "# As we can see use some strategy, we can see that the winning probability has increased\n",
    "# data_naive = 1 - (model_df_naive.groupby(by='dealer_card_num').sum()['lose'] /\\\n",
    "#                   model_df_naive.groupby(by='dealer_card_num').count()['lose'])\n",
    "data_naive_modified = 1 - (model_df_naive_modified.groupby(by='dealer_card_num').sum()['lose'] /\\\n",
    "                  model_df_naive_modified.groupby(by='dealer_card_num').count()['lose'])\n",
    "data_random = 1 - (model_df.groupby(by='dealer_card_num').sum()['lose'] /\\\n",
    "                   model_df.groupby(by='dealer_card_num').count()['lose'])\n",
    "\n",
    "data = pd.DataFrame()\n",
    "# data['naive'] = data_naive\n",
    "data['naive_modified'] = data_naive_modified\n",
    "data['random'] = data_random\n",
    "\n",
    "fig, ax = plt.subplots(figsize=(12,6))\n",
    "# ax.bar(x=data.index-0.28, height=data['naive'].values, color='blue', width=0.3, label='naive')\n",
    "ax.bar(x=data.index, height=data['naive_modified'].values, color='purple', width=0.3, label='naive_modified')\n",
    "ax.bar(x=data.index+0.28, height=data['random'].values, color='red', width=0.3, label='Coin Flip')\n",
    "ax.set_xlabel(\"Dealer's Card\",fontsize=16)\n",
    "ax.set_ylabel(\"Probability of Tie or Win\",fontsize=16)\n",
    "plt.xticks(np.arange(2, 12, 1.0))\n",
    "\n",
    "plt.legend()\n",
    "plt.tight_layout()\n",
    "plt.savefig(fname='dealer_card_probs_naive', dpi=150)"
   ]
  },
  {
   "cell_type": "code",
   "execution_count": 28,
   "metadata": {},
   "outputs": [
    {
     "data": {
      "image/png": "[encoded data removed]",
      "text/plain": [
       "<Figure size 864x432 with 1 Axes>"
      ]
     },
     "metadata": {
      "needs_background": "light"
     },
     "output_type": "display_data"
    }
   ],
   "source": [
    "#winning probability has increased\n",
    "# data_naive = 1 - (model_df_naive.groupby(by='player_total_initial').sum()['lose'] /\\\n",
    "#                   model_df_naive.groupby(by='player_total_initial').count()['lose'])\n",
    "data_naive_modified = 1 - (model_df_naive_modified.groupby(by='player_total_initial').sum()['lose'] /\\\n",
    "                  model_df_naive_modified.groupby(by='player_total_initial').count()['lose'])\n",
    "data_random = 1 - (model_df.groupby(by='player_total_initial').sum()['lose'] /\\\n",
    "                   model_df.groupby(by='player_total_initial').count()['lose'])\n",
    "\n",
    "data = pd.DataFrame()\n",
    "# data['naive'] = data_naive[:-1]\n",
    "data['naive_modified'] = data_naive_modified\n",
    "data['random'] = data_random[:-1]\n",
    "\n",
    "fig, ax = plt.subplots(figsize=(12,6))\n",
    "# ax.bar(x=data.index-0.28, height=data['naive'].values, color='blue', width=0.3, label='naive')\n",
    "ax.bar(x=data.index, height=data['naive_modified'].values, color='purple', width=0.3, label='naive_modified')\n",
    "ax.bar(x=data.index+0.28, height=data['random'].values, color='red', width=0.4, label='Coin Flip')\n",
    "ax.set_xlabel(\"Player's Hand Value\",fontsize=16)\n",
    "ax.set_ylabel(\"Probability of Tie or Win\",fontsize=16)\n",
    "plt.xticks(np.arange(4, 21, 1.0))\n",
    "\n",
    "plt.legend()\n",
    "plt.tight_layout()\n",
    "plt.savefig(fname='player_hand_probs_naive', dpi=150)"
   ]
  },
  {
   "cell_type": "code",
   "execution_count": 29,
   "metadata": {},
   "outputs": [
    {
     "name": "stdout",
     "output_type": "stream",
     "text": [
      "['player_total_initial', 'hit?', 'has_ace', 'dealer_card_num']\n",
      "[[12  1  0  3]\n",
      " [16  1  0  5]\n",
      " [19  1  0 10]\n",
      " ...\n",
      " [ 8  1  0  4]\n",
      " [13  1  0  5]\n",
      " [13  1  0  6]]\n"
     ]
    }
   ],
   "source": [
    "feature_list_modified = [i for i in model_df_naive_modified.columns if i not in ['dealer_card',\n",
    "                                                         'player_result','lose',\n",
    "                                                         'correct_action']]\n",
    "print(feature_list_modified)\n",
    "train_X_modified = np.array(model_df_naive_modified[feature_list_modified])\n",
    "train_Y_modified = np.array(model_df_naive_modified['correct_action']).reshape(-1,1)  #is our target \n",
    "print(train_X_modified)"
   ]
  },
  {
   "cell_type": "code",
   "execution_count": 30,
   "metadata": {},
   "outputs": [
    {
     "data": {
      "text/plain": [
       "(327786, 1)"
      ]
     },
     "execution_count": 30,
     "metadata": {},
     "output_type": "execute_result"
    }
   ],
   "source": [
    "train_Y_modified.shape"
   ]
  },
  {
   "cell_type": "code",
   "execution_count": 31,
   "metadata": {},
   "outputs": [
    {
     "name": "stdout",
     "output_type": "stream",
     "text": [
      "Epoch 1/10\n",
      "327786/327786 [==============================] - 16s 49us/step - loss: 0.4992\n",
      "Epoch 2/10\n",
      "327786/327786 [==============================] - 14s 43us/step - loss: 0.4847\n",
      "Epoch 3/10\n",
      "327786/327786 [==============================] - 15s 46us/step - loss: 0.4831\n",
      "Epoch 4/10\n",
      "327786/327786 [==============================] - 15s 45us/step - loss: 0.4823\n",
      "Epoch 5/10\n",
      "327786/327786 [==============================] - 15s 45us/step - loss: 0.4819\n",
      "Epoch 6/10\n",
      "327786/327786 [==============================] - 15s 45us/step - loss: 0.4816\n",
      "Epoch 7/10\n",
      "327786/327786 [==============================] - 15s 45us/step - loss: 0.4813\n",
      "Epoch 8/10\n",
      "327786/327786 [==============================] - 15s 46us/step - loss: 0.4811\n",
      "Epoch 9/10\n",
      "327786/327786 [==============================] - 15s 45us/step - loss: 0.4810\n",
      "Epoch 10/10\n",
      "327786/327786 [==============================] - 15s 45us/step - loss: 0.4809\n"
     ]
    }
   ],
   "source": [
    "model_modified = Sequential()\n",
    "model_modified.add(Dense(16))\n",
    "model_modified.add(Dense(32))\n",
    "model_modified.add(Dense(16))\n",
    "model_modified.add(Dense(8))\n",
    "model_modified.add(Dense(1, activation='sigmoid'))  #activation layer activation func 'sigmoid'\n",
    "model_modified.compile(loss='binary_crossentropy', optimizer='sgd')\n",
    "model_modified.fit(train_X_modified, train_Y_modified, epochs=10, batch_size=32, verbose=1) \n",
    "pred_Y_train_modified = model_modified.predict(train_X_modified)\n",
    "actuals_modified = train_Y_modified[:,-1]\n"
   ]
  },
  {
   "cell_type": "code",
   "execution_count": 32,
   "metadata": {},
   "outputs": [
    {
     "data": {
      "image/png": "[encoded data removed]",
      "text/plain": [
       "<Figure size 576x432 with 1 Axes>"
      ]
     },
     "metadata": {
      "needs_background": "light"
     },
     "output_type": "display_data"
    }
   ],
   "source": [
    "fpr, tpr, threshold = metrics.roc_curve(actuals_modified, pred_Y_train_modified)\n",
    "roc_auc = metrics.auc(fpr, tpr)\n",
    "\n",
    "fig, ax = plt.subplots(figsize=(8,6))\n",
    "plt.plot(fpr, tpr, label = ('ROC AUC = %0.3f' % roc_auc))\n",
    "\n",
    "plt.legend(loc = 'lower right')\n",
    "plt.plot([0, 1], [0, 1],'r--')\n",
    "plt.xlim([0, 1])\n",
    "plt.ylim([0, 1])\n",
    "ax.set_xlabel(\"False Positive Rate\",fontsize=16)\n",
    "ax.set_ylabel(\"True Positive Rate\",fontsize=16)\n",
    "plt.setp(ax.get_legend().get_texts(), fontsize=16)\n",
    "\n",
    "plt.savefig(fname='roc_curve_blackjack', dpi=150)\n",
    "plt.show()"
   ]
  },
  {
   "cell_type": "code",
   "execution_count": 33,
   "metadata": {},
   "outputs": [],
   "source": [
    "#train_X train_Y\n",
    "from sklearn.neural_network import MLPClassifier\n",
    "mlp = MLPClassifier(hidden_layer_sizes=(16, 32, 8),max_iter=10000, verbose=10)\n"
   ]
  },
  {
   "cell_type": "code",
   "execution_count": 34,
   "metadata": {},
   "outputs": [
    {
     "name": "stdout",
     "output_type": "stream",
     "text": [
      "['player_total_initial', 'hit?', 'has_ace', 'dealer_card_num']\n",
      "[[12  1  0  3]\n",
      " [16  1  0  5]\n",
      " [19  1  0 10]\n",
      " ...\n",
      " [ 8  1  0  4]\n",
      " [13  1  0  5]\n",
      " [13  1  0  6]]\n"
     ]
    }
   ],
   "source": [
    "feature_list_test = [i for i in model_df_naive_modified.columns if i not in ['dealer_card',\n",
    "                                                         'player_result','lose',\n",
    "                                                         'correct_action']]\n",
    "print(feature_list_test)\n",
    "train_X_test = np.array(model_df_naive_modified[feature_list_test])\n",
    "train_Y_test = np.array(model_df_naive_modified['correct_action']).reshape(-1,1)  #is our target \n",
    "print(train_X_test)"
   ]
  },
  {
   "cell_type": "code",
   "execution_count": 35,
   "metadata": {},
   "outputs": [
    {
     "name": "stderr",
     "output_type": "stream",
     "text": [
      "/usr/local/lib/python3.7/site-packages/sklearn/neural_network/multilayer_perceptron.py:921: DataConversionWarning: A column-vector y was passed when a 1d array was expected. Please change the shape of y to (n_samples, ), for example using ravel().\n",
      "  y = column_or_1d(y, warn=True)\n"
     ]
    },
    {
     "name": "stdout",
     "output_type": "stream",
     "text": [
      "Iteration 1, loss = 0.45958058\n",
      "Iteration 2, loss = 0.41375737\n",
      "Iteration 3, loss = 0.41089043\n",
      "Iteration 4, loss = 0.40939216\n",
      "Iteration 5, loss = 0.40898736\n",
      "Iteration 6, loss = 0.40837516\n",
      "Iteration 7, loss = 0.40826313\n",
      "Iteration 8, loss = 0.40775836\n",
      "Iteration 9, loss = 0.40772651\n",
      "Iteration 10, loss = 0.40738584\n",
      "Iteration 11, loss = 0.40726243\n",
      "Iteration 12, loss = 0.40710833\n",
      "Iteration 13, loss = 0.40678206\n",
      "Iteration 14, loss = 0.40697770\n",
      "Iteration 15, loss = 0.40689355\n",
      "Iteration 16, loss = 0.40661184\n",
      "Iteration 17, loss = 0.40653800\n",
      "Iteration 18, loss = 0.40644687\n",
      "Iteration 19, loss = 0.40636370\n",
      "Iteration 20, loss = 0.40616879\n",
      "Iteration 21, loss = 0.40600961\n",
      "Iteration 22, loss = 0.40595278\n",
      "Iteration 23, loss = 0.40570086\n",
      "Iteration 24, loss = 0.40569623\n",
      "Iteration 25, loss = 0.40553768\n",
      "Iteration 26, loss = 0.40548094\n",
      "Iteration 27, loss = 0.40538219\n",
      "Iteration 28, loss = 0.40527025\n",
      "Iteration 29, loss = 0.40503710\n",
      "Iteration 30, loss = 0.40493667\n",
      "Iteration 31, loss = 0.40505574\n",
      "Iteration 32, loss = 0.40486614\n",
      "Iteration 33, loss = 0.40476965\n",
      "Iteration 34, loss = 0.40468098\n",
      "Iteration 35, loss = 0.40448432\n",
      "Iteration 36, loss = 0.40428855\n",
      "Iteration 37, loss = 0.40447741\n",
      "Iteration 38, loss = 0.40426488\n",
      "Iteration 39, loss = 0.40415437\n",
      "Iteration 40, loss = 0.40415983\n",
      "Iteration 41, loss = 0.40414146\n",
      "Iteration 42, loss = 0.40404918\n",
      "Iteration 43, loss = 0.40390719\n",
      "Iteration 44, loss = 0.40391297\n",
      "Iteration 45, loss = 0.40388240\n",
      "Iteration 46, loss = 0.40376139\n",
      "Iteration 47, loss = 0.40365699\n",
      "Iteration 48, loss = 0.40360758\n",
      "Iteration 49, loss = 0.40353998\n",
      "Iteration 50, loss = 0.40350201\n",
      "Iteration 51, loss = 0.40355375\n",
      "Iteration 52, loss = 0.40368620\n",
      "Iteration 53, loss = 0.40323562\n",
      "Iteration 54, loss = 0.40331541\n",
      "Iteration 55, loss = 0.40329964\n",
      "Iteration 56, loss = 0.40346099\n",
      "Iteration 57, loss = 0.40330824\n",
      "Iteration 58, loss = 0.40316719\n",
      "Iteration 59, loss = 0.40321325\n",
      "Iteration 60, loss = 0.40314957\n",
      "Iteration 61, loss = 0.40314647\n",
      "Iteration 62, loss = 0.40301460\n",
      "Iteration 63, loss = 0.40316222\n",
      "Iteration 64, loss = 0.40320210\n",
      "Iteration 65, loss = 0.40329477\n",
      "Iteration 66, loss = 0.40291966\n",
      "Iteration 67, loss = 0.40303839\n",
      "Iteration 68, loss = 0.40312806\n",
      "Iteration 69, loss = 0.40306834\n",
      "Iteration 70, loss = 0.40300019\n",
      "Iteration 71, loss = 0.40298620\n",
      "Iteration 72, loss = 0.40301526\n",
      "Iteration 73, loss = 0.40283493\n",
      "Training loss did not improve more than tol=0.000100 for 10 consecutive epochs. Stopping.\n"
     ]
    },
    {
     "data": {
      "text/plain": [
       "MLPClassifier(activation='relu', alpha=0.0001, batch_size='auto', beta_1=0.9,\n",
       "              beta_2=0.999, early_stopping=False, epsilon=1e-08,\n",
       "              hidden_layer_sizes=(16, 32, 8), learning_rate='constant',\n",
       "              learning_rate_init=0.001, max_iter=10000, momentum=0.9,\n",
       "              n_iter_no_change=10, nesterovs_momentum=True, power_t=0.5,\n",
       "              random_state=None, shuffle=True, solver='adam', tol=0.0001,\n",
       "              validation_fraction=0.1, verbose=10, warm_start=False)"
      ]
     },
     "execution_count": 35,
     "metadata": {},
     "output_type": "execute_result"
    }
   ],
   "source": [
    "mlp.fit(train_X_test, train_Y_test)"
   ]
  },
  {
   "cell_type": "code",
   "execution_count": 36,
   "metadata": {},
   "outputs": [
    {
     "name": "stdout",
     "output_type": "stream",
     "text": [
      "Test accuracy 0.7974135564057038\n"
     ]
    }
   ],
   "source": [
    "print('Test accuracy', mlp.score(train_X_test,train_Y_test))"
   ]
  },
  {
   "cell_type": "code",
   "execution_count": 37,
   "metadata": {},
   "outputs": [],
   "source": [
    "# and then based on that prediction, \n",
    "# use this model to predict the action \n",
    "\n",
    "def model_decision(model, player_sum, has_ace, dealer_card_num):\n",
    "    input_array = np.array([player_sum, 0, has_ace, dealer_card_num]).reshape(1,-1)\n",
    "    predict_correct = model.predict(input_array)\n",
    "    if predict_correct >= 0.50:\n",
    "        return 1\n",
    "    else:\n",
    "        return 0"
   ]
  },
  {
   "cell_type": "code",
   "execution_count": 38,
   "metadata": {},
   "outputs": [],
   "source": [
    "# Play blackjack but use the neural net to make hit/stay decision\n",
    "\n",
    "stacks = 10000\n",
    "players = 1\n",
    "num_decks = 4\n",
    "\n",
    "card_types = ['A',2,3,4,5,6,7,8,9,10,10,10,10]\n",
    "\n",
    "dealer_card_feature = []\n",
    "player_card_feature = []\n",
    "player_live_total = []\n",
    "player_live_action = []\n",
    "player_results = []\n",
    "\n",
    "for stack in range(stacks):\n",
    "    blackjack = set(['A',10])\n",
    "    dealer_cards = generate_decks(num_decks, card_types)\n",
    "    while len(dealer_cards) > 20:\n",
    "        \n",
    "        curr_player_results = np.zeros((1,players))\n",
    "        \n",
    "        dealer_hand = []\n",
    "        player_hands = [[] for player in range(players)]\n",
    "        live_total = []\n",
    "        live_action = []\n",
    "\n",
    "        # Deal FIRST card\n",
    "        for player, hand in enumerate(player_hands):\n",
    "            player_hands[player].append(dealer_cards.pop(0))\n",
    "        dealer_hand.append(dealer_cards.pop(0))\n",
    "        # Deal SECOND card\n",
    "        for player, hand in enumerate(player_hands):\n",
    "            player_hands[player].append(dealer_cards.pop(0))\n",
    "        dealer_hand.append(dealer_cards.pop(0))\n",
    "        \n",
    "        # Record the player's live total after cards are dealt\n",
    "        live_total.append(sum_up(player_hands[player]))\n",
    "        action = 0\n",
    "\n",
    "        # Dealer checks for 21\n",
    "        if set(dealer_hand) == blackjack:\n",
    "            for player in range(players):\n",
    "                if set(player_hands[player]) != blackjack:\n",
    "                    curr_player_results[0,player] = -1\n",
    "                else:\n",
    "                    curr_player_results[0,player] = 0\n",
    "        else:\n",
    "            for player in range(players):\n",
    "                # Players check for 21\n",
    "                if set(player_hands[player]) == blackjack:\n",
    "                    curr_player_results[0,player] = 1\n",
    "                else:\n",
    "                    # Neural net decides whether to hit or stand\n",
    "                    if 'A' in player_hands[player][0:2]:\n",
    "                        ace_in_hand = 1\n",
    "                    else:\n",
    "                        ace_in_hand = 0\n",
    "                    if dealer_hand[0] == 'A':\n",
    "                        dealer_face_up_card = 11\n",
    "                    else:\n",
    "                        dealer_face_up_card = dealer_hand[0]\n",
    "                    \n",
    "                    while (model_decision(model_modified, sum_up(player_hands[player]), \n",
    "                                          ace_in_hand, dealer_face_up_card) == 1) and (sum_up(player_hands[player]) != 21):\n",
    "                        player_hands[player].append(dealer_cards.pop(0))\n",
    "                        action = 1\n",
    "                        live_total.append(sum_up(player_hands[player]))\n",
    "                        if sum_up(player_hands[player]) > 21:\n",
    "                            curr_player_results[0,player] = -1\n",
    "                            break\n",
    "        \n",
    "        # Dealer hits based on the rules\n",
    "        while sum_up(dealer_hand) < 17:\n",
    "            dealer_hand.append(dealer_cards.pop(0))\n",
    "        # Compare dealer hand to players hand but first check if dealer busted\n",
    "        if sum_up(dealer_hand) > 21:\n",
    "            for player in range(players):\n",
    "                if curr_player_results[0,player] != -1:\n",
    "                    curr_player_results[0,player] = 1\n",
    "        else:\n",
    "            for player in range(players):\n",
    "                if sum_up(player_hands[player]) > sum_up(dealer_hand):\n",
    "                    if sum_up(player_hands[player]) <= 21:\n",
    "                        curr_player_results[0,player] = 1\n",
    "                elif sum_up(player_hands[player]) == sum_up(dealer_hand):\n",
    "                    curr_player_results[0,player] = 0\n",
    "                else:\n",
    "                    curr_player_results[0,player] = -1\n",
    "        \n",
    "        # Track features\n",
    "        dealer_card_feature.append(dealer_hand[0])\n",
    "        player_card_feature.append(player_hands)\n",
    "        player_results.append(list(curr_player_results[0]))\n",
    "        player_live_total.append(live_total)\n",
    "        player_live_action.append(action)\n",
    "\n",
    "model_df_smart = pd.DataFrame()\n",
    "model_df_smart['dealer_card'] = dealer_card_feature\n",
    "model_df_smart['player_total_initial'] = [sum_up(i[0][0:2]) for i in player_card_feature]\n",
    "model_df_smart['hit?'] = player_live_action\n",
    "\n",
    "has_ace = []\n",
    "for i in player_card_feature:\n",
    "    if ('A' in i[0][0:2]):\n",
    "        has_ace.append(1)\n",
    "    else:\n",
    "        has_ace.append(0)\n",
    "model_df_smart['has_ace'] = has_ace\n",
    "\n",
    "dealer_card_num = []\n",
    "for i in model_df_smart['dealer_card']:\n",
    "    if i=='A':\n",
    "        dealer_card_num.append(11)\n",
    "    else:\n",
    "        dealer_card_num.append(i)\n",
    "model_df_smart['dealer_card_num'] = dealer_card_num\n",
    "\n",
    "model_df_smart['player_result'] = [i[0] for i in player_results]\n",
    "lose = []\n",
    "for i in model_df_smart['player_result']:\n",
    "    if i == -1:\n",
    "        lose.append(1)\n",
    "    else:\n",
    "        lose.append(0)\n",
    "model_df_smart['lose'] = lose"
   ]
  },
  {
   "cell_type": "code",
   "execution_count": 39,
   "metadata": {},
   "outputs": [
    {
     "data": {
      "text/html": [
       "<div>\n",
       "<style scoped>\n",
       "    .dataframe tbody tr th:only-of-type {\n",
       "        vertical-align: middle;\n",
       "    }\n",
       "\n",
       "    .dataframe tbody tr th {\n",
       "        vertical-align: top;\n",
       "    }\n",
       "\n",
       "    .dataframe thead th {\n",
       "        text-align: right;\n",
       "    }\n",
       "</style>\n",
       "<table border=\"1\" class=\"dataframe\">\n",
       "  <thead>\n",
       "    <tr style=\"text-align: right;\">\n",
       "      <th></th>\n",
       "      <th>dealer_card</th>\n",
       "      <th>player_total_initial</th>\n",
       "      <th>hit?</th>\n",
       "      <th>has_ace</th>\n",
       "      <th>dealer_card_num</th>\n",
       "      <th>player_result</th>\n",
       "      <th>lose</th>\n",
       "    </tr>\n",
       "  </thead>\n",
       "  <tbody>\n",
       "    <tr>\n",
       "      <td>0</td>\n",
       "      <td>7</td>\n",
       "      <td>21</td>\n",
       "      <td>0</td>\n",
       "      <td>1</td>\n",
       "      <td>7</td>\n",
       "      <td>1.0</td>\n",
       "      <td>0</td>\n",
       "    </tr>\n",
       "    <tr>\n",
       "      <td>1</td>\n",
       "      <td>5</td>\n",
       "      <td>12</td>\n",
       "      <td>1</td>\n",
       "      <td>0</td>\n",
       "      <td>5</td>\n",
       "      <td>-1.0</td>\n",
       "      <td>1</td>\n",
       "    </tr>\n",
       "    <tr>\n",
       "      <td>2</td>\n",
       "      <td>9</td>\n",
       "      <td>10</td>\n",
       "      <td>1</td>\n",
       "      <td>0</td>\n",
       "      <td>9</td>\n",
       "      <td>1.0</td>\n",
       "      <td>0</td>\n",
       "    </tr>\n",
       "    <tr>\n",
       "      <td>3</td>\n",
       "      <td>5</td>\n",
       "      <td>6</td>\n",
       "      <td>0</td>\n",
       "      <td>0</td>\n",
       "      <td>5</td>\n",
       "      <td>-1.0</td>\n",
       "      <td>1</td>\n",
       "    </tr>\n",
       "    <tr>\n",
       "      <td>4</td>\n",
       "      <td>4</td>\n",
       "      <td>20</td>\n",
       "      <td>1</td>\n",
       "      <td>0</td>\n",
       "      <td>4</td>\n",
       "      <td>-1.0</td>\n",
       "      <td>1</td>\n",
       "    </tr>\n",
       "    <tr>\n",
       "      <td>...</td>\n",
       "      <td>...</td>\n",
       "      <td>...</td>\n",
       "      <td>...</td>\n",
       "      <td>...</td>\n",
       "      <td>...</td>\n",
       "      <td>...</td>\n",
       "      <td>...</td>\n",
       "    </tr>\n",
       "    <tr>\n",
       "      <td>321437</td>\n",
       "      <td>4</td>\n",
       "      <td>12</td>\n",
       "      <td>1</td>\n",
       "      <td>0</td>\n",
       "      <td>4</td>\n",
       "      <td>-1.0</td>\n",
       "      <td>1</td>\n",
       "    </tr>\n",
       "    <tr>\n",
       "      <td>321438</td>\n",
       "      <td>7</td>\n",
       "      <td>13</td>\n",
       "      <td>1</td>\n",
       "      <td>0</td>\n",
       "      <td>7</td>\n",
       "      <td>-1.0</td>\n",
       "      <td>1</td>\n",
       "    </tr>\n",
       "    <tr>\n",
       "      <td>321439</td>\n",
       "      <td>2</td>\n",
       "      <td>14</td>\n",
       "      <td>1</td>\n",
       "      <td>0</td>\n",
       "      <td>2</td>\n",
       "      <td>-1.0</td>\n",
       "      <td>1</td>\n",
       "    </tr>\n",
       "    <tr>\n",
       "      <td>321440</td>\n",
       "      <td>3</td>\n",
       "      <td>11</td>\n",
       "      <td>1</td>\n",
       "      <td>0</td>\n",
       "      <td>3</td>\n",
       "      <td>-1.0</td>\n",
       "      <td>1</td>\n",
       "    </tr>\n",
       "    <tr>\n",
       "      <td>321441</td>\n",
       "      <td>7</td>\n",
       "      <td>9</td>\n",
       "      <td>0</td>\n",
       "      <td>0</td>\n",
       "      <td>7</td>\n",
       "      <td>-1.0</td>\n",
       "      <td>1</td>\n",
       "    </tr>\n",
       "  </tbody>\n",
       "</table>\n",
       "<p>321442 rows × 7 columns</p>\n",
       "</div>"
      ],
      "text/plain": [
       "       dealer_card  player_total_initial  hit?  has_ace  dealer_card_num  \\\n",
       "0                7                    21     0        1                7   \n",
       "1                5                    12     1        0                5   \n",
       "2                9                    10     1        0                9   \n",
       "3                5                     6     0        0                5   \n",
       "4                4                    20     1        0                4   \n",
       "...            ...                   ...   ...      ...              ...   \n",
       "321437           4                    12     1        0                4   \n",
       "321438           7                    13     1        0                7   \n",
       "321439           2                    14     1        0                2   \n",
       "321440           3                    11     1        0                3   \n",
       "321441           7                     9     0        0                7   \n",
       "\n",
       "        player_result  lose  \n",
       "0                 1.0     0  \n",
       "1                -1.0     1  \n",
       "2                 1.0     0  \n",
       "3                -1.0     1  \n",
       "4                -1.0     1  \n",
       "...               ...   ...  \n",
       "321437           -1.0     1  \n",
       "321438           -1.0     1  \n",
       "321439           -1.0     1  \n",
       "321440           -1.0     1  \n",
       "321441           -1.0     1  \n",
       "\n",
       "[321442 rows x 7 columns]"
      ]
     },
     "execution_count": 39,
     "metadata": {},
     "output_type": "execute_result"
    }
   ],
   "source": [
    "model_df_smart"
   ]
  },
  {
   "cell_type": "code",
   "execution_count": 40,
   "metadata": {},
   "outputs": [
    {
     "name": "stdout",
     "output_type": "stream",
     "text": [
      "0.21658961803373544\n"
     ]
    }
   ],
   "source": [
    "smart_win_possibility = 1 - (model_df_smart.sum()['lose'] /\\\n",
    "                  model_df_smart.count()['lose'])\n",
    "print(smart_win_possibility)"
   ]
  },
  {
   "cell_type": "code",
   "execution_count": 41,
   "metadata": {},
   "outputs": [
    {
     "data": {
      "image/png": "[encoded data removed]",
      "text/plain": [
       "<Figure size 864x432 with 1 Axes>"
      ]
     },
     "metadata": {
      "needs_background": "light"
     },
     "output_type": "display_data"
    }
   ],
   "source": [
    "data_smart = 1 - (model_df_smart.groupby(by='dealer_card_num').sum()['lose'] /\\\n",
    "                  model_df_smart.groupby(by='dealer_card_num').count()['lose'])\n",
    "data_naive_modified = 1 - (model_df_naive_modified.groupby(by='dealer_card_num').sum()['lose'] /\\\n",
    "                  model_df_naive_modified.groupby(by='dealer_card_num').count()['lose'])\n",
    "data_random = 1 - (model_df.groupby(by='dealer_card_num').sum()['lose'] /\\\n",
    "                   model_df.groupby(by='dealer_card_num').count()['lose'])\n",
    "\n",
    "data = pd.DataFrame()\n",
    "data['smart'] = data_smart\n",
    "data['naive_modified'] = data_naive_modified\n",
    "data['random'] = data_random\n",
    "\n",
    "fig, ax = plt.subplots(figsize=(12,6))\n",
    "ax.bar(x=data.index-0.28, height=data['smart'].values, color='blue', width=0.3, label='Smart')\n",
    "ax.bar(x=data.index, height=data['naive_modified'].values, color='orange', width=0.3, label='Naive_modified')\n",
    "ax.bar(x=data.index+0.28, height=data['random'].values, color='red', width=0.3, label='Coin Flip')\n",
    "ax.set_xlabel(\"Dealer's Card\",fontsize=16)\n",
    "ax.set_ylabel(\"Probability of Tie or Win\",fontsize=16)\n",
    "plt.xticks(np.arange(2, 12, 1.0))\n",
    "\n",
    "plt.legend()\n",
    "plt.tight_layout()\n",
    "#plt.savefig(fname='dealer_card_probs_smart', dpi=150)"
   ]
  }
 ],
 "metadata": {
  "kernelspec": {
   "display_name": "Python 3",
   "language": "python",
   "name": "python3"
  },
  "language_info": {
   "codemirror_mode": {
    "name": "ipython",
    "version": 3
   },
   "file_extension": ".py",
   "mimetype": "text/x-python",
   "name": "python",
   "nbconvert_exporter": "python",
   "pygments_lexer": "ipython3",
   "version": "3.7.3"
  }
 },
 "nbformat": 4,
 "nbformat_minor": 4
}

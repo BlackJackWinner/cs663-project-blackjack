{
 "cells": [
  {
   "cell_type": "code",
   "execution_count": 1,
   "metadata": {},
   "outputs": [
    {
     "name": "stderr",
     "output_type": "stream",
     "text": [
      "Using TensorFlow backend.\n"
     ]
    }
   ],
   "source": [
    "import numpy as np\n",
    "import pandas as pd\n",
    "import random\n",
    "import matplotlib.pyplot as plt\n",
    "import seaborn as sns\n",
    "import sklearn.metrics as metrics\n",
    "from keras.models import Sequential\n",
    "from keras.layers import Dense, LSTM, Flatten, Dropout"
   ]
  },
  {
   "cell_type": "code",
   "execution_count": 2,
   "metadata": {},
   "outputs": [],
   "source": [
    "# This function lists out all permutations of ace values in the array sum_array\n",
    "# For example, if you have 2 aces, there are 4 permutations:\n",
    "#     [[1,1], [1,11], [11,1], [11,11]]\n",
    "# These permutations lead to 3 unique sums: [2, 12, 22]\n",
    "# Of these 3, only 2 are <=21 so they are returned: [2, 12]\n",
    "def get_ace_values(ace_list):\n",
    "    sum_array = np.zeros((2*len(ace_list), len(ace_list)))\n",
    "    # This loop gets the permutations\n",
    "    for i in range(len(ace_list)):\n",
    "        n = len(ace_list) - i\n",
    "        half_len = int(2 ** n * 0.5)\n",
    "        for rep in range(int(sum_array.shape[0]/half_len/2)):\n",
    "            sum_array[rep *2**n: rep * 2**n + half_len, i] = 1\n",
    "            sum_array[rep*2**n+half_len : rep*2**n+half_len*2, i] = 11\n",
    "    # return values that are valid (<=21)\n",
    "    return list(set([int(s) for s in np.sum(sum_array, axis=1) if s<=21]))\n",
    "\n",
    "# Convert num_aces, an int to a list of lists\n",
    "# For example if num_aces=2, the output should be [[1,11],[1,11]]\n",
    "def ace_values(num_aces):\n",
    "    ace_list = []\n",
    "    for i in range(num_aces):\n",
    "        ace_list.append([1,11])\n",
    "    return get_ace_values(ace_list)"
   ]
  },
  {
   "cell_type": "code",
   "execution_count": 3,
   "metadata": {},
   "outputs": [],
   "source": [
    "# generate a deck\n",
    "# card_types = ['A',2,3,4,5,6,7,8,9,10,10,10,10]\n",
    "def generate_decks(num_decks, card_types):\n",
    "    deck = []\n",
    "    for i in range(num_decks):\n",
    "        for j in range(4):\n",
    "            deck.extend(card_types)\n",
    "    random.shuffle(deck)\n",
    "    return deck"
   ]
  },
  {
   "cell_type": "code",
   "execution_count": 4,
   "metadata": {},
   "outputs": [],
   "source": [
    "# sum up value of hand card\n",
    "def sum_up(hand):\n",
    "    num_aces = 0 #num of aces\n",
    "    total = 0  #total score\n",
    "    for card in hand:\n",
    "        if card != 'A':\n",
    "            total += card  #if the card is not 'A', get the face value\n",
    "        else:\n",
    "            num_aces += 1  #how many aces does the hand card have\n",
    "    # Call function ace_values to produce list of possible values for aces in hand\n",
    "    ace_value_list = ace_values(num_aces) #get ace value from this hand of aces\n",
    "    final_totals = [i+total for i in ace_value_list if i+total<=21]  # total score in the hand\n",
    "    \n",
    "    if final_totals == []:\n",
    "        if ace_value_list == []:\n",
    "            return total\n",
    "        else:\n",
    "            return min(ace_value_list) + total\n",
    "    else:\n",
    "        return max(final_totals)"
   ]
  },
  {
   "cell_type": "code",
   "execution_count": 5,
   "metadata": {},
   "outputs": [],
   "source": [
    "# Play a game of blackjack (after the cards are dealt)\n",
    "# blackjack = set(['A',10])\n",
    "#1 check dealer_card == blackjack? yes, check player blackjack? player blackjack yes(0) no(player -1)\n",
    "#2 check player blackjack? yes player win\n",
    "def play_game(dealer_hand, player_hands, blackjack, curr_player_results, dealer_cards, hit_stand):\n",
    "    action = 0\n",
    "    # Dealer checks for 21\n",
    "    if set(dealer_hand) == blackjack:\n",
    "        for player in range(players):\n",
    "            if set(player_hands[player]) != blackjack:\n",
    "                curr_player_results[0,player] = -1 #player lose\n",
    "            else:\n",
    "                curr_player_results[0,player] = 0 # both have blackjack \n",
    "    else:\n",
    "        for player in range(players):\n",
    "            # Players check for 21\n",
    "            if set(player_hands[player]) == blackjack:\n",
    "                curr_player_results[0,player] = 1  #player lose\n",
    "            else:\n",
    "                # Hit randomly, check for busts\n",
    "                if (hit_stand >= 0.5) and (sum_up(player_hands[player]) != 21):\n",
    "                    player_hands[player].append(dealer_cards.pop(0))  #player get one more card\n",
    "                    action = 1  #hit\n",
    "                    live_total.append(sum_up(player_hands[player]))  #total card score in player hand\n",
    "                    if sum_up(player_hands[player]) > 21:\n",
    "                        curr_player_results[0,player] = -1  # player lose (bust)\n",
    "\n",
    "    # Dealer hits based on the rules\n",
    "    while sum_up(dealer_hand) < 17:\n",
    "        dealer_hand.append(dealer_cards.pop(0))  #dealer get one more card\n",
    "    # Compare dealer hand to players hand but first check if dealer busted\n",
    "    if sum_up(dealer_hand) > 21:\n",
    "        for player in range(players):\n",
    "            if curr_player_results[0,player] != -1:\n",
    "                curr_player_results[0,player] = 1\n",
    "    else:\n",
    "        for player in range(players):\n",
    "            if sum_up(player_hands[player]) > sum_up(dealer_hand):\n",
    "                if sum_up(player_hands[player]) <= 21:\n",
    "                    curr_player_results[0,player] = 1  #player win\n",
    "            elif sum_up(player_hands[player]) == sum_up(dealer_hand):\n",
    "                curr_player_results[0,player] = 0\n",
    "            else:\n",
    "                curr_player_results[0,player] = -1\n",
    "                \n",
    "    return curr_player_results, dealer_cards, action"
   ]
  },
  {
   "cell_type": "code",
   "execution_count": 6,
   "metadata": {},
   "outputs": [],
   "source": [
    "stacks = 10000\n",
    "players = 1\n",
    "num_decks = 4\n",
    "\n",
    "card_types = ['A',2,3,4,5,6,7,8,9,10,10,10,10]\n",
    "\n",
    "dealer_card_feature = []\n",
    "player_card_feature = []\n",
    "player_live_total = []\n",
    "player_live_action = []\n",
    "player_results = []\n",
    "\n",
    "for stack in range(stacks):\n",
    "    blackjack = set(['A',10])\n",
    "    dealer_cards = generate_decks(num_decks, card_types)\n",
    "    while len(dealer_cards) > 20:\n",
    "        \n",
    "        curr_player_results = np.zeros((1,players))\n",
    "        \n",
    "        dealer_hand = []\n",
    "        player_hands = [[] for player in range(players)]\n",
    "        live_total = []\n",
    "        live_action = []\n",
    "\n",
    "        # Deal FIRST card\n",
    "        for player, hand in enumerate(player_hands):\n",
    "            player_hands[player].append(dealer_cards.pop(0))\n",
    "        dealer_hand.append(dealer_cards.pop(0))\n",
    "        # Deal SECOND card\n",
    "        for player, hand in enumerate(player_hands):\n",
    "            player_hands[player].append(dealer_cards.pop(0))\n",
    "        dealer_hand.append(dealer_cards.pop(0))\n",
    "        \n",
    "        # Record the player's live total after cards are dealt\n",
    "        live_total.append(sum_up(player_hands[player]))\n",
    "        \n",
    "        if stack < 5000:\n",
    "            hit_stand = 1\n",
    "        else:\n",
    "            hit_stand = 0\n",
    "        curr_player_results, dealer_cards, action = play_game(dealer_hand, player_hands, \n",
    "                                                              blackjack, curr_player_results, \n",
    "                                                              dealer_cards, hit_stand)\n",
    "        \n",
    "        # Track features\n",
    "        dealer_card_feature.append(dealer_hand[0])\n",
    "        player_card_feature.append(player_hands)\n",
    "        player_results.append(list(curr_player_results[0]))\n",
    "        player_live_total.append(live_total)\n",
    "        player_live_action.append(action)\n",
    "\n",
    "model_df = pd.DataFrame()\n",
    "model_df['dealer_card'] = dealer_card_feature\n",
    "model_df['player_total_initial'] = [sum_up(i[0][0:2]) for i in player_card_feature]\n",
    "model_df['hit?'] = player_live_action\n",
    "\n",
    "has_ace = []\n",
    "for i in player_card_feature:\n",
    "    if ('A' in i[0][0:2]):\n",
    "        has_ace.append(1)\n",
    "    else:\n",
    "        has_ace.append(0)\n",
    "model_df['has_ace'] = has_ace\n",
    "\n",
    "dealer_card_num = []\n",
    "for i in model_df['dealer_card']:\n",
    "    if i=='A':\n",
    "        dealer_card_num.append(11)  #deal's card has no 1 ? \n",
    "    else:\n",
    "        dealer_card_num.append(i)\n",
    "model_df['dealer_card_num'] = dealer_card_num\n",
    "\n",
    "model_df['player_result'] = [i[0] for i in player_results]\n",
    "lose = []\n",
    "for i in model_df['player_result']:\n",
    "    if i == -1:\n",
    "        lose.append(1)\n",
    "    else:\n",
    "        lose.append(0)\n",
    "model_df['lose'] = lose\n",
    "\n",
    "correct = []  #correct action \n",
    "for i, val in enumerate(model_df['lose']):\n",
    "    if val == 1:\n",
    "        if player_live_action[i] == 1:\n",
    "            correct.append(0)\n",
    "        else:\n",
    "            correct.append(1)\n",
    "    else:\n",
    "        if player_live_action[i] == 1:\n",
    "            correct.append(1)\n",
    "        else:\n",
    "            correct.append(0)\n",
    "model_df['correct_action'] = correct"
   ]
  },
  {
   "cell_type": "code",
   "execution_count": 7,
   "metadata": {},
   "outputs": [
    {
     "name": "stdout",
     "output_type": "stream",
     "text": [
      "0         10\n",
      "1          7\n",
      "2          2\n",
      "3          3\n",
      "4          7\n",
      "          ..\n",
      "357646     5\n",
      "357647    10\n",
      "357648     3\n",
      "357649     8\n",
      "357650     A\n",
      "Name: dealer_card, Length: 357651, dtype: object\n"
     ]
    },
    {
     "data": {
      "text/plain": [
       "array([10, 7, 2, 3, 5, 4, 9, 6, 'A', 8], dtype=object)"
      ]
     },
     "execution_count": 7,
     "metadata": {},
     "output_type": "execute_result"
    }
   ],
   "source": [
    "print(model_df['dealer_card'])\n",
    "model_df['dealer_card'].unique()"
   ]
  },
  {
   "cell_type": "code",
   "execution_count": 8,
   "metadata": {},
   "outputs": [
    {
     "name": "stdout",
     "output_type": "stream",
     "text": [
      "[20  9  7 15 19 12 14 13 17 10  8 18 16 11  5  6 21  4]\n"
     ]
    }
   ],
   "source": [
    "print(model_df['player_total_initial'].unique())"
   ]
  },
  {
   "cell_type": "code",
   "execution_count": 9,
   "metadata": {},
   "outputs": [
    {
     "data": {
      "text/plain": [
       "array([10,  7,  2,  3,  5,  4,  9,  6, 11,  8])"
      ]
     },
     "execution_count": 9,
     "metadata": {},
     "output_type": "execute_result"
    }
   ],
   "source": [
    "model_df['dealer_card_num'].unique()"
   ]
  },
  {
   "cell_type": "code",
   "execution_count": 10,
   "metadata": {},
   "outputs": [
    {
     "name": "stdout",
     "output_type": "stream",
     "text": [
      "0         0\n",
      "1         0\n",
      "2         1\n",
      "3         0\n",
      "4         0\n",
      "         ..\n",
      "357646    0\n",
      "357647    0\n",
      "357648    0\n",
      "357649    1\n",
      "357650    1\n",
      "Name: correct_action, Length: 357651, dtype: int64\n"
     ]
    }
   ],
   "source": [
    "print(model_df['correct_action'])"
   ]
  },
  {
   "cell_type": "code",
   "execution_count": 11,
   "metadata": {},
   "outputs": [
    {
     "data": {
      "text/html": [
       "<div>\n",
       "<style scoped>\n",
       "    .dataframe tbody tr th:only-of-type {\n",
       "        vertical-align: middle;\n",
       "    }\n",
       "\n",
       "    .dataframe tbody tr th {\n",
       "        vertical-align: top;\n",
       "    }\n",
       "\n",
       "    .dataframe thead th {\n",
       "        text-align: right;\n",
       "    }\n",
       "</style>\n",
       "<table border=\"1\" class=\"dataframe\">\n",
       "  <thead>\n",
       "    <tr style=\"text-align: right;\">\n",
       "      <th></th>\n",
       "      <th>dealer_card</th>\n",
       "      <th>player_total_initial</th>\n",
       "      <th>hit?</th>\n",
       "      <th>has_ace</th>\n",
       "      <th>dealer_card_num</th>\n",
       "      <th>player_result</th>\n",
       "      <th>lose</th>\n",
       "      <th>correct_action</th>\n",
       "    </tr>\n",
       "  </thead>\n",
       "  <tbody>\n",
       "    <tr>\n",
       "      <td>0</td>\n",
       "      <td>10</td>\n",
       "      <td>20</td>\n",
       "      <td>1</td>\n",
       "      <td>0</td>\n",
       "      <td>10</td>\n",
       "      <td>-1.0</td>\n",
       "      <td>1</td>\n",
       "      <td>0</td>\n",
       "    </tr>\n",
       "    <tr>\n",
       "      <td>1</td>\n",
       "      <td>7</td>\n",
       "      <td>9</td>\n",
       "      <td>1</td>\n",
       "      <td>0</td>\n",
       "      <td>7</td>\n",
       "      <td>-1.0</td>\n",
       "      <td>1</td>\n",
       "      <td>0</td>\n",
       "    </tr>\n",
       "    <tr>\n",
       "      <td>2</td>\n",
       "      <td>2</td>\n",
       "      <td>9</td>\n",
       "      <td>1</td>\n",
       "      <td>0</td>\n",
       "      <td>2</td>\n",
       "      <td>1.0</td>\n",
       "      <td>0</td>\n",
       "      <td>1</td>\n",
       "    </tr>\n",
       "    <tr>\n",
       "      <td>3</td>\n",
       "      <td>3</td>\n",
       "      <td>7</td>\n",
       "      <td>1</td>\n",
       "      <td>0</td>\n",
       "      <td>3</td>\n",
       "      <td>-1.0</td>\n",
       "      <td>1</td>\n",
       "      <td>0</td>\n",
       "    </tr>\n",
       "    <tr>\n",
       "      <td>4</td>\n",
       "      <td>7</td>\n",
       "      <td>15</td>\n",
       "      <td>1</td>\n",
       "      <td>0</td>\n",
       "      <td>7</td>\n",
       "      <td>-1.0</td>\n",
       "      <td>1</td>\n",
       "      <td>0</td>\n",
       "    </tr>\n",
       "    <tr>\n",
       "      <td>...</td>\n",
       "      <td>...</td>\n",
       "      <td>...</td>\n",
       "      <td>...</td>\n",
       "      <td>...</td>\n",
       "      <td>...</td>\n",
       "      <td>...</td>\n",
       "      <td>...</td>\n",
       "      <td>...</td>\n",
       "    </tr>\n",
       "    <tr>\n",
       "      <td>357646</td>\n",
       "      <td>5</td>\n",
       "      <td>21</td>\n",
       "      <td>0</td>\n",
       "      <td>1</td>\n",
       "      <td>5</td>\n",
       "      <td>1.0</td>\n",
       "      <td>0</td>\n",
       "      <td>0</td>\n",
       "    </tr>\n",
       "    <tr>\n",
       "      <td>357647</td>\n",
       "      <td>10</td>\n",
       "      <td>13</td>\n",
       "      <td>0</td>\n",
       "      <td>0</td>\n",
       "      <td>10</td>\n",
       "      <td>1.0</td>\n",
       "      <td>0</td>\n",
       "      <td>0</td>\n",
       "    </tr>\n",
       "    <tr>\n",
       "      <td>357648</td>\n",
       "      <td>3</td>\n",
       "      <td>6</td>\n",
       "      <td>0</td>\n",
       "      <td>0</td>\n",
       "      <td>3</td>\n",
       "      <td>1.0</td>\n",
       "      <td>0</td>\n",
       "      <td>0</td>\n",
       "    </tr>\n",
       "    <tr>\n",
       "      <td>357649</td>\n",
       "      <td>8</td>\n",
       "      <td>6</td>\n",
       "      <td>0</td>\n",
       "      <td>0</td>\n",
       "      <td>8</td>\n",
       "      <td>-1.0</td>\n",
       "      <td>1</td>\n",
       "      <td>1</td>\n",
       "    </tr>\n",
       "    <tr>\n",
       "      <td>357650</td>\n",
       "      <td>A</td>\n",
       "      <td>14</td>\n",
       "      <td>0</td>\n",
       "      <td>0</td>\n",
       "      <td>11</td>\n",
       "      <td>-1.0</td>\n",
       "      <td>1</td>\n",
       "      <td>1</td>\n",
       "    </tr>\n",
       "  </tbody>\n",
       "</table>\n",
       "<p>357651 rows × 8 columns</p>\n",
       "</div>"
      ],
      "text/plain": [
       "       dealer_card  player_total_initial  hit?  has_ace  dealer_card_num  \\\n",
       "0               10                    20     1        0               10   \n",
       "1                7                     9     1        0                7   \n",
       "2                2                     9     1        0                2   \n",
       "3                3                     7     1        0                3   \n",
       "4                7                    15     1        0                7   \n",
       "...            ...                   ...   ...      ...              ...   \n",
       "357646           5                    21     0        1                5   \n",
       "357647          10                    13     0        0               10   \n",
       "357648           3                     6     0        0                3   \n",
       "357649           8                     6     0        0                8   \n",
       "357650           A                    14     0        0               11   \n",
       "\n",
       "        player_result  lose  correct_action  \n",
       "0                -1.0     1               0  \n",
       "1                -1.0     1               0  \n",
       "2                 1.0     0               1  \n",
       "3                -1.0     1               0  \n",
       "4                -1.0     1               0  \n",
       "...               ...   ...             ...  \n",
       "357646            1.0     0               0  \n",
       "357647            1.0     0               0  \n",
       "357648            1.0     0               0  \n",
       "357649           -1.0     1               1  \n",
       "357650           -1.0     1               1  \n",
       "\n",
       "[357651 rows x 8 columns]"
      ]
     },
     "execution_count": 11,
     "metadata": {},
     "output_type": "execute_result"
    }
   ],
   "source": [
    "model_df"
   ]
  },
  {
   "cell_type": "code",
   "execution_count": 12,
   "metadata": {},
   "outputs": [
    {
     "name": "stdout",
     "output_type": "stream",
     "text": [
      "0.39789627318251597\n"
     ]
    }
   ],
   "source": [
    "coinflip_win_possibility = 1 - (model_df.sum()['lose'] /\\\n",
    "                  model_df.count()['lose'])\n",
    "print(coinflip_win_possibility)"
   ]
  },
  {
   "cell_type": "code",
   "execution_count": 13,
   "metadata": {},
   "outputs": [
    {
     "data": {
      "text/plain": [
       "357651"
      ]
     },
     "execution_count": 13,
     "metadata": {},
     "output_type": "execute_result"
    }
   ],
   "source": [
    "sum(pd.DataFrame(player_results)[0].value_counts())"
   ]
  },
  {
   "cell_type": "code",
   "execution_count": 14,
   "metadata": {},
   "outputs": [],
   "source": [
    "data = 1 - (model_df.groupby(by='dealer_card').sum()['lose'] /\\\n",
    "            model_df.groupby(by='dealer_card').count()['lose'])"
   ]
  },
  {
   "cell_type": "code",
   "execution_count": 15,
   "metadata": {},
   "outputs": [
    {
     "data": {
      "image/png": "[encoded data removed]",
      "text/plain": [
       "<Figure size 720x432 with 1 Axes>"
      ]
     },
     "metadata": {
      "needs_background": "light"
     },
     "output_type": "display_data"
    }
   ],
   "source": [
    "#From this we can see when the dealer has 6 in his card, he has the highest winning probability 48%\n",
    "#when the dealer has A in his hand, the probiliby is the smallest\n",
    "# bust \n",
    "fig, ax = plt.subplots(figsize=(10,6))\n",
    "ax = sns.barplot(x=data.index, y=data.values)\n",
    "\n",
    "ax.set_xlabel(\"Dealer's Card\",fontsize=16)\n",
    "ax.set_ylabel(\"Probability of Tie or Win\",fontsize=16)\n",
    "plt.tight_layout()\n",
    "plt.savefig(fname='dealer_card_probs', dpi=150)"
   ]
  },
  {
   "cell_type": "code",
   "execution_count": 16,
   "metadata": {},
   "outputs": [],
   "source": [
    "data = 1 - (model_df.groupby(by='player_total_initial').sum()['lose'] /\\\n",
    "            model_df.groupby(by='player_total_initial').count()['lose'])"
   ]
  },
  {
   "cell_type": "code",
   "execution_count": 17,
   "metadata": {},
   "outputs": [
    {
     "data": {
      "image/png": "[encoded data removed]",
      "text/plain": [
       "<Figure size 720x432 with 1 Axes>"
      ]
     },
     "metadata": {
      "needs_background": "light"
     },
     "output_type": "display_data"
    }
   ],
   "source": [
    "#when the player hand value is 19, 20 has the higher winning probality\n",
    "fig, ax = plt.subplots(figsize=(10,6))\n",
    "ax = sns.barplot(x=data[:-1].index,\n",
    "                 y=data[:-1].values)\n",
    "ax.set_xlabel(\"Player's Hand Value\",fontsize=16)\n",
    "ax.set_ylabel(\"Probability of Tie or Win\",fontsize=16)\n",
    "\n",
    "plt.tight_layout()\n",
    "plt.savefig(fname='player_hand_probs', dpi=150)"
   ]
  },
  {
   "cell_type": "code",
   "execution_count": 18,
   "metadata": {},
   "outputs": [
    {
     "data": {
      "text/plain": [
       "has_ace\n",
       "0    0.644246\n",
       "1    0.361680\n",
       "Name: lose, dtype: float64"
      ]
     },
     "execution_count": 18,
     "metadata": {},
     "output_type": "execute_result"
    }
   ],
   "source": [
    "#when the player does not have ace the winner probability is higher?\n",
    "model_df.groupby(by='has_ace').sum()['lose'] / model_df.groupby(by='has_ace').count()['lose']"
   ]
  },
  {
   "cell_type": "code",
   "execution_count": 19,
   "metadata": {},
   "outputs": [
    {
     "data": {
      "image/png": "[encoded data removed]",
      "text/plain": [
       "<Figure size 1152x576 with 2 Axes>"
      ]
     },
     "metadata": {
      "needs_background": "light"
     },
     "output_type": "display_data"
    }
   ],
   "source": [
    "pivot_data = model_df[model_df['player_total_initial'] != 21]\n",
    "\n",
    "losses_pivot = pd.pivot_table(pivot_data, values='lose', \n",
    "                              index=['dealer_card_num'],\n",
    "                              columns = ['player_total_initial'],\n",
    "                              aggfunc = np.sum)\n",
    "\n",
    "games_pivot =  pd.pivot_table(pivot_data, values='lose', \n",
    "                              index=['dealer_card_num'],\n",
    "                              columns = ['player_total_initial'],\n",
    "                              aggfunc = 'count')\n",
    "\n",
    "heat_data = 1 - losses_pivot.sort_index(ascending=False) / games_pivot.sort_index(ascending=False)\n",
    "\n",
    "fig, ax = plt.subplots(figsize=(16,8))\n",
    "sns.heatmap(heat_data, square=False, cmap=\"PiYG\");\n",
    "\n",
    "ax.set_xlabel(\"Player's Hand Value\",fontsize=16)\n",
    "ax.set_ylabel(\"Dealer's Card\",fontsize=16)\n",
    "\n",
    "plt.savefig(fname='heat_map_random', dpi=150)"
   ]
  },
  {
   "cell_type": "code",
   "execution_count": 20,
   "metadata": {},
   "outputs": [],
   "source": [
    "stacks = 10000\n",
    "players = 1\n",
    "num_decks = 4\n",
    "\n",
    "# a different strategy \n",
    "# Hit only when we know we will not bust hit when we know our hand value is not than 11 \n",
    "\n",
    "card_types = ['A',2,3,4,5,6,7,8,9,10,10,10,10]\n",
    "\n",
    "dealer_card_feature = []\n",
    "player_card_feature = []\n",
    "player_results = []\n",
    "player_live_action = []\n",
    "\n",
    "for stack in range(stacks):\n",
    "    blackjack = set(['A',10])\n",
    "    dealer_cards = generate_decks(num_decks, card_types)\n",
    "    while len(dealer_cards) > 20:\n",
    "        \n",
    "        curr_player_results = np.zeros((1,players))\n",
    "        \n",
    "        dealer_hand = []\n",
    "        player_hands = [[] for player in range(players)]\n",
    "\n",
    "        # Deal FIRST card\n",
    "        for player, hand in enumerate(player_hands):\n",
    "            player_hands[player].append(dealer_cards.pop(0))\n",
    "        dealer_hand.append(dealer_cards.pop(0))\n",
    "        # Deal SECOND card\n",
    "        for player, hand in enumerate(player_hands):\n",
    "            player_hands[player].append(dealer_cards.pop(0))\n",
    "        dealer_hand.append(dealer_cards.pop(0))\n",
    "        \n",
    "        action = 0\n",
    "\n",
    "        # Dealer checks for 21\n",
    "        if set(dealer_hand) == blackjack:\n",
    "            for player in range(players):\n",
    "                if set(player_hands[player]) != blackjack:\n",
    "                    curr_player_results[0,player] = -1\n",
    "                else:\n",
    "                    curr_player_results[0,player] = 0\n",
    "        else:\n",
    "            for player in range(players):\n",
    "                # Players check for 21\n",
    "                if set(player_hands[player]) == blackjack:\n",
    "                    curr_player_results[0,player] = 1\n",
    "                else:\n",
    "                    # Hit only when we know we will not bust\n",
    "                    while sum_up(player_hands[player]) <= 11:\n",
    "                        player_hands[player].append(dealer_cards.pop(0))\n",
    "                        action = 1\n",
    "                        if sum_up(player_hands[player]) > 21:\n",
    "                            curr_player_results[0,player] = -1\n",
    "                            break\n",
    "        \n",
    "        # Dealer hits based on the rules\n",
    "        while sum_up(dealer_hand) < 17:\n",
    "            dealer_hand.append(dealer_cards.pop(0))\n",
    "        # Compare dealer hand to players hand but first check if dealer busted\n",
    "        if sum_up(dealer_hand) > 21:\n",
    "            for player in range(players):\n",
    "                if curr_player_results[0,player] != -1:\n",
    "                    curr_player_results[0,player] = 1\n",
    "        else:\n",
    "            for player in range(players):\n",
    "                if sum_up(player_hands[player]) > sum_up(dealer_hand):\n",
    "                    if sum_up(player_hands[player]) <= 21:\n",
    "                        curr_player_results[0,player] = 1\n",
    "                elif sum_up(player_hands[player]) == sum_up(dealer_hand):\n",
    "                    curr_player_results[0,player] = 0\n",
    "                else:\n",
    "                    curr_player_results[0,player] = -1\n",
    "        # Track features\n",
    "        dealer_card_feature.append(dealer_hand[0])\n",
    "        player_card_feature.append(player_hands)\n",
    "        player_results.append(list(curr_player_results[0]))\n",
    "        player_live_action.append(action)\n",
    "    \n",
    "model_df_naive = pd.DataFrame()\n",
    "model_df_naive['dealer_card'] = dealer_card_feature\n",
    "model_df_naive['player_total_initial'] = [sum_up(i[0][0:2]) for i in player_card_feature]\n",
    "model_df_naive['player_result'] = [i[0] for i in player_results]\n",
    "model_df_naive['hit?'] = player_live_action\n",
    "\n",
    "lose = []\n",
    "for i in model_df_naive['player_result']:\n",
    "    if i == -1:\n",
    "        lose.append(1)\n",
    "    else:\n",
    "        lose.append(0)\n",
    "model_df_naive['lose'] = lose\n",
    "\n",
    "has_ace = []\n",
    "for i in player_card_feature:\n",
    "    if ('A' in i[0][0:2]):\n",
    "        has_ace.append(1)\n",
    "    else:\n",
    "        has_ace.append(0)\n",
    "model_df_naive['has_ace'] = has_ace\n",
    "\n",
    "dealer_card_num = []\n",
    "for i in model_df_naive['dealer_card']:\n",
    "    if i=='A':\n",
    "        dealer_card_num.append(11)\n",
    "    else:\n",
    "        dealer_card_num.append(i)\n",
    "model_df_naive['dealer_card_num'] = dealer_card_num\n",
    "\n",
    "correct = []  #correct action \n",
    "for i, val in enumerate(model_df_naive['lose']):\n",
    "    if val == 1:\n",
    "        if player_live_action[i] == 1:\n",
    "            correct.append(0)\n",
    "        else:\n",
    "            correct.append(1)\n",
    "    else:\n",
    "        if player_live_action[i] == 1:\n",
    "            correct.append(1)\n",
    "        else:\n",
    "            correct.append(0)\n",
    "model_df_naive['correct_action'] = correct"
   ]
  },
  {
   "cell_type": "code",
   "execution_count": 21,
   "metadata": {},
   "outputs": [
    {
     "data": {
      "text/html": [
       "<div>\n",
       "<style scoped>\n",
       "    .dataframe tbody tr th:only-of-type {\n",
       "        vertical-align: middle;\n",
       "    }\n",
       "\n",
       "    .dataframe tbody tr th {\n",
       "        vertical-align: top;\n",
       "    }\n",
       "\n",
       "    .dataframe thead th {\n",
       "        text-align: right;\n",
       "    }\n",
       "</style>\n",
       "<table border=\"1\" class=\"dataframe\">\n",
       "  <thead>\n",
       "    <tr style=\"text-align: right;\">\n",
       "      <th></th>\n",
       "      <th>dealer_card</th>\n",
       "      <th>player_total_initial</th>\n",
       "      <th>player_result</th>\n",
       "      <th>hit?</th>\n",
       "      <th>lose</th>\n",
       "      <th>has_ace</th>\n",
       "      <th>dealer_card_num</th>\n",
       "      <th>correct_action</th>\n",
       "    </tr>\n",
       "  </thead>\n",
       "  <tbody>\n",
       "    <tr>\n",
       "      <td>0</td>\n",
       "      <td>8</td>\n",
       "      <td>8</td>\n",
       "      <td>-1.0</td>\n",
       "      <td>1</td>\n",
       "      <td>1</td>\n",
       "      <td>0</td>\n",
       "      <td>8</td>\n",
       "      <td>0</td>\n",
       "    </tr>\n",
       "    <tr>\n",
       "      <td>1</td>\n",
       "      <td>4</td>\n",
       "      <td>20</td>\n",
       "      <td>1.0</td>\n",
       "      <td>0</td>\n",
       "      <td>0</td>\n",
       "      <td>0</td>\n",
       "      <td>4</td>\n",
       "      <td>0</td>\n",
       "    </tr>\n",
       "    <tr>\n",
       "      <td>2</td>\n",
       "      <td>3</td>\n",
       "      <td>11</td>\n",
       "      <td>1.0</td>\n",
       "      <td>1</td>\n",
       "      <td>0</td>\n",
       "      <td>0</td>\n",
       "      <td>3</td>\n",
       "      <td>1</td>\n",
       "    </tr>\n",
       "    <tr>\n",
       "      <td>3</td>\n",
       "      <td>A</td>\n",
       "      <td>17</td>\n",
       "      <td>1.0</td>\n",
       "      <td>0</td>\n",
       "      <td>0</td>\n",
       "      <td>0</td>\n",
       "      <td>11</td>\n",
       "      <td>0</td>\n",
       "    </tr>\n",
       "    <tr>\n",
       "      <td>4</td>\n",
       "      <td>7</td>\n",
       "      <td>13</td>\n",
       "      <td>-1.0</td>\n",
       "      <td>0</td>\n",
       "      <td>1</td>\n",
       "      <td>0</td>\n",
       "      <td>7</td>\n",
       "      <td>1</td>\n",
       "    </tr>\n",
       "  </tbody>\n",
       "</table>\n",
       "</div>"
      ],
      "text/plain": [
       "  dealer_card  player_total_initial  player_result  hit?  lose  has_ace  \\\n",
       "0           8                     8           -1.0     1     1        0   \n",
       "1           4                    20            1.0     0     0        0   \n",
       "2           3                    11            1.0     1     0        0   \n",
       "3           A                    17            1.0     0     0        0   \n",
       "4           7                    13           -1.0     0     1        0   \n",
       "\n",
       "   dealer_card_num  correct_action  \n",
       "0                8               0  \n",
       "1                4               0  \n",
       "2                3               1  \n",
       "3               11               0  \n",
       "4                7               1  "
      ]
     },
     "execution_count": 21,
     "metadata": {},
     "output_type": "execute_result"
    }
   ],
   "source": [
    "model_df_naive.head()"
   ]
  },
  {
   "cell_type": "code",
   "execution_count": 22,
   "metadata": {},
   "outputs": [
    {
     "name": "stdout",
     "output_type": "stream",
     "text": [
      "0.47966597573088054\n"
     ]
    }
   ],
   "source": [
    "naive_win_possibility = 1 - (model_df_naive.sum()['lose'] /\\\n",
    "                  model_df_naive.count()['lose'])\n",
    "print(naive_win_possibility)"
   ]
  },
  {
   "cell_type": "code",
   "execution_count": 23,
   "metadata": {},
   "outputs": [
    {
     "name": "stdout",
     "output_type": "stream",
     "text": [
      "['player_total_initial', 'hit?', 'has_ace', 'dealer_card_num']\n",
      "[[ 8  1  0  8]\n",
      " [20  0  0  4]\n",
      " [11  1  0  3]\n",
      " ...\n",
      " [16  0  0  2]\n",
      " [17  0  0 10]\n",
      " [14  0  1  7]]\n"
     ]
    }
   ],
   "source": [
    "# Train a neural net to play blackjack\n",
    "# use naive dataset to train the model\n",
    "# Set up variables for neural net\n",
    "feature_list = [i for i in model_df_naive.columns if i not in ['dealer_card',\n",
    "                                                         'player_result','lose',\n",
    "                                                         'correct_action']]\n",
    "print(feature_list)\n",
    "train_X = np.array(model_df_naive[feature_list])\n",
    "train_Y = np.array(model_df_naive['correct_action']).reshape(-1,1)  #is our target \n",
    "print(train_X)"
   ]
  },
  {
   "cell_type": "code",
   "execution_count": 24,
   "metadata": {},
   "outputs": [
    {
     "data": {
      "text/plain": [
       "(370512, 1)"
      ]
     },
     "execution_count": 24,
     "metadata": {},
     "output_type": "execute_result"
    }
   ],
   "source": [
    "train_Y.shape"
   ]
  },
  {
   "cell_type": "code",
   "execution_count": 25,
   "metadata": {},
   "outputs": [
    {
     "data": {
      "text/plain": [
       "array([0, 0, 1, ..., 1, 1, 1])"
      ]
     },
     "execution_count": 25,
     "metadata": {},
     "output_type": "execute_result"
    }
   ],
   "source": [
    "np.array(model_df_naive['correct_action'])"
   ]
  },
  {
   "cell_type": "code",
   "execution_count": 26,
   "metadata": {},
   "outputs": [
    {
     "name": "stdout",
     "output_type": "stream",
     "text": [
      "Epoch 1/10\n",
      "370512/370512 [==============================] - 17s 47us/step - loss: 0.6402\n",
      "Epoch 2/10\n",
      "370512/370512 [==============================] - 22s 59us/step - loss: 0.6192\n",
      "Epoch 3/10\n",
      "370512/370512 [==============================] - 16s 43us/step - loss: 0.6166\n",
      "Epoch 4/10\n",
      "370512/370512 [==============================] - 17s 46us/step - loss: 0.6153\n",
      "Epoch 5/10\n",
      "370512/370512 [==============================] - 16s 43us/step - loss: 0.6150\n",
      "Epoch 6/10\n",
      "370512/370512 [==============================] - 16s 43us/step - loss: 0.6143\n",
      "Epoch 7/10\n",
      "370512/370512 [==============================] - 16s 43us/step - loss: 0.6142 0s - loss: 0.\n",
      "Epoch 8/10\n",
      "370512/370512 [==============================] - 16s 44us/step - loss: 0.6140\n",
      "Epoch 9/10\n",
      "370512/370512 [==============================] - 16s 44us/step - loss: 0.6138\n",
      "Epoch 10/10\n",
      "370512/370512 [==============================] - 18s 48us/step - loss: 0.6137\n"
     ]
    }
   ],
   "source": [
    "# Set up a neural net with 5 layers\n",
    "# An epoch is one iteration over the entire input data\n",
    "# In Keras, \"dense\" refers to a single layer, \n",
    "# \"sequential\" usually refers to an entire model\n",
    "# Sequential refers to the way you build models in Keras \n",
    "# Build the neural network one layer at at time, in sequence: \n",
    "# Input layer, hidden layer 1, hidden layer 2, etc...output layer\n",
    "# The Dense layer is a standard neural network layer that outputs\n",
    "# and output arrays of shape (*, 16)  \n",
    "# The main reason why we use sigmoid function is because it exists between (0 to 1)\n",
    "# it is especially used for models where we have to predict the probability as an output.\n",
    "# In neuronal networks tasked with binary classification, \n",
    "# sigmoid activation in the last (output) layer \n",
    "# and binary crossentropy (BCE) as the loss function are standard fare\n",
    "# The batch size defines the number of samples that will be propagated through the network.\n",
    "\n",
    "# A dense layer is a kind of hidden layer \n",
    "# where every node is connected to every other node in the next layer.\n",
    "\n",
    "model = Sequential()\n",
    "model.add(Dense(16))\n",
    "model.add(Dense(64))\n",
    "model.add(Dense(32))\n",
    "model.add(Dense(16))\n",
    "model.add(Dense(1, activation='sigmoid'))  #activation layer activation func 'sigmoid'\n",
    "model.compile(loss='binary_crossentropy', optimizer='sgd')\n",
    "model.fit(train_X, train_Y, epochs=10, batch_size=32, verbose=1) \n",
    "pred_Y_train = model.predict(train_X)\n",
    "actuals = train_Y[:,-1]"
   ]
  },
  {
   "cell_type": "code",
   "execution_count": 27,
   "metadata": {},
   "outputs": [
    {
     "data": {
      "image/png": "[encoded data removed]",
      "text/plain": [
       "<Figure size 576x432 with 1 Axes>"
      ]
     },
     "metadata": {
      "needs_background": "light"
     },
     "output_type": "display_data"
    }
   ],
   "source": [
    "# a way to speculate the performance of the model\n",
    "# Plot ROC Curve (Receiver Operating Characteristic)\n",
    "# red line shows any true positive rate = false positive rate\n",
    "# The ROC graph summarize all of the confusion metrics that each threshold produced.\n",
    "# we want high true positive rate and false positive rate.\n",
    "# AUC: area under curve\n",
    "# It tells how much model is capable of distinguishing between classes. \n",
    "# The Higher the AUC, better the model is at predicting 0s as 0s and 1s as 1s\n",
    "# precision is the proportion of positive results that were correctly classified\n",
    "# When AUC is 0.733, \n",
    "#it means there is 73% chance that model \n",
    "# will be able to distinguish between positive class and negative class.\n",
    "fpr, tpr, threshold = metrics.roc_curve(actuals, pred_Y_train)\n",
    "roc_auc = metrics.auc(fpr, tpr)\n",
    "\n",
    "fig, ax = plt.subplots(figsize=(8,6))\n",
    "plt.plot(fpr, tpr, label = ('ROC AUC = %0.3f' % roc_auc))\n",
    "\n",
    "plt.legend(loc = 'lower right')\n",
    "plt.plot([0, 1], [0, 1],'r--')\n",
    "plt.xlim([0, 1])\n",
    "plt.ylim([0, 1])\n",
    "ax.set_xlabel(\"False Positive Rate\",fontsize=16)\n",
    "ax.set_ylabel(\"True Positive Rate\",fontsize=16)\n",
    "plt.setp(ax.get_legend().get_texts(), fontsize=16)\n",
    "\n",
    "plt.savefig(fname='roc_curve_blackjack', dpi=150)\n",
    "plt.show()"
   ]
  },
  {
   "cell_type": "code",
   "execution_count": null,
   "metadata": {},
   "outputs": [],
   "source": [
    "# feature_list_modified = [i for i in model_df_naive_modified.columns if i not in ['dealer_card',\n",
    "#                                                          'player_result','lose',\n",
    "#                                                          'correct_action']]\n",
    "# print(feature_list_modified)\n",
    "# train_X_modified = np.array(model_df_naive_modified[feature_list])\n",
    "# train_Y_modified = np.array(model_df_naive_modified['correct_action']).reshape(-1,1)  #is our target \n",
    "# print(train_X_modified)"
   ]
  },
  {
   "cell_type": "code",
   "execution_count": null,
   "metadata": {},
   "outputs": [],
   "source": [
    "# train_Y_modified.shape"
   ]
  },
  {
   "cell_type": "code",
   "execution_count": null,
   "metadata": {},
   "outputs": [],
   "source": [
    "# model_modified = Sequential()\n",
    "# model_modified.add(Dense(16))\n",
    "# #model.add(Dense(64))\n",
    "# model_modified.add(Dense(32))\n",
    "# model_modified.add(Dense(8))\n",
    "# model_modified.add(Dense(1, activation='sigmoid'))  #activation layer activation func 'sigmoid'\n",
    "# model_modified.compile(loss='binary_crossentropy', optimizer='sgd')\n",
    "# model_modified.fit(train_X_modified, train_Y_modified, epochs=10, batch_size=32, verbose=1) \n",
    "# pred_Y_train_modified = model.predict(train_X_modified)\n",
    "# actuals_modified = train_Y_modified[:,-1]"
   ]
  },
  {
   "cell_type": "code",
   "execution_count": null,
   "metadata": {},
   "outputs": [],
   "source": [
    "# fpr, tpr, threshold = metrics.roc_curve(actuals_modified, pred_Y_train_modified)\n",
    "# roc_auc = metrics.auc(fpr, tpr)\n",
    "\n",
    "# fig, ax = plt.subplots(figsize=(8,6))\n",
    "# plt.plot(fpr, tpr, label = ('ROC AUC = %0.3f' % roc_auc))\n",
    "\n",
    "# plt.legend(loc = 'lower right')\n",
    "# plt.plot([0, 1], [0, 1],'r--')\n",
    "# plt.xlim([0, 1])\n",
    "# plt.ylim([0, 1])\n",
    "# ax.set_xlabel(\"False Positive Rate\",fontsize=16)\n",
    "# ax.set_ylabel(\"True Positive Rate\",fontsize=16)\n",
    "# plt.setp(ax.get_legend().get_texts(), fontsize=16)\n",
    "\n",
    "# plt.savefig(fname='roc_curve_blackjack', dpi=150)\n",
    "# plt.show()"
   ]
  },
  {
   "cell_type": "code",
   "execution_count": 28,
   "metadata": {},
   "outputs": [],
   "source": [
    "#train_X train_Y\n",
    "from sklearn.neural_network import MLPClassifier\n",
    "mlp = MLPClassifier(hidden_layer_sizes=(16, 32, 8),max_iter=10000, verbose=10)\n"
   ]
  },
  {
   "cell_type": "code",
   "execution_count": 30,
   "metadata": {},
   "outputs": [
    {
     "name": "stdout",
     "output_type": "stream",
     "text": [
      "['player_total_initial', 'hit?', 'has_ace', 'dealer_card_num']\n",
      "[[ 8  1  0  8]\n",
      " [20  0  0  4]\n",
      " [11  1  0  3]\n",
      " ...\n",
      " [16  0  0  2]\n",
      " [17  0  0 10]\n",
      " [14  0  1  7]]\n"
     ]
    }
   ],
   "source": [
    "feature_list_test = [i for i in model_df_naive.columns if i not in ['dealer_card',\n",
    "                                                         'player_result','lose',\n",
    "                                                         'correct_action']]\n",
    "print(feature_list_test)\n",
    "train_X_test = np.array(model_df_naive[feature_list])\n",
    "train_Y_test = np.array(model_df_naive['correct_action']).reshape(-1,1)  #is our target \n",
    "print(train_X_test)"
   ]
  },
  {
   "cell_type": "code",
   "execution_count": 31,
   "metadata": {},
   "outputs": [
    {
     "name": "stderr",
     "output_type": "stream",
     "text": [
      "/usr/local/lib/python3.7/site-packages/sklearn/neural_network/multilayer_perceptron.py:921: DataConversionWarning: A column-vector y was passed when a 1d array was expected. Please change the shape of y to (n_samples, ), for example using ravel().\n",
      "  y = column_or_1d(y, warn=True)\n"
     ]
    },
    {
     "name": "stdout",
     "output_type": "stream",
     "text": [
      "Iteration 1, loss = 0.59067767\n",
      "Iteration 2, loss = 0.55678719\n",
      "Iteration 3, loss = 0.55357226\n",
      "Iteration 4, loss = 0.55289452\n",
      "Iteration 5, loss = 0.55219694\n",
      "Iteration 6, loss = 0.55150359\n",
      "Iteration 7, loss = 0.55147764\n",
      "Iteration 8, loss = 0.55096441\n",
      "Iteration 9, loss = 0.55035563\n",
      "Iteration 10, loss = 0.55038207\n",
      "Iteration 11, loss = 0.55030209\n",
      "Iteration 12, loss = 0.55010612\n",
      "Iteration 13, loss = 0.55000761\n",
      "Iteration 14, loss = 0.54952660\n",
      "Iteration 15, loss = 0.54963984\n",
      "Iteration 16, loss = 0.54980349\n",
      "Iteration 17, loss = 0.54913097\n",
      "Iteration 18, loss = 0.54934331\n",
      "Iteration 19, loss = 0.54931763\n",
      "Iteration 20, loss = 0.54917888\n",
      "Iteration 21, loss = 0.54908540\n",
      "Iteration 22, loss = 0.54885746\n",
      "Iteration 23, loss = 0.54886302\n",
      "Iteration 24, loss = 0.54874620\n",
      "Iteration 25, loss = 0.54836333\n",
      "Iteration 26, loss = 0.54844798\n",
      "Iteration 27, loss = 0.54813546\n",
      "Iteration 28, loss = 0.54812898\n",
      "Iteration 29, loss = 0.54785991\n",
      "Iteration 30, loss = 0.54783125\n",
      "Iteration 31, loss = 0.54771102\n",
      "Iteration 32, loss = 0.54767535\n",
      "Iteration 33, loss = 0.54736900\n",
      "Iteration 34, loss = 0.54758767\n",
      "Iteration 35, loss = 0.54724273\n",
      "Iteration 36, loss = 0.54746363\n",
      "Iteration 37, loss = 0.54729157\n",
      "Iteration 38, loss = 0.54732015\n",
      "Iteration 39, loss = 0.54720229\n",
      "Iteration 40, loss = 0.54717296\n",
      "Iteration 41, loss = 0.54700105\n",
      "Iteration 42, loss = 0.54711981\n",
      "Iteration 43, loss = 0.54690442\n",
      "Iteration 44, loss = 0.54711131\n",
      "Iteration 45, loss = 0.54698043\n",
      "Iteration 46, loss = 0.54683526\n",
      "Iteration 47, loss = 0.54691498\n",
      "Iteration 48, loss = 0.54675372\n",
      "Iteration 49, loss = 0.54657588\n",
      "Iteration 50, loss = 0.54687815\n",
      "Iteration 51, loss = 0.54679485\n",
      "Iteration 52, loss = 0.54660860\n",
      "Iteration 53, loss = 0.54666225\n",
      "Iteration 54, loss = 0.54662255\n",
      "Iteration 55, loss = 0.54693190\n",
      "Iteration 56, loss = 0.54711765\n",
      "Iteration 57, loss = 0.54644885\n",
      "Iteration 58, loss = 0.54645804\n",
      "Iteration 59, loss = 0.54641929\n",
      "Iteration 60, loss = 0.54634186\n",
      "Iteration 61, loss = 0.54640685\n",
      "Iteration 62, loss = 0.54641071\n",
      "Iteration 63, loss = 0.54663578\n",
      "Iteration 64, loss = 0.54613970\n",
      "Iteration 65, loss = 0.54613424\n",
      "Iteration 66, loss = 0.54620913\n",
      "Iteration 67, loss = 0.54625382\n",
      "Iteration 68, loss = 0.54611641\n",
      "Iteration 69, loss = 0.54616555\n",
      "Iteration 70, loss = 0.54625041\n",
      "Iteration 71, loss = 0.54602860\n",
      "Iteration 72, loss = 0.54656594\n",
      "Iteration 73, loss = 0.54607131\n",
      "Iteration 74, loss = 0.54606549\n",
      "Iteration 75, loss = 0.54604841\n",
      "Training loss did not improve more than tol=0.000100 for 10 consecutive epochs. Stopping.\n"
     ]
    },
    {
     "data": {
      "text/plain": [
       "MLPClassifier(activation='relu', alpha=0.0001, batch_size='auto', beta_1=0.9,\n",
       "              beta_2=0.999, early_stopping=False, epsilon=1e-08,\n",
       "              hidden_layer_sizes=(16, 32, 8), learning_rate='constant',\n",
       "              learning_rate_init=0.001, max_iter=10000, momentum=0.9,\n",
       "              n_iter_no_change=10, nesterovs_momentum=True, power_t=0.5,\n",
       "              random_state=None, shuffle=True, solver='adam', tol=0.0001,\n",
       "              validation_fraction=0.1, verbose=10, warm_start=False)"
      ]
     },
     "execution_count": 31,
     "metadata": {},
     "output_type": "execute_result"
    }
   ],
   "source": [
    "mlp.fit(train_X, train_Y)"
   ]
  },
  {
   "cell_type": "code",
   "execution_count": 32,
   "metadata": {},
   "outputs": [
    {
     "name": "stdout",
     "output_type": "stream",
     "text": [
      "Test accuracy 0.7128028242000259\n"
     ]
    }
   ],
   "source": [
    "print('Test accuracy', mlp.score(train_X_test,train_Y_test))"
   ]
  },
  {
   "cell_type": "code",
   "execution_count": 35,
   "metadata": {},
   "outputs": [],
   "source": [
    "# and then based on that prediction, \n",
    "# use this model to predict the action \n",
    "\n",
    "def model_decision(model, player_sum, has_ace, dealer_card_num):\n",
    "    input_array = np.array([player_sum, 0, has_ace, dealer_card_num]).reshape(1,-1)\n",
    "    predict_correct = model.predict(input_array)\n",
    "    if predict_correct >= 0.50:\n",
    "        return 1\n",
    "    else:\n",
    "        return 0"
   ]
  },
  {
   "cell_type": "code",
   "execution_count": 36,
   "metadata": {},
   "outputs": [],
   "source": [
    "# Play blackjack but use the neural net to make hit/stay decision\n",
    "\n",
    "stacks = 10000\n",
    "players = 1\n",
    "num_decks = 4\n",
    "\n",
    "card_types = ['A',2,3,4,5,6,7,8,9,10,10,10,10]\n",
    "\n",
    "dealer_card_feature = []\n",
    "player_card_feature = []\n",
    "player_live_total = []\n",
    "player_live_action = []\n",
    "player_results = []\n",
    "\n",
    "for stack in range(stacks):\n",
    "    blackjack = set(['A',10])\n",
    "    dealer_cards = generate_decks(num_decks, card_types)\n",
    "    while len(dealer_cards) > 20:\n",
    "        \n",
    "        curr_player_results = np.zeros((1,players))\n",
    "        \n",
    "        dealer_hand = []\n",
    "        player_hands = [[] for player in range(players)]\n",
    "        live_total = []\n",
    "        live_action = []\n",
    "\n",
    "        # Deal FIRST card\n",
    "        for player, hand in enumerate(player_hands):\n",
    "            player_hands[player].append(dealer_cards.pop(0))\n",
    "        dealer_hand.append(dealer_cards.pop(0))\n",
    "        # Deal SECOND card\n",
    "        for player, hand in enumerate(player_hands):\n",
    "            player_hands[player].append(dealer_cards.pop(0))\n",
    "        dealer_hand.append(dealer_cards.pop(0))\n",
    "        \n",
    "        # Record the player's live total after cards are dealt\n",
    "        live_total.append(sum_up(player_hands[player]))\n",
    "        action = 0\n",
    "\n",
    "        # Dealer checks for 21\n",
    "        if set(dealer_hand) == blackjack:\n",
    "            for player in range(players):\n",
    "                if set(player_hands[player]) != blackjack:\n",
    "                    curr_player_results[0,player] = -1\n",
    "                else:\n",
    "                    curr_player_results[0,player] = 0\n",
    "        else:\n",
    "            for player in range(players):\n",
    "                # Players check for 21\n",
    "                if set(player_hands[player]) == blackjack:\n",
    "                    curr_player_results[0,player] = 1\n",
    "                else:\n",
    "                    # Neural net decides whether to hit or stand\n",
    "                    if 'A' in player_hands[player][0:2]:\n",
    "                        ace_in_hand = 1\n",
    "                    else:\n",
    "                        ace_in_hand = 0\n",
    "                    if dealer_hand[0] == 'A':\n",
    "                        dealer_face_up_card = 11\n",
    "                    else:\n",
    "                        dealer_face_up_card = dealer_hand[0]\n",
    "                    \n",
    "                    while (model_decision(model, sum_up(player_hands[player]), \n",
    "                                          ace_in_hand, dealer_face_up_card) == 1) and (sum_up(player_hands[player]) != 21):\n",
    "                        player_hands[player].append(dealer_cards.pop(0))\n",
    "                        action = 1\n",
    "                        live_total.append(sum_up(player_hands[player]))\n",
    "                        if sum_up(player_hands[player]) > 21:\n",
    "                            curr_player_results[0,player] = -1\n",
    "                            break\n",
    "        \n",
    "        # Dealer hits based on the rules\n",
    "        while sum_up(dealer_hand) < 17:\n",
    "            dealer_hand.append(dealer_cards.pop(0))\n",
    "        # Compare dealer hand to players hand but first check if dealer busted\n",
    "        if sum_up(dealer_hand) > 21:\n",
    "            for player in range(players):\n",
    "                if curr_player_results[0,player] != -1:\n",
    "                    curr_player_results[0,player] = 1\n",
    "        else:\n",
    "            for player in range(players):\n",
    "                if sum_up(player_hands[player]) > sum_up(dealer_hand):\n",
    "                    if sum_up(player_hands[player]) <= 21:\n",
    "                        curr_player_results[0,player] = 1\n",
    "                elif sum_up(player_hands[player]) == sum_up(dealer_hand):\n",
    "                    curr_player_results[0,player] = 0\n",
    "                else:\n",
    "                    curr_player_results[0,player] = -1\n",
    "        \n",
    "        # Track features\n",
    "        dealer_card_feature.append(dealer_hand[0])\n",
    "        player_card_feature.append(player_hands)\n",
    "        player_results.append(list(curr_player_results[0]))\n",
    "        player_live_total.append(live_total)\n",
    "        player_live_action.append(action)\n",
    "\n",
    "model_df_smart = pd.DataFrame()\n",
    "model_df_smart['dealer_card'] = dealer_card_feature\n",
    "model_df_smart['player_total_initial'] = [sum_up(i[0][0:2]) for i in player_card_feature]\n",
    "model_df_smart['hit?'] = player_live_action\n",
    "\n",
    "has_ace = []\n",
    "for i in player_card_feature:\n",
    "    if ('A' in i[0][0:2]):\n",
    "        has_ace.append(1)\n",
    "    else:\n",
    "        has_ace.append(0)\n",
    "model_df_smart['has_ace'] = has_ace\n",
    "\n",
    "dealer_card_num = []\n",
    "for i in model_df_smart['dealer_card']:\n",
    "    if i=='A':\n",
    "        dealer_card_num.append(11)\n",
    "    else:\n",
    "        dealer_card_num.append(i)\n",
    "model_df_smart['dealer_card_num'] = dealer_card_num\n",
    "\n",
    "model_df_smart['player_result'] = [i[0] for i in player_results]\n",
    "lose = []\n",
    "for i in model_df_smart['player_result']:\n",
    "    if i == -1:\n",
    "        lose.append(1)\n",
    "    else:\n",
    "        lose.append(0)\n",
    "model_df_smart['lose'] = lose"
   ]
  },
  {
   "cell_type": "code",
   "execution_count": 37,
   "metadata": {},
   "outputs": [
    {
     "data": {
      "text/html": [
       "<div>\n",
       "<style scoped>\n",
       "    .dataframe tbody tr th:only-of-type {\n",
       "        vertical-align: middle;\n",
       "    }\n",
       "\n",
       "    .dataframe tbody tr th {\n",
       "        vertical-align: top;\n",
       "    }\n",
       "\n",
       "    .dataframe thead th {\n",
       "        text-align: right;\n",
       "    }\n",
       "</style>\n",
       "<table border=\"1\" class=\"dataframe\">\n",
       "  <thead>\n",
       "    <tr style=\"text-align: right;\">\n",
       "      <th></th>\n",
       "      <th>dealer_card</th>\n",
       "      <th>player_total_initial</th>\n",
       "      <th>hit?</th>\n",
       "      <th>has_ace</th>\n",
       "      <th>dealer_card_num</th>\n",
       "      <th>player_result</th>\n",
       "      <th>lose</th>\n",
       "    </tr>\n",
       "  </thead>\n",
       "  <tbody>\n",
       "    <tr>\n",
       "      <td>0</td>\n",
       "      <td>10</td>\n",
       "      <td>14</td>\n",
       "      <td>1</td>\n",
       "      <td>0</td>\n",
       "      <td>10</td>\n",
       "      <td>-1.0</td>\n",
       "      <td>1</td>\n",
       "    </tr>\n",
       "    <tr>\n",
       "      <td>1</td>\n",
       "      <td>5</td>\n",
       "      <td>6</td>\n",
       "      <td>1</td>\n",
       "      <td>0</td>\n",
       "      <td>5</td>\n",
       "      <td>1.0</td>\n",
       "      <td>0</td>\n",
       "    </tr>\n",
       "    <tr>\n",
       "      <td>2</td>\n",
       "      <td>7</td>\n",
       "      <td>13</td>\n",
       "      <td>1</td>\n",
       "      <td>0</td>\n",
       "      <td>7</td>\n",
       "      <td>-1.0</td>\n",
       "      <td>1</td>\n",
       "    </tr>\n",
       "    <tr>\n",
       "      <td>3</td>\n",
       "      <td>10</td>\n",
       "      <td>16</td>\n",
       "      <td>1</td>\n",
       "      <td>0</td>\n",
       "      <td>10</td>\n",
       "      <td>-1.0</td>\n",
       "      <td>1</td>\n",
       "    </tr>\n",
       "    <tr>\n",
       "      <td>4</td>\n",
       "      <td>6</td>\n",
       "      <td>9</td>\n",
       "      <td>1</td>\n",
       "      <td>0</td>\n",
       "      <td>6</td>\n",
       "      <td>-1.0</td>\n",
       "      <td>1</td>\n",
       "    </tr>\n",
       "    <tr>\n",
       "      <td>...</td>\n",
       "      <td>...</td>\n",
       "      <td>...</td>\n",
       "      <td>...</td>\n",
       "      <td>...</td>\n",
       "      <td>...</td>\n",
       "      <td>...</td>\n",
       "      <td>...</td>\n",
       "    </tr>\n",
       "    <tr>\n",
       "      <td>330905</td>\n",
       "      <td>10</td>\n",
       "      <td>16</td>\n",
       "      <td>1</td>\n",
       "      <td>0</td>\n",
       "      <td>10</td>\n",
       "      <td>-1.0</td>\n",
       "      <td>1</td>\n",
       "    </tr>\n",
       "    <tr>\n",
       "      <td>330906</td>\n",
       "      <td>10</td>\n",
       "      <td>17</td>\n",
       "      <td>0</td>\n",
       "      <td>1</td>\n",
       "      <td>10</td>\n",
       "      <td>1.0</td>\n",
       "      <td>0</td>\n",
       "    </tr>\n",
       "    <tr>\n",
       "      <td>330907</td>\n",
       "      <td>10</td>\n",
       "      <td>12</td>\n",
       "      <td>1</td>\n",
       "      <td>0</td>\n",
       "      <td>10</td>\n",
       "      <td>1.0</td>\n",
       "      <td>0</td>\n",
       "    </tr>\n",
       "    <tr>\n",
       "      <td>330908</td>\n",
       "      <td>10</td>\n",
       "      <td>12</td>\n",
       "      <td>1</td>\n",
       "      <td>0</td>\n",
       "      <td>10</td>\n",
       "      <td>-1.0</td>\n",
       "      <td>1</td>\n",
       "    </tr>\n",
       "    <tr>\n",
       "      <td>330909</td>\n",
       "      <td>5</td>\n",
       "      <td>18</td>\n",
       "      <td>0</td>\n",
       "      <td>1</td>\n",
       "      <td>5</td>\n",
       "      <td>1.0</td>\n",
       "      <td>0</td>\n",
       "    </tr>\n",
       "  </tbody>\n",
       "</table>\n",
       "<p>330910 rows × 7 columns</p>\n",
       "</div>"
      ],
      "text/plain": [
       "       dealer_card  player_total_initial  hit?  has_ace  dealer_card_num  \\\n",
       "0               10                    14     1        0               10   \n",
       "1                5                     6     1        0                5   \n",
       "2                7                    13     1        0                7   \n",
       "3               10                    16     1        0               10   \n",
       "4                6                     9     1        0                6   \n",
       "...            ...                   ...   ...      ...              ...   \n",
       "330905          10                    16     1        0               10   \n",
       "330906          10                    17     0        1               10   \n",
       "330907          10                    12     1        0               10   \n",
       "330908          10                    12     1        0               10   \n",
       "330909           5                    18     0        1                5   \n",
       "\n",
       "        player_result  lose  \n",
       "0                -1.0     1  \n",
       "1                 1.0     0  \n",
       "2                -1.0     1  \n",
       "3                -1.0     1  \n",
       "4                -1.0     1  \n",
       "...               ...   ...  \n",
       "330905           -1.0     1  \n",
       "330906            1.0     0  \n",
       "330907            1.0     0  \n",
       "330908           -1.0     1  \n",
       "330909            1.0     0  \n",
       "\n",
       "[330910 rows x 7 columns]"
      ]
     },
     "execution_count": 37,
     "metadata": {},
     "output_type": "execute_result"
    }
   ],
   "source": [
    "model_df_smart"
   ]
  },
  {
   "cell_type": "code",
   "execution_count": 38,
   "metadata": {},
   "outputs": [
    {
     "name": "stdout",
     "output_type": "stream",
     "text": [
      "0.5070109697500831\n"
     ]
    }
   ],
   "source": [
    "smart_win_possibility = 1 - (model_df_smart.sum()['lose'] /\\\n",
    "                  model_df_smart.count()['lose'])\n",
    "print(smart_win_possibility)"
   ]
  },
  {
   "cell_type": "code",
   "execution_count": 39,
   "metadata": {},
   "outputs": [
    {
     "data": {
      "image/png": "[encoded data removed]",
      "text/plain": [
       "<Figure size 864x432 with 1 Axes>"
      ]
     },
     "metadata": {
      "needs_background": "light"
     },
     "output_type": "display_data"
    }
   ],
   "source": [
    "data_smart = 1 - (model_df_smart.groupby(by='dealer_card_num').sum()['lose'] /\\\n",
    "                  model_df_smart.groupby(by='dealer_card_num').count()['lose'])\n",
    "data_naive = 1 - (model_df_naive.groupby(by='dealer_card_num').sum()['lose'] /\\\n",
    "                  model_df_naive.groupby(by='dealer_card_num').count()['lose'])\n",
    "data_random = 1 - (model_df.groupby(by='dealer_card_num').sum()['lose'] /\\\n",
    "                   model_df.groupby(by='dealer_card_num').count()['lose'])\n",
    "\n",
    "data = pd.DataFrame()\n",
    "data['smart'] = data_smart\n",
    "data['naive'] = data_naive\n",
    "data['random'] = data_random\n",
    "\n",
    "fig, ax = plt.subplots(figsize=(12,6))\n",
    "ax.bar(x=data.index-0.28, height=data['smart'].values, color='blue', width=0.3, label='Smart')\n",
    "ax.bar(x=data.index, height=data['naive'].values, color='orange', width=0.3, label='Naive')\n",
    "ax.bar(x=data.index+0.28, height=data['random'].values, color='red', width=0.3, label='Coin Flip')\n",
    "ax.set_xlabel(\"Dealer's Card\",fontsize=16)\n",
    "ax.set_ylabel(\"Probability of Tie or Win\",fontsize=16)\n",
    "plt.xticks(np.arange(2, 12, 1.0))\n",
    "\n",
    "plt.legend()\n",
    "plt.tight_layout()\n",
    "#plt.savefig(fname='dealer_card_probs_smart', dpi=150)"
   ]
  },
  {
   "cell_type": "code",
   "execution_count": 40,
   "metadata": {},
   "outputs": [
    {
     "data": {
      "image/png": "[encoded data removed]",
      "text/plain": [
       "<Figure size 864x432 with 1 Axes>"
      ]
     },
     "metadata": {
      "needs_background": "light"
     },
     "output_type": "display_data"
    }
   ],
   "source": [
    "data_smart = 1 - (model_df_smart.groupby(by='player_total_initial').sum()['lose'] /\\\n",
    "                  model_df_smart.groupby(by='player_total_initial').count()['lose'])\n",
    "data_naive = 1 - (model_df_naive.groupby(by='player_total_initial').sum()['lose'] /\\\n",
    "                  model_df_naive.groupby(by='player_total_initial').count()['lose'])\n",
    "data_random = 1 - (model_df.groupby(by='player_total_initial').sum()['lose'] /\\\n",
    "                   model_df.groupby(by='player_total_initial').count()['lose'])\n",
    "\n",
    "data = pd.DataFrame()\n",
    "data['smart'] = data_smart[:-1]\n",
    "data['naive'] = data_naive[:-1]\n",
    "data['random'] = data_random[:-1]\n",
    "\n",
    "fig, ax = plt.subplots(figsize=(12,6))\n",
    "ax.bar(x=data.index-0.28, height=data['smart'].values, color='blue', width=0.3, label='Smart')\n",
    "ax.bar(x=data.index, height=data['naive'].values, color='orange', width=0.3, label='Naive')\n",
    "ax.bar(x=data.index+0.28, height=data['random'].values, color='red', width=0.3, label='Coin Flip')\n",
    "ax.set_xlabel(\"Player's Hand Value\",fontsize=16)\n",
    "ax.set_ylabel(\"Probability of Tie or Win\",fontsize=16)\n",
    "plt.xticks(np.arange(4, 21, 1.0))\n",
    "\n",
    "plt.legend()\n",
    "plt.tight_layout()\n",
    "plt.savefig(fname='player_hand_probs_smart', dpi=150)"
   ]
  }
 ],
 "metadata": {
  "kernelspec": {
   "display_name": "Python 3",
   "language": "python",
   "name": "python3"
  },
  "language_info": {
   "codemirror_mode": {
    "name": "ipython",
    "version": 3
   },
   "file_extension": ".py",
   "mimetype": "text/x-python",
   "name": "python",
   "nbconvert_exporter": "python",
   "pygments_lexer": "ipython3",
   "version": "3.7.3"
  }
 },
 "nbformat": 4,
 "nbformat_minor": 4
}

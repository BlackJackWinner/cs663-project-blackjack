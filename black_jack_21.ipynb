{
 "cells": [
  {
   "cell_type": "markdown",
   "metadata": {},
   "source": [
    "## Model --- NEURAL EVOLUTION \n",
    "\n",
    "Neural network evolved by genetic algorithm."
   ]
  },
  {
   "cell_type": "code",
   "execution_count": 1,
   "metadata": {},
   "outputs": [],
   "source": [
    "%matplotlib inline\n",
    "import matplotlib.pyplot as plt\n",
    "import numpy as np\n",
    "from scipy.stats import logistic\n",
    "import pandas as pd\n",
    "import copy\n",
    "from random import shuffle, sample\n",
    "import random"
   ]
  },
  {
   "cell_type": "markdown",
   "metadata": {},
   "source": [
    "### Creating a simple blackjack game."
   ]
  },
  {
   "cell_type": "code",
   "execution_count": 34,
   "metadata": {},
   "outputs": [],
   "source": [
    "class Game:\n",
    "    def __init__(self):\n",
    "        self.deck =  5 * list(range(1,11))\n",
    "        shuffle(self.deck)\n",
    "        self.game_running = False\n",
    "        self.cumulative_draw = 0 \n",
    "        self.best_player_score = 0\n",
    "    def start_game(self, player_list):\n",
    "        while  len([p for p in player_list if p.burn == False and p.stop == False]) > 1:\n",
    "            for player in [p_t for p_t in player_list if p_t.burn == False and p_t.stop == False]:\n",
    "                #print player.name,player.points\n",
    "                if player.decision(self)[0] == 0:\n",
    "                    player.stop_game()\n",
    "                else:\n",
    "                    self.cumulative_draw += player.draw(self.deck)\n",
    "                if self.best_player_score < player.points:\n",
    "                    self.best_player_score = player.points\n",
    "        #print [[p_e.name, p_e.points] for p_e in player_list]\n",
    "        winner_table =  [p_e for p_e in player_list if p_e.burn == False]\n",
    "        winner_table = sorted(winner_table, key = lambda x : 21 - x.points)\n",
    "        #print [p_e.points for p_e in winner_table] \n",
    "        #print 'Game ended...'\n",
    "        \n",
    "         \n",
    "        if set([p_end.points for p_end in winner_table]) == 1 or not winner_table:\n",
    "            #print 'ko'\n",
    "            return 'ko'\n",
    "        else:\n",
    "            #print 'ganhador',   winner_table[0].name \n",
    "            return winner_table[0].name\n",
    "        \n",
    "        "
   ]
  },
  {
   "cell_type": "markdown",
   "metadata": {},
   "source": [
    "### Defining the Player class"
   ]
  },
  {
   "cell_type": "code",
   "execution_count": 35,
   "metadata": {},
   "outputs": [],
   "source": [
    "class Player:\n",
    "    def __init__(self, name):\n",
    "        self.stop = False\n",
    "        self.burn = False\n",
    "        self.points = 0\n",
    "        self.name = name\n",
    "        self.neural_network = None\n",
    "    def decision(self, game_obj):\n",
    "        \n",
    "        out = sample([0,1], 1) # the output shoud be [0] or [1]\n",
    "        #print out \n",
    "        return out  # random behavior\n",
    "    \n",
    "    def stop_game(self):\n",
    "        #print self.name, 'Stop'\n",
    "        self.stop = True\n",
    "    def draw(self, deck_game):\n",
    "        \n",
    "        card = deck_game.pop()\n",
    "        #print self.name, 'comprou card', card\n",
    "        self.points += card\n",
    "        if self.points > 21:\n",
    "            self.burn = True\n",
    "            #print self.name, 'BURNEDD!'\n",
    "        return card\n",
    "            \n",
    "    \n",
    "    \n",
    "\n",
    "        "
   ]
  },
  {
   "cell_type": "markdown",
   "metadata": {},
   "source": [
    "### Gerating simple Players usig Player class inheritance and  overwriting the decision method."
   ]
  },
  {
   "cell_type": "code",
   "execution_count": 36,
   "metadata": {},
   "outputs": [],
   "source": [
    "class First_strategy(Player):\n",
    "    def decision(self, game_obj):\n",
    "        if self.points < 15:\n",
    "            return [1]\n",
    "        else:\n",
    "            return [0]\n",
    "    \n",
    "class Second_strategy(Player):\n",
    "    def decision(self, game_obj):\n",
    "        return [1]"
   ]
  },
  {
   "cell_type": "markdown",
   "metadata": {},
   "source": [
    "### Simulating a simple championship with 3 different players."
   ]
  },
  {
   "cell_type": "code",
   "execution_count": 37,
   "metadata": {
    "scrolled": true
   },
   "outputs": [
    {
     "name": "stdout",
     "output_type": "stream",
     "text": [
      "7\n",
      "['Sergio', 'Lucas', 'Lucas', 'Sergio', 'Lucas', 'Lucas', 'Miura', 'Lucas', 'Lucas', 'Lucas', 'Sergio', 'Lucas', 'Lucas', 'Lucas', 'Lucas', 'Miura', 'Lucas', 'Lucas', 'Sergio', 'Sergio', 'Sergio', 'Lucas', 'Sergio', 'Sergio', 'Sergio', 'Lucas', 'Sergio', 'Lucas', 'Lucas', 'Lucas', 'Lucas', 'Lucas', 'Lucas', 'Sergio', 'Sergio', 'Sergio', 'Lucas', 'Lucas', 'Lucas', 'Sergio', 'Lucas', 'Sergio', 'Lucas', 'Lucas', 'Lucas', 'Lucas', 'Lucas', 'ko', 'Lucas', 'Lucas', 'Lucas', 'Lucas', 'Lucas', 'Lucas', 'Lucas', 'Miura', 'Miura', 'Lucas', 'Lucas', 'Miura', 'Sergio', 'Lucas', 'Lucas', 'Sergio', 'Lucas', 'Lucas', 'Lucas', 'Lucas', 'Lucas', 'Lucas', 'Lucas', 'Lucas', 'Lucas', 'Miura', 'Sergio', 'Lucas', 'Lucas', 'Lucas', 'Lucas', 'Lucas', 'Lucas', 'Lucas', 'Lucas', 'Sergio', 'Lucas', 'Lucas', 'Sergio', 'Lucas', 'Lucas', 'Sergio', 'Lucas', 'Sergio', 'Lucas', 'Lucas', 'Lucas', 'Sergio', 'Lucas', 'Miura', 'Lucas', 'Lucas']\n"
     ]
    }
   ],
   "source": [
    "matchs = []\n",
    "\n",
    "for x in range(100):\n",
    "    jogo = Game()\n",
    "    lucas = First_strategy('Lucas')\n",
    "    miura = Player('Miura')\n",
    "    sergio = Second_strategy('Sergio')\n",
    "    \n",
    "    matchs.append(jogo.start_game([lucas, miura, sergio]))\n",
    "\n",
    "print (len([m for m in matchs if m == 'Miura']))\n",
    "print (matchs)"
   ]
  },
  {
   "cell_type": "markdown",
   "metadata": {},
   "source": [
    "###  Neural network class implementation with forward propagation"
   ]
  },
  {
   "cell_type": "code",
   "execution_count": 38,
   "metadata": {},
   "outputs": [],
   "source": [
    "class Network:\n",
    "    def __init__(self, input_number = 2):\n",
    "        self.l_1 = np.random.uniform(-1,1, [10,input_number])\n",
    "\n",
    "        self.l_2 = np.random.uniform(-1,1,[10,10])\n",
    "        self.l_end = np.random.uniform(-1,1,[1,10])\n",
    "        self.layers_stack = [self.l_1 , self.l_2 , self.l_end]\n",
    "    \n",
    "    \n",
    "    def sigmoid (self, x): return 1/(1 + np.exp(-x))\n",
    "    \n",
    "    def foward(self, input_value):\n",
    "        #print input_value\n",
    "        res_l1 =  np.array([self.sigmoid(l1_s) for l1_s in      input_value.dot(self.l_1.T)])\n",
    "        res_l2 = np.array([ self.sigmoid(l2_s)  for l2_s in     res_l1.dot(self.l_2.T)])\n",
    "        res_end = np.array([self.sigmoid (l_r) for l_r in       res_l2.dot(self.l_end.T)])\n",
    "        #print res_end\n",
    "        return res_end\n",
    "    \n",
    "    def mutate(self, layer):\n",
    "        index_to_mutate = [np.random.randint(layer.shape[0]), np.random.randint(layer.shape[1])]\n",
    "        #print 'mutate',  np.random.uniform(-1, 1)\n",
    "        layer[index_to_mutate[0], index_to_mutate[1]] += np.random.uniform(-0.01, 0.01)\n",
    "        \n",
    "        \n",
    "    def mutate_all_layers(self):\n",
    "        for l in self.layers_stack:\n",
    "            self.mutate(l)\n",
    "    "
   ]
  },
  {
   "cell_type": "markdown",
   "metadata": {},
   "source": [
    "### Creating a Neural Network Player\n",
    "\n",
    "The decision method returns 0 (stop),1 (draw a card)\n",
    "The inputs  are: \n",
    "\n",
    "- Agent score.\n",
    "- Highest opponent pontuation.\n",
    "- Sum of all cards played until that moment"
   ]
  },
  {
   "cell_type": "code",
   "execution_count": 39,
   "metadata": {},
   "outputs": [],
   "source": [
    "class Neural_strategy(Player):\n",
    "    def decision(self, game_obj):\n",
    "        best_rank_player = game_obj.best_player_score\n",
    "        #print best_rank_player\n",
    "        #print  [self.neural_network.foward(np.array([ self.points, best_rank_player ,game_obj.cumulative_draw]))]\n",
    "\n",
    "#         return [int(round(self.neural_network.foward(np.array([ self.points, best_rank_player ,game_obj.cumulative_draw]))))]\n",
    "        return [round(x) for x in self.neural_network.foward(np.array([ self.points, best_rank_player ,game_obj.cumulative_draw]))]\n",
    "    def init_neural_activity(self):\n",
    "        self.neural_network = Network(input_number = 3)\n",
    "    def reset_status(self):\n",
    "        self.stop = False\n",
    "        self.burn = False\n",
    "        self.points = 0\n",
    "        "
   ]
  },
  {
   "cell_type": "markdown",
   "metadata": {},
   "source": [
    "### Training/Evolving the neural networks\n",
    "\n",
    "using the follow parameters. \n",
    "-  population = 500  \n",
    "-  iterations = 100  \n",
    "- matchs per championship = 300  \n",
    "- The two best AI neural networks are choosed to ploriferate and mutate.  \n",
    "- Fitness fuction is given as the mean of championship won games. "
   ]
  },
  {
   "cell_type": "code",
   "execution_count": 40,
   "metadata": {
    "scrolled": true
   },
   "outputs": [
    {
     "name": "stderr",
     "output_type": "stream",
     "text": [
      "100%|██████████| 500/500 [00:06<00:00, 74.50it/s]\n",
      "  1%|          | 6/500 [00:00<00:09, 51.84it/s]"
     ]
    },
    {
     "name": "stdout",
     "output_type": "stream",
     "text": [
      "Iteration MEAN: 11.95\n",
      "Iteration: 0 Best value: 46.666666666666664\n"
     ]
    },
    {
     "name": "stderr",
     "output_type": "stream",
     "text": [
      "100%|██████████| 500/500 [00:09<00:00, 51.36it/s]\n",
      "  2%|▏         | 12/500 [00:00<00:09, 54.07it/s]"
     ]
    },
    {
     "name": "stdout",
     "output_type": "stream",
     "text": [
      "Iteration MEAN: 30.576666666666664\n",
      "Iteration: 1 Best value: 58.333333333333336\n"
     ]
    },
    {
     "name": "stderr",
     "output_type": "stream",
     "text": [
      "100%|██████████| 500/500 [00:08<00:00, 57.79it/s]\n",
      "  1%|          | 6/500 [00:00<00:08, 59.30it/s]"
     ]
    },
    {
     "name": "stdout",
     "output_type": "stream",
     "text": [
      "Iteration MEAN: 36.47\n",
      "Iteration: 2 Best value: 56.666666666666664\n"
     ]
    },
    {
     "name": "stderr",
     "output_type": "stream",
     "text": [
      "100%|██████████| 500/500 [00:08<00:00, 59.41it/s]\n",
      "  2%|▏         | 12/500 [00:00<00:08, 58.10it/s]"
     ]
    },
    {
     "name": "stdout",
     "output_type": "stream",
     "text": [
      "Iteration MEAN: 37.726666666666674\n",
      "Iteration: 3 Best value: 58.333333333333336\n"
     ]
    },
    {
     "name": "stderr",
     "output_type": "stream",
     "text": [
      "100%|██████████| 500/500 [00:09<00:00, 51.31it/s]\n",
      "  2%|▏         | 12/500 [00:00<00:08, 58.80it/s]"
     ]
    },
    {
     "name": "stdout",
     "output_type": "stream",
     "text": [
      "Iteration MEAN: 38.96333333333333\n",
      "Iteration: 4 Best value: 55.00000000000001\n"
     ]
    },
    {
     "name": "stderr",
     "output_type": "stream",
     "text": [
      "100%|██████████| 500/500 [00:09<00:00, 52.38it/s]\n",
      "  1%|▏         | 7/500 [00:00<00:08, 60.93it/s]"
     ]
    },
    {
     "name": "stdout",
     "output_type": "stream",
     "text": [
      "Iteration MEAN: 38.84666666666667\n",
      "Iteration: 5 Best value: 55.00000000000001\n"
     ]
    },
    {
     "name": "stderr",
     "output_type": "stream",
     "text": [
      "100%|██████████| 500/500 [00:08<00:00, 59.86it/s]\n",
      "  1%|▏         | 7/500 [00:00<00:07, 63.91it/s]"
     ]
    },
    {
     "name": "stdout",
     "output_type": "stream",
     "text": [
      "Iteration MEAN: 38.60666666666666\n",
      "Iteration: 6 Best value: 56.666666666666664\n"
     ]
    },
    {
     "name": "stderr",
     "output_type": "stream",
     "text": [
      "100%|██████████| 500/500 [00:08<00:00, 61.16it/s]\n",
      "  3%|▎         | 13/500 [00:00<00:08, 60.36it/s]"
     ]
    },
    {
     "name": "stdout",
     "output_type": "stream",
     "text": [
      "Iteration MEAN: 39.37\n",
      "Iteration: 7 Best value: 56.666666666666664\n"
     ]
    },
    {
     "name": "stderr",
     "output_type": "stream",
     "text": [
      "100%|██████████| 500/500 [00:08<00:00, 61.10it/s]\n",
      "  3%|▎         | 14/500 [00:00<00:07, 61.10it/s]"
     ]
    },
    {
     "name": "stdout",
     "output_type": "stream",
     "text": [
      "Iteration MEAN: 38.7\n",
      "Iteration: 8 Best value: 56.666666666666664\n"
     ]
    },
    {
     "name": "stderr",
     "output_type": "stream",
     "text": [
      "100%|██████████| 500/500 [00:08<00:00, 61.50it/s]\n",
      "  3%|▎         | 13/500 [00:00<00:08, 58.53it/s]"
     ]
    },
    {
     "name": "stdout",
     "output_type": "stream",
     "text": [
      "Iteration MEAN: 38.66\n",
      "Iteration: 9 Best value: 56.666666666666664\n"
     ]
    },
    {
     "name": "stderr",
     "output_type": "stream",
     "text": [
      "100%|██████████| 500/500 [00:08<00:00, 60.81it/s]\n",
      "  3%|▎         | 13/500 [00:00<00:08, 59.70it/s]"
     ]
    },
    {
     "name": "stdout",
     "output_type": "stream",
     "text": [
      "Iteration MEAN: 39.193333333333335\n",
      "Iteration: 10 Best value: 60.0\n"
     ]
    },
    {
     "name": "stderr",
     "output_type": "stream",
     "text": [
      "100%|██████████| 500/500 [00:08<00:00, 59.88it/s]\n",
      "  1%|          | 6/500 [00:00<00:08, 56.47it/s]"
     ]
    },
    {
     "name": "stdout",
     "output_type": "stream",
     "text": [
      "Iteration MEAN: 38.82\n",
      "Iteration: 11 Best value: 60.0\n"
     ]
    },
    {
     "name": "stderr",
     "output_type": "stream",
     "text": [
      "100%|██████████| 500/500 [00:08<00:00, 59.01it/s]\n",
      "  2%|▏         | 12/500 [00:00<00:08, 56.84it/s]"
     ]
    },
    {
     "name": "stdout",
     "output_type": "stream",
     "text": [
      "Iteration MEAN: 39.74\n",
      "Iteration: 12 Best value: 61.66666666666667\n"
     ]
    },
    {
     "name": "stderr",
     "output_type": "stream",
     "text": [
      "100%|██████████| 500/500 [00:08<00:00, 60.98it/s]\n",
      "  1%|▏         | 7/500 [00:00<00:08, 61.23it/s]"
     ]
    },
    {
     "name": "stdout",
     "output_type": "stream",
     "text": [
      "Iteration MEAN: 38.92\n",
      "Iteration: 13 Best value: 63.33333333333333\n"
     ]
    },
    {
     "name": "stderr",
     "output_type": "stream",
     "text": [
      "100%|██████████| 500/500 [00:08<00:00, 60.57it/s]\n",
      "  2%|▏         | 12/500 [00:00<00:08, 58.93it/s]"
     ]
    },
    {
     "name": "stdout",
     "output_type": "stream",
     "text": [
      "Iteration MEAN: 38.95666666666667\n",
      "Iteration: 14 Best value: 60.0\n"
     ]
    },
    {
     "name": "stderr",
     "output_type": "stream",
     "text": [
      "100%|██████████| 500/500 [00:08<00:00, 61.42it/s]\n",
      "  2%|▏         | 12/500 [00:00<00:08, 59.94it/s]"
     ]
    },
    {
     "name": "stdout",
     "output_type": "stream",
     "text": [
      "Iteration MEAN: 38.8\n",
      "Iteration: 15 Best value: 58.333333333333336\n"
     ]
    },
    {
     "name": "stderr",
     "output_type": "stream",
     "text": [
      "100%|██████████| 500/500 [00:08<00:00, 60.06it/s]\n",
      "  1%|▏         | 7/500 [00:00<00:07, 63.71it/s]"
     ]
    },
    {
     "name": "stdout",
     "output_type": "stream",
     "text": [
      "Iteration MEAN: 39.0\n",
      "Iteration: 16 Best value: 56.666666666666664\n"
     ]
    },
    {
     "name": "stderr",
     "output_type": "stream",
     "text": [
      "100%|██████████| 500/500 [00:08<00:00, 58.55it/s]\n",
      "  1%|          | 6/500 [00:00<00:09, 52.66it/s]"
     ]
    },
    {
     "name": "stdout",
     "output_type": "stream",
     "text": [
      "Iteration MEAN: 38.68666666666667\n",
      "Iteration: 17 Best value: 53.333333333333336\n"
     ]
    },
    {
     "name": "stderr",
     "output_type": "stream",
     "text": [
      "100%|██████████| 500/500 [00:08<00:00, 58.38it/s]\n",
      "  3%|▎         | 13/500 [00:00<00:08, 60.16it/s]"
     ]
    },
    {
     "name": "stdout",
     "output_type": "stream",
     "text": [
      "Iteration MEAN: 39.046666666666674\n",
      "Iteration: 18 Best value: 58.333333333333336\n"
     ]
    },
    {
     "name": "stderr",
     "output_type": "stream",
     "text": [
      "100%|██████████| 500/500 [00:08<00:00, 59.90it/s]\n",
      "  3%|▎         | 13/500 [00:00<00:08, 60.33it/s]"
     ]
    },
    {
     "name": "stdout",
     "output_type": "stream",
     "text": [
      "Iteration MEAN: 38.95333333333333\n",
      "Iteration: 19 Best value: 63.33333333333333\n"
     ]
    },
    {
     "name": "stderr",
     "output_type": "stream",
     "text": [
      "100%|██████████| 500/500 [00:08<00:00, 58.70it/s]\n",
      "  3%|▎         | 13/500 [00:00<00:08, 57.89it/s]"
     ]
    },
    {
     "name": "stdout",
     "output_type": "stream",
     "text": [
      "Iteration MEAN: 38.66\n",
      "Iteration: 20 Best value: 60.0\n"
     ]
    },
    {
     "name": "stderr",
     "output_type": "stream",
     "text": [
      "100%|██████████| 500/500 [00:08<00:00, 59.11it/s]\n",
      "  1%|▏         | 7/500 [00:00<00:08, 61.31it/s]"
     ]
    },
    {
     "name": "stdout",
     "output_type": "stream",
     "text": [
      "Iteration MEAN: 39.043333333333344\n",
      "Iteration: 21 Best value: 60.0\n"
     ]
    },
    {
     "name": "stderr",
     "output_type": "stream",
     "text": [
      "100%|██████████| 500/500 [00:08<00:00, 59.58it/s]\n",
      "  1%|          | 6/500 [00:00<00:08, 59.67it/s]"
     ]
    },
    {
     "name": "stdout",
     "output_type": "stream",
     "text": [
      "Iteration MEAN: 39.30333333333334\n",
      "Iteration: 22 Best value: 56.666666666666664\n"
     ]
    },
    {
     "name": "stderr",
     "output_type": "stream",
     "text": [
      "100%|██████████| 500/500 [00:08<00:00, 58.87it/s]\n",
      "  2%|▏         | 12/500 [00:00<00:08, 58.61it/s]"
     ]
    },
    {
     "name": "stdout",
     "output_type": "stream",
     "text": [
      "Iteration MEAN: 39.06333333333334\n",
      "Iteration: 23 Best value: 61.66666666666667\n"
     ]
    },
    {
     "name": "stderr",
     "output_type": "stream",
     "text": [
      "100%|██████████| 500/500 [00:08<00:00, 59.46it/s]\n",
      "  2%|▏         | 12/500 [00:00<00:08, 56.19it/s]"
     ]
    },
    {
     "name": "stdout",
     "output_type": "stream",
     "text": [
      "Iteration MEAN: 39.27666666666667\n",
      "Iteration: 24 Best value: 56.666666666666664\n"
     ]
    },
    {
     "name": "stderr",
     "output_type": "stream",
     "text": [
      "100%|██████████| 500/500 [00:08<00:00, 58.72it/s]\n",
      "  1%|          | 6/500 [00:00<00:08, 57.23it/s]"
     ]
    },
    {
     "name": "stdout",
     "output_type": "stream",
     "text": [
      "Iteration MEAN: 39.5\n",
      "Iteration: 25 Best value: 58.333333333333336\n"
     ]
    },
    {
     "name": "stderr",
     "output_type": "stream",
     "text": [
      "100%|██████████| 500/500 [00:08<00:00, 60.26it/s]\n",
      "  1%|          | 6/500 [00:00<00:08, 58.35it/s]"
     ]
    },
    {
     "name": "stdout",
     "output_type": "stream",
     "text": [
      "Iteration MEAN: 39.67333333333333\n",
      "Iteration: 26 Best value: 58.333333333333336\n"
     ]
    },
    {
     "name": "stderr",
     "output_type": "stream",
     "text": [
      "100%|██████████| 500/500 [00:08<00:00, 59.81it/s]\n",
      "  2%|▏         | 12/500 [00:00<00:08, 58.51it/s]"
     ]
    },
    {
     "name": "stdout",
     "output_type": "stream",
     "text": [
      "Iteration MEAN: 39.92\n",
      "Iteration: 27 Best value: 58.333333333333336\n"
     ]
    },
    {
     "name": "stderr",
     "output_type": "stream",
     "text": [
      "100%|██████████| 500/500 [00:08<00:00, 58.16it/s]\n",
      "  2%|▏         | 12/500 [00:00<00:08, 54.39it/s]"
     ]
    },
    {
     "name": "stdout",
     "output_type": "stream",
     "text": [
      "Iteration MEAN: 39.92666666666667\n",
      "Iteration: 28 Best value: 60.0\n"
     ]
    },
    {
     "name": "stderr",
     "output_type": "stream",
     "text": [
      "100%|██████████| 500/500 [00:08<00:00, 57.74it/s]\n",
      "  1%|          | 6/500 [00:00<00:08, 56.57it/s]"
     ]
    },
    {
     "name": "stdout",
     "output_type": "stream",
     "text": [
      "Iteration MEAN: 39.63\n",
      "Iteration: 29 Best value: 55.00000000000001\n"
     ]
    },
    {
     "name": "stderr",
     "output_type": "stream",
     "text": [
      "100%|██████████| 500/500 [00:08<00:00, 58.14it/s]\n",
      "  3%|▎         | 13/500 [00:00<00:08, 58.22it/s]"
     ]
    },
    {
     "name": "stdout",
     "output_type": "stream",
     "text": [
      "Iteration MEAN: 40.416666666666664\n",
      "Iteration: 30 Best value: 58.333333333333336\n"
     ]
    },
    {
     "name": "stderr",
     "output_type": "stream",
     "text": [
      "100%|██████████| 500/500 [00:08<00:00, 58.57it/s]\n",
      "  1%|          | 6/500 [00:00<00:09, 51.53it/s]"
     ]
    },
    {
     "name": "stdout",
     "output_type": "stream",
     "text": [
      "Iteration MEAN: 39.94333333333333\n",
      "Iteration: 31 Best value: 61.66666666666667\n"
     ]
    },
    {
     "name": "stderr",
     "output_type": "stream",
     "text": [
      "100%|██████████| 500/500 [00:08<00:00, 57.54it/s]\n",
      "  1%|          | 6/500 [00:00<00:09, 52.57it/s]"
     ]
    },
    {
     "name": "stdout",
     "output_type": "stream",
     "text": [
      "Iteration MEAN: 39.66\n",
      "Iteration: 32 Best value: 58.333333333333336\n"
     ]
    },
    {
     "name": "stderr",
     "output_type": "stream",
     "text": [
      "100%|██████████| 500/500 [00:08<00:00, 57.34it/s]\n",
      "  1%|          | 6/500 [00:00<00:08, 56.81it/s]"
     ]
    },
    {
     "name": "stdout",
     "output_type": "stream",
     "text": [
      "Iteration MEAN: 39.37666666666667\n",
      "Iteration: 33 Best value: 58.333333333333336\n"
     ]
    },
    {
     "name": "stderr",
     "output_type": "stream",
     "text": [
      "100%|██████████| 500/500 [00:08<00:00, 57.05it/s]\n",
      "  1%|          | 6/500 [00:00<00:08, 59.01it/s]"
     ]
    },
    {
     "name": "stdout",
     "output_type": "stream",
     "text": [
      "Iteration MEAN: 39.843333333333334\n",
      "Iteration: 34 Best value: 58.333333333333336\n"
     ]
    },
    {
     "name": "stderr",
     "output_type": "stream",
     "text": [
      "100%|██████████| 500/500 [00:08<00:00, 57.30it/s]\n",
      "  1%|          | 6/500 [00:00<00:09, 51.09it/s]"
     ]
    },
    {
     "name": "stdout",
     "output_type": "stream",
     "text": [
      "Iteration MEAN: 39.49666666666667\n",
      "Iteration: 35 Best value: 61.66666666666667\n"
     ]
    },
    {
     "name": "stderr",
     "output_type": "stream",
     "text": [
      "100%|██████████| 500/500 [00:08<00:00, 57.02it/s]\n",
      "  1%|          | 6/500 [00:00<00:09, 52.23it/s]"
     ]
    },
    {
     "name": "stdout",
     "output_type": "stream",
     "text": [
      "Iteration MEAN: 39.480000000000004\n",
      "Iteration: 36 Best value: 61.66666666666667\n"
     ]
    },
    {
     "name": "stderr",
     "output_type": "stream",
     "text": [
      "100%|██████████| 500/500 [00:08<00:00, 56.79it/s]\n",
      "  2%|▏         | 12/500 [00:00<00:08, 56.23it/s]"
     ]
    },
    {
     "name": "stdout",
     "output_type": "stream",
     "text": [
      "Iteration MEAN: 39.76666666666667\n",
      "Iteration: 37 Best value: 58.333333333333336\n"
     ]
    },
    {
     "name": "stderr",
     "output_type": "stream",
     "text": [
      "100%|██████████| 500/500 [00:08<00:00, 58.05it/s]\n",
      "  2%|▏         | 12/500 [00:00<00:09, 54.06it/s]"
     ]
    },
    {
     "name": "stdout",
     "output_type": "stream",
     "text": [
      "Iteration MEAN: 39.933333333333344\n",
      "Iteration: 38 Best value: 58.333333333333336\n"
     ]
    },
    {
     "name": "stderr",
     "output_type": "stream",
     "text": [
      "100%|██████████| 500/500 [00:11<00:00, 44.46it/s]\n",
      "  1%|          | 3/500 [00:00<00:23, 21.05it/s]"
     ]
    },
    {
     "name": "stdout",
     "output_type": "stream",
     "text": [
      "Iteration MEAN: 39.91\n",
      "Iteration: 39 Best value: 60.0\n"
     ]
    },
    {
     "name": "stderr",
     "output_type": "stream",
     "text": [
      "100%|██████████| 500/500 [00:11<00:00, 42.26it/s]\n",
      "  1%|          | 5/500 [00:00<00:10, 48.24it/s]"
     ]
    },
    {
     "name": "stdout",
     "output_type": "stream",
     "text": [
      "Iteration MEAN: 40.04\n",
      "Iteration: 40 Best value: 58.333333333333336\n"
     ]
    },
    {
     "name": "stderr",
     "output_type": "stream",
     "text": [
      "100%|██████████| 500/500 [00:09<00:00, 51.38it/s]\n",
      "  1%|          | 6/500 [00:00<00:09, 50.78it/s]"
     ]
    },
    {
     "name": "stdout",
     "output_type": "stream",
     "text": [
      "Iteration MEAN: 40.57333333333333\n",
      "Iteration: 41 Best value: 58.333333333333336\n"
     ]
    },
    {
     "name": "stderr",
     "output_type": "stream",
     "text": [
      "100%|██████████| 500/500 [00:09<00:00, 54.34it/s]\n",
      "  1%|          | 6/500 [00:00<00:09, 53.14it/s]"
     ]
    },
    {
     "name": "stdout",
     "output_type": "stream",
     "text": [
      "Iteration MEAN: 39.91\n",
      "Iteration: 42 Best value: 60.0\n"
     ]
    },
    {
     "name": "stderr",
     "output_type": "stream",
     "text": [
      "100%|██████████| 500/500 [00:09<00:00, 53.44it/s]\n",
      "  1%|          | 6/500 [00:00<00:09, 52.65it/s]"
     ]
    },
    {
     "name": "stdout",
     "output_type": "stream",
     "text": [
      "Iteration MEAN: 40.596666666666664\n",
      "Iteration: 43 Best value: 56.666666666666664\n"
     ]
    },
    {
     "name": "stderr",
     "output_type": "stream",
     "text": [
      "100%|██████████| 500/500 [00:09<00:00, 50.26it/s]\n",
      "  1%|          | 5/500 [00:00<00:11, 42.80it/s]"
     ]
    },
    {
     "name": "stdout",
     "output_type": "stream",
     "text": [
      "Iteration MEAN: 40.75333333333333\n",
      "Iteration: 44 Best value: 60.0\n"
     ]
    },
    {
     "name": "stderr",
     "output_type": "stream",
     "text": [
      "100%|██████████| 500/500 [00:11<00:00, 42.11it/s]\n",
      "  2%|▏         | 10/500 [00:00<00:11, 41.69it/s]"
     ]
    },
    {
     "name": "stdout",
     "output_type": "stream",
     "text": [
      "Iteration MEAN: 40.99\n",
      "Iteration: 45 Best value: 61.66666666666667\n"
     ]
    },
    {
     "name": "stderr",
     "output_type": "stream",
     "text": [
      "100%|██████████| 500/500 [00:10<00:00, 46.84it/s]\n",
      "  1%|          | 5/500 [00:00<00:11, 44.18it/s]"
     ]
    },
    {
     "name": "stdout",
     "output_type": "stream",
     "text": [
      "Iteration MEAN: 40.47333333333333\n",
      "Iteration: 46 Best value: 60.0\n"
     ]
    },
    {
     "name": "stderr",
     "output_type": "stream",
     "text": [
      "100%|██████████| 500/500 [00:10<00:00, 47.84it/s]\n",
      "  2%|▏         | 10/500 [00:00<00:10, 47.36it/s]"
     ]
    },
    {
     "name": "stdout",
     "output_type": "stream",
     "text": [
      "Iteration MEAN: 40.663333333333334\n",
      "Iteration: 47 Best value: 61.66666666666667\n"
     ]
    },
    {
     "name": "stderr",
     "output_type": "stream",
     "text": [
      "100%|██████████| 500/500 [00:10<00:00, 48.95it/s]\n",
      "  1%|          | 5/500 [00:00<00:10, 48.87it/s]"
     ]
    },
    {
     "name": "stdout",
     "output_type": "stream",
     "text": [
      "Iteration MEAN: 40.43333333333333\n",
      "Iteration: 48 Best value: 58.333333333333336\n"
     ]
    },
    {
     "name": "stderr",
     "output_type": "stream",
     "text": [
      "100%|██████████| 500/500 [00:11<00:00, 44.68it/s]\n",
      "  1%|          | 5/500 [00:00<00:10, 46.23it/s]"
     ]
    },
    {
     "name": "stdout",
     "output_type": "stream",
     "text": [
      "Iteration MEAN: 40.50666666666667\n",
      "Iteration: 49 Best value: 56.666666666666664\n"
     ]
    },
    {
     "name": "stderr",
     "output_type": "stream",
     "text": [
      "100%|██████████| 500/500 [00:11<00:00, 44.09it/s]\n",
      "  1%|          | 6/500 [00:00<00:09, 50.53it/s]"
     ]
    },
    {
     "name": "stdout",
     "output_type": "stream",
     "text": [
      "Iteration MEAN: 40.13\n",
      "Iteration: 50 Best value: 58.333333333333336\n"
     ]
    },
    {
     "name": "stderr",
     "output_type": "stream",
     "text": [
      "100%|██████████| 500/500 [00:09<00:00, 51.40it/s]\n",
      "  2%|▏         | 12/500 [00:00<00:09, 51.17it/s]"
     ]
    },
    {
     "name": "stdout",
     "output_type": "stream",
     "text": [
      "Iteration MEAN: 40.91\n",
      "Iteration: 51 Best value: 58.333333333333336\n"
     ]
    },
    {
     "name": "stderr",
     "output_type": "stream",
     "text": [
      "100%|██████████| 500/500 [00:09<00:00, 50.46it/s]\n",
      "  1%|          | 6/500 [00:00<00:09, 52.68it/s]"
     ]
    },
    {
     "name": "stdout",
     "output_type": "stream",
     "text": [
      "Iteration MEAN: 40.91333333333333\n",
      "Iteration: 52 Best value: 61.66666666666667\n"
     ]
    },
    {
     "name": "stderr",
     "output_type": "stream",
     "text": [
      "100%|██████████| 500/500 [00:09<00:00, 50.92it/s]\n",
      "  1%|          | 6/500 [00:00<00:09, 51.76it/s]"
     ]
    },
    {
     "name": "stdout",
     "output_type": "stream",
     "text": [
      "Iteration MEAN: 40.97333333333333\n",
      "Iteration: 53 Best value: 60.0\n"
     ]
    },
    {
     "name": "stderr",
     "output_type": "stream",
     "text": [
      "100%|██████████| 500/500 [00:10<00:00, 48.07it/s]\n",
      "  1%|          | 5/500 [00:00<00:10, 45.84it/s]"
     ]
    },
    {
     "name": "stdout",
     "output_type": "stream",
     "text": [
      "Iteration MEAN: 41.236666666666665\n",
      "Iteration: 54 Best value: 60.0\n"
     ]
    },
    {
     "name": "stderr",
     "output_type": "stream",
     "text": [
      "100%|██████████| 500/500 [00:10<00:00, 48.46it/s]\n",
      "  1%|          | 6/500 [00:00<00:09, 52.04it/s]"
     ]
    },
    {
     "name": "stdout",
     "output_type": "stream",
     "text": [
      "Iteration MEAN: 40.85333333333333\n",
      "Iteration: 55 Best value: 66.66666666666666\n"
     ]
    },
    {
     "name": "stderr",
     "output_type": "stream",
     "text": [
      "100%|██████████| 500/500 [00:09<00:00, 53.19it/s]\n",
      "  1%|          | 6/500 [00:00<00:08, 55.40it/s]"
     ]
    },
    {
     "name": "stdout",
     "output_type": "stream",
     "text": [
      "Iteration MEAN: 41.32666666666666\n",
      "Iteration: 56 Best value: 61.66666666666667\n"
     ]
    },
    {
     "name": "stderr",
     "output_type": "stream",
     "text": [
      "100%|██████████| 500/500 [00:09<00:00, 54.80it/s]\n",
      "  1%|          | 6/500 [00:00<00:08, 55.19it/s]"
     ]
    },
    {
     "name": "stdout",
     "output_type": "stream",
     "text": [
      "Iteration MEAN: 41.12333333333333\n",
      "Iteration: 57 Best value: 61.66666666666667\n"
     ]
    },
    {
     "name": "stderr",
     "output_type": "stream",
     "text": [
      "100%|██████████| 500/500 [00:09<00:00, 51.46it/s]\n",
      "  1%|          | 5/500 [00:00<00:09, 49.95it/s]"
     ]
    },
    {
     "name": "stdout",
     "output_type": "stream",
     "text": [
      "Iteration MEAN: 41.88666666666667\n",
      "Iteration: 58 Best value: 65.0\n"
     ]
    },
    {
     "name": "stderr",
     "output_type": "stream",
     "text": [
      "100%|██████████| 500/500 [00:09<00:00, 51.74it/s]\n",
      "  2%|▏         | 12/500 [00:00<00:09, 52.66it/s]"
     ]
    },
    {
     "name": "stdout",
     "output_type": "stream",
     "text": [
      "Iteration MEAN: 41.79\n",
      "Iteration: 59 Best value: 61.66666666666667\n"
     ]
    },
    {
     "name": "stderr",
     "output_type": "stream",
     "text": [
      "100%|██████████| 500/500 [00:09<00:00, 53.01it/s]\n",
      "  1%|          | 6/500 [00:00<00:09, 52.62it/s]"
     ]
    },
    {
     "name": "stdout",
     "output_type": "stream",
     "text": [
      "Iteration MEAN: 41.22\n",
      "Iteration: 60 Best value: 65.0\n"
     ]
    },
    {
     "name": "stderr",
     "output_type": "stream",
     "text": [
      "100%|██████████| 500/500 [00:09<00:00, 53.33it/s]\n",
      "  1%|          | 6/500 [00:00<00:09, 52.22it/s]"
     ]
    },
    {
     "name": "stdout",
     "output_type": "stream",
     "text": [
      "Iteration MEAN: 42.31999999999999\n",
      "Iteration: 61 Best value: 61.66666666666667\n"
     ]
    },
    {
     "name": "stderr",
     "output_type": "stream",
     "text": [
      "100%|██████████| 500/500 [00:09<00:00, 50.31it/s]\n",
      "  2%|▏         | 11/500 [00:00<00:10, 48.41it/s]"
     ]
    },
    {
     "name": "stdout",
     "output_type": "stream",
     "text": [
      "Iteration MEAN: 42.04333333333333\n",
      "Iteration: 62 Best value: 60.0\n"
     ]
    },
    {
     "name": "stderr",
     "output_type": "stream",
     "text": [
      "100%|██████████| 500/500 [00:10<00:00, 49.92it/s]\n",
      "  1%|          | 5/500 [00:00<00:09, 49.88it/s]"
     ]
    },
    {
     "name": "stdout",
     "output_type": "stream",
     "text": [
      "Iteration MEAN: 41.97\n",
      "Iteration: 63 Best value: 60.0\n"
     ]
    },
    {
     "name": "stderr",
     "output_type": "stream",
     "text": [
      "100%|██████████| 500/500 [00:10<00:00, 49.84it/s]\n",
      "  1%|          | 5/500 [00:00<00:10, 48.99it/s]"
     ]
    },
    {
     "name": "stdout",
     "output_type": "stream",
     "text": [
      "Iteration MEAN: 42.55333333333333\n",
      "Iteration: 64 Best value: 63.33333333333333\n"
     ]
    },
    {
     "name": "stderr",
     "output_type": "stream",
     "text": [
      "100%|██████████| 500/500 [00:09<00:00, 51.53it/s]\n",
      "  2%|▏         | 12/500 [00:00<00:08, 54.72it/s]"
     ]
    },
    {
     "name": "stdout",
     "output_type": "stream",
     "text": [
      "Iteration MEAN: 42.56666666666667\n",
      "Iteration: 65 Best value: 61.66666666666667\n"
     ]
    },
    {
     "name": "stderr",
     "output_type": "stream",
     "text": [
      "100%|██████████| 500/500 [00:09<00:00, 51.07it/s]\n",
      "  1%|          | 6/500 [00:00<00:09, 50.93it/s]"
     ]
    },
    {
     "name": "stdout",
     "output_type": "stream",
     "text": [
      "Iteration MEAN: 42.67\n",
      "Iteration: 66 Best value: 61.66666666666667\n"
     ]
    },
    {
     "name": "stderr",
     "output_type": "stream",
     "text": [
      "100%|██████████| 500/500 [00:10<00:00, 48.09it/s]\n",
      "  2%|▏         | 10/500 [00:00<00:10, 48.61it/s]"
     ]
    },
    {
     "name": "stdout",
     "output_type": "stream",
     "text": [
      "Iteration MEAN: 42.61\n",
      "Iteration: 67 Best value: 60.0\n"
     ]
    },
    {
     "name": "stderr",
     "output_type": "stream",
     "text": [
      "100%|██████████| 500/500 [00:10<00:00, 47.23it/s]\n",
      "  1%|          | 5/500 [00:00<00:12, 41.24it/s]"
     ]
    },
    {
     "name": "stdout",
     "output_type": "stream",
     "text": [
      "Iteration MEAN: 42.703333333333326\n",
      "Iteration: 68 Best value: 61.66666666666667\n"
     ]
    },
    {
     "name": "stderr",
     "output_type": "stream",
     "text": [
      "100%|██████████| 500/500 [00:15<00:00, 33.03it/s]\n",
      "  1%|          | 5/500 [00:00<00:10, 47.31it/s]"
     ]
    },
    {
     "name": "stdout",
     "output_type": "stream",
     "text": [
      "Iteration MEAN: 42.40333333333333\n",
      "Iteration: 69 Best value: 61.66666666666667\n"
     ]
    },
    {
     "name": "stderr",
     "output_type": "stream",
     "text": [
      "100%|██████████| 500/500 [00:09<00:00, 50.20it/s]\n",
      "  2%|▏         | 11/500 [00:00<00:09, 49.60it/s]"
     ]
    },
    {
     "name": "stdout",
     "output_type": "stream",
     "text": [
      "Iteration MEAN: 42.56\n",
      "Iteration: 70 Best value: 58.333333333333336\n"
     ]
    },
    {
     "name": "stderr",
     "output_type": "stream",
     "text": [
      "100%|██████████| 500/500 [00:09<00:00, 51.82it/s]\n",
      "  2%|▏         | 12/500 [00:00<00:09, 52.53it/s]"
     ]
    },
    {
     "name": "stdout",
     "output_type": "stream",
     "text": [
      "Iteration MEAN: 42.49\n",
      "Iteration: 71 Best value: 63.33333333333333\n"
     ]
    },
    {
     "name": "stderr",
     "output_type": "stream",
     "text": [
      "100%|██████████| 500/500 [00:09<00:00, 50.60it/s]\n",
      "  1%|          | 5/500 [00:00<00:10, 48.36it/s]"
     ]
    },
    {
     "name": "stdout",
     "output_type": "stream",
     "text": [
      "Iteration MEAN: 42.92333333333334\n",
      "Iteration: 72 Best value: 63.33333333333333\n"
     ]
    },
    {
     "name": "stderr",
     "output_type": "stream",
     "text": [
      "100%|██████████| 500/500 [00:10<00:00, 46.26it/s]\n",
      "  2%|▏         | 10/500 [00:00<00:10, 47.57it/s]"
     ]
    },
    {
     "name": "stdout",
     "output_type": "stream",
     "text": [
      "Iteration MEAN: 43.473333333333336\n",
      "Iteration: 73 Best value: 58.333333333333336\n"
     ]
    },
    {
     "name": "stderr",
     "output_type": "stream",
     "text": [
      "100%|██████████| 500/500 [00:11<00:00, 44.39it/s]\n",
      "  1%|          | 5/500 [00:00<00:11, 41.58it/s]"
     ]
    },
    {
     "name": "stdout",
     "output_type": "stream",
     "text": [
      "Iteration MEAN: 42.60333333333333\n",
      "Iteration: 74 Best value: 61.66666666666667\n"
     ]
    },
    {
     "name": "stderr",
     "output_type": "stream",
     "text": [
      "100%|██████████| 500/500 [00:13<00:00, 37.41it/s]\n",
      "  1%|          | 5/500 [00:00<00:12, 41.19it/s]"
     ]
    },
    {
     "name": "stdout",
     "output_type": "stream",
     "text": [
      "Iteration MEAN: 43.153333333333336\n",
      "Iteration: 75 Best value: 65.0\n"
     ]
    },
    {
     "name": "stderr",
     "output_type": "stream",
     "text": [
      "100%|██████████| 500/500 [00:23<00:00, 21.55it/s]\n",
      "  0%|          | 0/500 [00:00<?, ?it/s]"
     ]
    },
    {
     "name": "stdout",
     "output_type": "stream",
     "text": [
      "Iteration MEAN: 43.34\n",
      "Iteration: 76 Best value: 61.66666666666667\n"
     ]
    },
    {
     "name": "stderr",
     "output_type": "stream",
     "text": [
      "100%|██████████| 500/500 [00:14<00:00, 34.63it/s]\n",
      "  1%|          | 4/500 [00:00<00:12, 39.12it/s]"
     ]
    },
    {
     "name": "stdout",
     "output_type": "stream",
     "text": [
      "Iteration MEAN: 43.91\n",
      "Iteration: 77 Best value: 61.66666666666667\n"
     ]
    },
    {
     "name": "stderr",
     "output_type": "stream",
     "text": [
      "100%|██████████| 500/500 [00:12<00:00, 41.08it/s]\n",
      "  1%|          | 4/500 [00:00<00:14, 34.70it/s]"
     ]
    },
    {
     "name": "stdout",
     "output_type": "stream",
     "text": [
      "Iteration MEAN: 43.39333333333334\n",
      "Iteration: 78 Best value: 65.0\n"
     ]
    },
    {
     "name": "stderr",
     "output_type": "stream",
     "text": [
      "100%|██████████| 500/500 [00:12<00:00, 40.50it/s]\n",
      "  1%|          | 5/500 [00:00<00:11, 42.99it/s]"
     ]
    },
    {
     "name": "stdout",
     "output_type": "stream",
     "text": [
      "Iteration MEAN: 42.82666666666666\n",
      "Iteration: 79 Best value: 66.66666666666666\n"
     ]
    },
    {
     "name": "stderr",
     "output_type": "stream",
     "text": [
      "100%|██████████| 500/500 [00:11<00:00, 44.06it/s]\n",
      "  1%|          | 5/500 [00:00<00:11, 43.57it/s]"
     ]
    },
    {
     "name": "stdout",
     "output_type": "stream",
     "text": [
      "Iteration MEAN: 43.09\n",
      "Iteration: 80 Best value: 61.66666666666667\n"
     ]
    },
    {
     "name": "stderr",
     "output_type": "stream",
     "text": [
      "100%|██████████| 500/500 [00:10<00:00, 46.88it/s]\n",
      "  2%|▏         | 10/500 [00:00<00:10, 48.20it/s]"
     ]
    },
    {
     "name": "stdout",
     "output_type": "stream",
     "text": [
      "Iteration MEAN: 42.92\n",
      "Iteration: 81 Best value: 61.66666666666667\n"
     ]
    },
    {
     "name": "stderr",
     "output_type": "stream",
     "text": [
      "100%|██████████| 500/500 [00:10<00:00, 47.32it/s]\n",
      "  1%|          | 5/500 [00:00<00:10, 49.00it/s]"
     ]
    },
    {
     "name": "stdout",
     "output_type": "stream",
     "text": [
      "Iteration MEAN: 43.223333333333336\n",
      "Iteration: 82 Best value: 65.0\n"
     ]
    },
    {
     "name": "stderr",
     "output_type": "stream",
     "text": [
      "100%|██████████| 500/500 [00:10<00:00, 46.62it/s]\n",
      "  1%|          | 4/500 [00:00<00:13, 37.38it/s]"
     ]
    },
    {
     "name": "stdout",
     "output_type": "stream",
     "text": [
      "Iteration MEAN: 43.12\n",
      "Iteration: 83 Best value: 66.66666666666666\n"
     ]
    },
    {
     "name": "stderr",
     "output_type": "stream",
     "text": [
      "100%|██████████| 500/500 [00:15<00:00, 31.78it/s]\n",
      "  0%|          | 0/500 [00:00<?, ?it/s]"
     ]
    },
    {
     "name": "stdout",
     "output_type": "stream",
     "text": [
      "Iteration MEAN: 42.726666666666674\n",
      "Iteration: 84 Best value: 61.66666666666667\n"
     ]
    },
    {
     "name": "stderr",
     "output_type": "stream",
     "text": [
      "100%|██████████| 500/500 [00:14<00:00, 34.88it/s]\n",
      "  1%|          | 5/500 [00:00<00:11, 42.14it/s]"
     ]
    },
    {
     "name": "stdout",
     "output_type": "stream",
     "text": [
      "Iteration MEAN: 42.813333333333325\n",
      "Iteration: 85 Best value: 58.333333333333336\n"
     ]
    },
    {
     "name": "stderr",
     "output_type": "stream",
     "text": [
      "100%|██████████| 500/500 [00:11<00:00, 41.93it/s]\n",
      "  2%|▏         | 9/500 [00:00<00:12, 39.70it/s]"
     ]
    },
    {
     "name": "stdout",
     "output_type": "stream",
     "text": [
      "Iteration MEAN: 43.19666666666667\n",
      "Iteration: 86 Best value: 63.33333333333333\n"
     ]
    },
    {
     "name": "stderr",
     "output_type": "stream",
     "text": [
      "100%|██████████| 500/500 [00:18<00:00, 26.98it/s]\n"
     ]
    },
    {
     "name": "stdout",
     "output_type": "stream",
     "text": [
      "Iteration MEAN: 43.803333333333335\n",
      "Iteration: 87 Best value: 61.66666666666667\n"
     ]
    },
    {
     "name": "stderr",
     "output_type": "stream",
     "text": [
      "100%|██████████| 500/500 [00:19<00:00, 26.07it/s]\n",
      "  1%|          | 3/500 [00:00<00:16, 29.34it/s]"
     ]
    },
    {
     "name": "stdout",
     "output_type": "stream",
     "text": [
      "Iteration MEAN: 43.693333333333335\n",
      "Iteration: 88 Best value: 61.66666666666667\n"
     ]
    },
    {
     "name": "stderr",
     "output_type": "stream",
     "text": [
      "100%|██████████| 500/500 [00:12<00:00, 39.24it/s]\n",
      "  2%|▏         | 10/500 [00:00<00:10, 45.57it/s]"
     ]
    },
    {
     "name": "stdout",
     "output_type": "stream",
     "text": [
      "Iteration MEAN: 43.26666666666667\n",
      "Iteration: 89 Best value: 65.0\n"
     ]
    },
    {
     "name": "stderr",
     "output_type": "stream",
     "text": [
      "100%|██████████| 500/500 [00:10<00:00, 48.31it/s]\n",
      "  2%|▏         | 10/500 [00:00<00:09, 49.08it/s]"
     ]
    },
    {
     "name": "stdout",
     "output_type": "stream",
     "text": [
      "Iteration MEAN: 43.16000000000001\n",
      "Iteration: 90 Best value: 63.33333333333333\n"
     ]
    },
    {
     "name": "stderr",
     "output_type": "stream",
     "text": [
      "100%|██████████| 500/500 [00:14<00:00, 34.90it/s]\n",
      "  0%|          | 0/500 [00:00<?, ?it/s]"
     ]
    },
    {
     "name": "stdout",
     "output_type": "stream",
     "text": [
      "Iteration MEAN: 43.54333333333334\n",
      "Iteration: 91 Best value: 63.33333333333333\n"
     ]
    },
    {
     "name": "stderr",
     "output_type": "stream",
     "text": [
      "100%|██████████| 500/500 [00:14<00:00, 34.78it/s]\n",
      "  2%|▏         | 10/500 [00:00<00:10, 48.29it/s]"
     ]
    },
    {
     "name": "stdout",
     "output_type": "stream",
     "text": [
      "Iteration MEAN: 43.57\n",
      "Iteration: 92 Best value: 61.66666666666667\n"
     ]
    },
    {
     "name": "stderr",
     "output_type": "stream",
     "text": [
      "100%|██████████| 500/500 [00:09<00:00, 50.87it/s]\n",
      "  1%|          | 6/500 [00:00<00:09, 53.89it/s]"
     ]
    },
    {
     "name": "stdout",
     "output_type": "stream",
     "text": [
      "Iteration MEAN: 43.30666666666667\n",
      "Iteration: 93 Best value: 63.33333333333333\n"
     ]
    },
    {
     "name": "stderr",
     "output_type": "stream",
     "text": [
      "100%|██████████| 500/500 [00:09<00:00, 53.35it/s]\n",
      "  1%|          | 6/500 [00:00<00:09, 53.59it/s]"
     ]
    },
    {
     "name": "stdout",
     "output_type": "stream",
     "text": [
      "Iteration MEAN: 43.81000000000001\n",
      "Iteration: 94 Best value: 60.0\n"
     ]
    },
    {
     "name": "stderr",
     "output_type": "stream",
     "text": [
      "100%|██████████| 500/500 [00:10<00:00, 49.74it/s]\n",
      "  1%|          | 5/500 [00:00<00:11, 44.80it/s]"
     ]
    },
    {
     "name": "stdout",
     "output_type": "stream",
     "text": [
      "Iteration MEAN: 43.88\n",
      "Iteration: 95 Best value: 61.66666666666667\n"
     ]
    },
    {
     "name": "stderr",
     "output_type": "stream",
     "text": [
      "100%|██████████| 500/500 [00:10<00:00, 48.51it/s]\n",
      "  2%|▏         | 10/500 [00:00<00:10, 48.38it/s]"
     ]
    },
    {
     "name": "stdout",
     "output_type": "stream",
     "text": [
      "Iteration MEAN: 43.603333333333346\n",
      "Iteration: 96 Best value: 61.66666666666667\n"
     ]
    },
    {
     "name": "stderr",
     "output_type": "stream",
     "text": [
      "100%|██████████| 500/500 [00:10<00:00, 49.39it/s]\n",
      "  2%|▏         | 11/500 [00:00<00:09, 49.83it/s]"
     ]
    },
    {
     "name": "stdout",
     "output_type": "stream",
     "text": [
      "Iteration MEAN: 43.82666666666667\n",
      "Iteration: 97 Best value: 61.66666666666667\n"
     ]
    },
    {
     "name": "stderr",
     "output_type": "stream",
     "text": [
      "100%|██████████| 500/500 [00:10<00:00, 49.95it/s]\n",
      "  1%|          | 5/500 [00:00<00:11, 44.40it/s]"
     ]
    },
    {
     "name": "stdout",
     "output_type": "stream",
     "text": [
      "Iteration MEAN: 43.91666666666667\n",
      "Iteration: 98 Best value: 61.66666666666667\n"
     ]
    },
    {
     "name": "stderr",
     "output_type": "stream",
     "text": [
      "100%|██████████| 500/500 [00:11<00:00, 42.27it/s]\n",
      "  1%|          | 5/500 [00:00<00:11, 42.00it/s]"
     ]
    },
    {
     "name": "stdout",
     "output_type": "stream",
     "text": [
      "Iteration MEAN: 44.37\n",
      "Iteration: 99 Best value: 63.33333333333333\n"
     ]
    },
    {
     "name": "stderr",
     "output_type": "stream",
     "text": [
      "100%|██████████| 500/500 [00:10<00:00, 49.35it/s]\n",
      "  2%|▏         | 11/500 [00:00<00:09, 50.72it/s]"
     ]
    },
    {
     "name": "stdout",
     "output_type": "stream",
     "text": [
      "Iteration MEAN: 44.33666666666667\n",
      "Iteration: 100 Best value: 60.0\n"
     ]
    },
    {
     "name": "stderr",
     "output_type": "stream",
     "text": [
      "100%|██████████| 500/500 [00:09<00:00, 51.81it/s]\n",
      "  2%|▏         | 12/500 [00:00<00:09, 51.11it/s]"
     ]
    },
    {
     "name": "stdout",
     "output_type": "stream",
     "text": [
      "Iteration MEAN: 44.24666666666667\n",
      "Iteration: 101 Best value: 63.33333333333333\n"
     ]
    },
    {
     "name": "stderr",
     "output_type": "stream",
     "text": [
      "100%|██████████| 500/500 [00:09<00:00, 51.33it/s]\n",
      "  2%|▏         | 11/500 [00:00<00:09, 49.84it/s]"
     ]
    },
    {
     "name": "stdout",
     "output_type": "stream",
     "text": [
      "Iteration MEAN: 44.61\n",
      "Iteration: 102 Best value: 65.0\n"
     ]
    },
    {
     "name": "stderr",
     "output_type": "stream",
     "text": [
      "100%|██████████| 500/500 [00:11<00:00, 44.10it/s]\n",
      "  2%|▏         | 10/500 [00:00<00:11, 43.88it/s]"
     ]
    },
    {
     "name": "stdout",
     "output_type": "stream",
     "text": [
      "Iteration MEAN: 44.92333333333334\n",
      "Iteration: 103 Best value: 66.66666666666666\n"
     ]
    },
    {
     "name": "stderr",
     "output_type": "stream",
     "text": [
      "100%|██████████| 500/500 [00:10<00:00, 46.71it/s]\n",
      "  1%|          | 5/500 [00:00<00:10, 46.73it/s]"
     ]
    },
    {
     "name": "stdout",
     "output_type": "stream",
     "text": [
      "Iteration MEAN: 44.81666666666667\n",
      "Iteration: 104 Best value: 63.33333333333333\n"
     ]
    },
    {
     "name": "stderr",
     "output_type": "stream",
     "text": [
      "100%|██████████| 500/500 [00:10<00:00, 48.35it/s]\n",
      "  1%|          | 5/500 [00:00<00:10, 48.64it/s]"
     ]
    },
    {
     "name": "stdout",
     "output_type": "stream",
     "text": [
      "Iteration MEAN: 44.18000000000001\n",
      "Iteration: 105 Best value: 65.0\n"
     ]
    },
    {
     "name": "stderr",
     "output_type": "stream",
     "text": [
      "100%|██████████| 500/500 [00:10<00:00, 48.29it/s]\n",
      "  2%|▏         | 10/500 [00:00<00:10, 48.73it/s]"
     ]
    },
    {
     "name": "stdout",
     "output_type": "stream",
     "text": [
      "Iteration MEAN: 44.27333333333334\n",
      "Iteration: 106 Best value: 60.0\n"
     ]
    },
    {
     "name": "stderr",
     "output_type": "stream",
     "text": [
      "100%|██████████| 500/500 [00:11<00:00, 43.60it/s]\n",
      "  1%|          | 4/500 [00:00<00:13, 37.48it/s]"
     ]
    },
    {
     "name": "stdout",
     "output_type": "stream",
     "text": [
      "Iteration MEAN: 44.63666666666667\n",
      "Iteration: 107 Best value: 66.66666666666666\n"
     ]
    },
    {
     "name": "stderr",
     "output_type": "stream",
     "text": [
      "100%|██████████| 500/500 [00:12<00:00, 40.26it/s]\n",
      "  1%|          | 4/500 [00:00<00:12, 38.80it/s]"
     ]
    },
    {
     "name": "stdout",
     "output_type": "stream",
     "text": [
      "Iteration MEAN: 44.72333333333334\n",
      "Iteration: 108 Best value: 66.66666666666666\n"
     ]
    },
    {
     "name": "stderr",
     "output_type": "stream",
     "text": [
      "100%|██████████| 500/500 [00:12<00:00, 40.59it/s]\n",
      "  1%|          | 4/500 [00:00<00:12, 39.63it/s]"
     ]
    },
    {
     "name": "stdout",
     "output_type": "stream",
     "text": [
      "Iteration MEAN: 44.56666666666667\n",
      "Iteration: 109 Best value: 65.0\n"
     ]
    },
    {
     "name": "stderr",
     "output_type": "stream",
     "text": [
      "100%|██████████| 500/500 [00:13<00:00, 38.29it/s]\n",
      "  1%|          | 5/500 [00:00<00:11, 43.05it/s]"
     ]
    },
    {
     "name": "stdout",
     "output_type": "stream",
     "text": [
      "Iteration MEAN: 44.75333333333334\n",
      "Iteration: 110 Best value: 61.66666666666667\n"
     ]
    },
    {
     "name": "stderr",
     "output_type": "stream",
     "text": [
      "100%|██████████| 500/500 [00:11<00:00, 43.24it/s]\n",
      "  2%|▏         | 10/500 [00:00<00:10, 46.02it/s]"
     ]
    },
    {
     "name": "stdout",
     "output_type": "stream",
     "text": [
      "Iteration MEAN: 44.866666666666674\n",
      "Iteration: 111 Best value: 65.0\n"
     ]
    },
    {
     "name": "stderr",
     "output_type": "stream",
     "text": [
      "100%|██████████| 500/500 [00:11<00:00, 44.21it/s]\n",
      "  1%|          | 5/500 [00:00<00:10, 46.34it/s]"
     ]
    },
    {
     "name": "stdout",
     "output_type": "stream",
     "text": [
      "Iteration MEAN: 44.85333333333334\n",
      "Iteration: 112 Best value: 63.33333333333333\n"
     ]
    },
    {
     "name": "stderr",
     "output_type": "stream",
     "text": [
      "100%|██████████| 500/500 [00:10<00:00, 47.70it/s]\n",
      "  2%|▏         | 10/500 [00:00<00:09, 49.44it/s]"
     ]
    },
    {
     "name": "stdout",
     "output_type": "stream",
     "text": [
      "Iteration MEAN: 44.873333333333335\n",
      "Iteration: 113 Best value: 61.66666666666667\n"
     ]
    },
    {
     "name": "stderr",
     "output_type": "stream",
     "text": [
      "100%|██████████| 500/500 [00:09<00:00, 50.39it/s]\n",
      "  1%|          | 5/500 [00:00<00:10, 48.99it/s]"
     ]
    },
    {
     "name": "stdout",
     "output_type": "stream",
     "text": [
      "Iteration MEAN: 45.26\n",
      "Iteration: 114 Best value: 65.0\n"
     ]
    },
    {
     "name": "stderr",
     "output_type": "stream",
     "text": [
      "100%|██████████| 500/500 [00:09<00:00, 50.73it/s]\n",
      "  2%|▏         | 12/500 [00:00<00:09, 52.29it/s]"
     ]
    },
    {
     "name": "stdout",
     "output_type": "stream",
     "text": [
      "Iteration MEAN: 44.72333333333333\n",
      "Iteration: 115 Best value: 60.0\n"
     ]
    },
    {
     "name": "stderr",
     "output_type": "stream",
     "text": [
      "100%|██████████| 500/500 [00:09<00:00, 51.17it/s]\n",
      "  1%|          | 6/500 [00:00<00:09, 51.82it/s]"
     ]
    },
    {
     "name": "stdout",
     "output_type": "stream",
     "text": [
      "Iteration MEAN: 45.62\n",
      "Iteration: 116 Best value: 65.0\n"
     ]
    },
    {
     "name": "stderr",
     "output_type": "stream",
     "text": [
      "100%|██████████| 500/500 [00:09<00:00, 50.54it/s]\n",
      "  2%|▏         | 10/500 [00:00<00:10, 46.37it/s]"
     ]
    },
    {
     "name": "stdout",
     "output_type": "stream",
     "text": [
      "Iteration MEAN: 44.99333333333333\n",
      "Iteration: 117 Best value: 65.0\n"
     ]
    },
    {
     "name": "stderr",
     "output_type": "stream",
     "text": [
      "100%|██████████| 500/500 [00:10<00:00, 49.85it/s]\n",
      "  1%|          | 5/500 [00:00<00:10, 45.42it/s]"
     ]
    },
    {
     "name": "stdout",
     "output_type": "stream",
     "text": [
      "Iteration MEAN: 44.95\n",
      "Iteration: 118 Best value: 63.33333333333333\n"
     ]
    },
    {
     "name": "stderr",
     "output_type": "stream",
     "text": [
      "100%|██████████| 500/500 [00:16<00:00, 30.92it/s]\n",
      "  2%|▏         | 10/500 [00:00<00:12, 40.59it/s]"
     ]
    },
    {
     "name": "stdout",
     "output_type": "stream",
     "text": [
      "Iteration MEAN: 45.10333333333334\n",
      "Iteration: 119 Best value: 68.33333333333333\n"
     ]
    },
    {
     "name": "stderr",
     "output_type": "stream",
     "text": [
      "100%|██████████| 500/500 [00:10<00:00, 47.01it/s]\n",
      "  2%|▏         | 12/500 [00:00<00:09, 51.26it/s]"
     ]
    },
    {
     "name": "stdout",
     "output_type": "stream",
     "text": [
      "Iteration MEAN: 44.56\n",
      "Iteration: 120 Best value: 65.0\n"
     ]
    },
    {
     "name": "stderr",
     "output_type": "stream",
     "text": [
      "100%|██████████| 500/500 [00:09<00:00, 51.01it/s]\n",
      "  1%|          | 6/500 [00:00<00:09, 51.42it/s]"
     ]
    },
    {
     "name": "stdout",
     "output_type": "stream",
     "text": [
      "Iteration MEAN: 45.17333333333334\n",
      "Iteration: 121 Best value: 68.33333333333333\n"
     ]
    },
    {
     "name": "stderr",
     "output_type": "stream",
     "text": [
      "100%|██████████| 500/500 [00:09<00:00, 52.45it/s]\n",
      "  1%|          | 6/500 [00:00<00:09, 53.01it/s]"
     ]
    },
    {
     "name": "stdout",
     "output_type": "stream",
     "text": [
      "Iteration MEAN: 44.916666666666664\n",
      "Iteration: 122 Best value: 63.33333333333333\n"
     ]
    },
    {
     "name": "stderr",
     "output_type": "stream",
     "text": [
      "100%|██████████| 500/500 [00:09<00:00, 51.58it/s]\n",
      "  2%|▏         | 11/500 [00:00<00:09, 50.06it/s]"
     ]
    },
    {
     "name": "stdout",
     "output_type": "stream",
     "text": [
      "Iteration MEAN: 45.476666666666674\n",
      "Iteration: 123 Best value: 63.33333333333333\n"
     ]
    },
    {
     "name": "stderr",
     "output_type": "stream",
     "text": [
      "100%|██████████| 500/500 [00:09<00:00, 50.98it/s]\n",
      "  1%|          | 6/500 [00:00<00:09, 52.58it/s]"
     ]
    },
    {
     "name": "stdout",
     "output_type": "stream",
     "text": [
      "Iteration MEAN: 45.31666666666667\n",
      "Iteration: 124 Best value: 66.66666666666666\n"
     ]
    },
    {
     "name": "stderr",
     "output_type": "stream",
     "text": [
      "100%|██████████| 500/500 [00:09<00:00, 52.45it/s]\n",
      "  1%|          | 6/500 [00:00<00:09, 52.74it/s]"
     ]
    },
    {
     "name": "stdout",
     "output_type": "stream",
     "text": [
      "Iteration MEAN: 46.34\n",
      "Iteration: 125 Best value: 66.66666666666666\n"
     ]
    },
    {
     "name": "stderr",
     "output_type": "stream",
     "text": [
      "100%|██████████| 500/500 [00:09<00:00, 51.36it/s]\n",
      "  2%|▏         | 12/500 [00:00<00:09, 50.35it/s]"
     ]
    },
    {
     "name": "stdout",
     "output_type": "stream",
     "text": [
      "Iteration MEAN: 45.313333333333325\n",
      "Iteration: 126 Best value: 61.66666666666667\n"
     ]
    },
    {
     "name": "stderr",
     "output_type": "stream",
     "text": [
      "100%|██████████| 500/500 [00:09<00:00, 51.00it/s]\n",
      "  1%|          | 6/500 [00:00<00:09, 50.23it/s]"
     ]
    },
    {
     "name": "stdout",
     "output_type": "stream",
     "text": [
      "Iteration MEAN: 46.27666666666666\n",
      "Iteration: 127 Best value: 65.0\n"
     ]
    },
    {
     "name": "stderr",
     "output_type": "stream",
     "text": [
      "100%|██████████| 500/500 [00:09<00:00, 50.45it/s]\n",
      "  2%|▏         | 12/500 [00:00<00:09, 50.79it/s]"
     ]
    },
    {
     "name": "stdout",
     "output_type": "stream",
     "text": [
      "Iteration MEAN: 45.67333333333334\n",
      "Iteration: 128 Best value: 61.66666666666667\n"
     ]
    },
    {
     "name": "stderr",
     "output_type": "stream",
     "text": [
      "100%|██████████| 500/500 [00:11<00:00, 45.24it/s]\n",
      "  1%|          | 5/500 [00:00<00:11, 43.55it/s]"
     ]
    },
    {
     "name": "stdout",
     "output_type": "stream",
     "text": [
      "Iteration MEAN: 46.39333333333334\n",
      "Iteration: 129 Best value: 68.33333333333333\n"
     ]
    },
    {
     "name": "stderr",
     "output_type": "stream",
     "text": [
      "100%|██████████| 500/500 [00:12<00:00, 39.74it/s]\n",
      "  1%|          | 4/500 [00:00<00:12, 39.95it/s]"
     ]
    },
    {
     "name": "stdout",
     "output_type": "stream",
     "text": [
      "Iteration MEAN: 46.46666666666666\n",
      "Iteration: 130 Best value: 63.33333333333333\n"
     ]
    },
    {
     "name": "stderr",
     "output_type": "stream",
     "text": [
      "100%|██████████| 500/500 [00:11<00:00, 42.53it/s]\n",
      "  1%|          | 5/500 [00:00<00:11, 44.78it/s]"
     ]
    },
    {
     "name": "stdout",
     "output_type": "stream",
     "text": [
      "Iteration MEAN: 46.33333333333333\n",
      "Iteration: 131 Best value: 68.33333333333333\n"
     ]
    },
    {
     "name": "stderr",
     "output_type": "stream",
     "text": [
      "100%|██████████| 500/500 [00:11<00:00, 43.85it/s]\n",
      "  2%|▏         | 10/500 [00:00<00:11, 43.53it/s]"
     ]
    },
    {
     "name": "stdout",
     "output_type": "stream",
     "text": [
      "Iteration MEAN: 46.71666666666666\n",
      "Iteration: 132 Best value: 63.33333333333333\n"
     ]
    },
    {
     "name": "stderr",
     "output_type": "stream",
     "text": [
      "100%|██████████| 500/500 [00:11<00:00, 42.95it/s]\n",
      "  2%|▏         | 9/500 [00:00<00:12, 39.54it/s]"
     ]
    },
    {
     "name": "stdout",
     "output_type": "stream",
     "text": [
      "Iteration MEAN: 46.15666666666667\n",
      "Iteration: 133 Best value: 65.0\n"
     ]
    },
    {
     "name": "stderr",
     "output_type": "stream",
     "text": [
      "100%|██████████| 500/500 [00:12<00:00, 41.33it/s]\n",
      "  1%|          | 5/500 [00:00<00:11, 43.57it/s]"
     ]
    },
    {
     "name": "stdout",
     "output_type": "stream",
     "text": [
      "Iteration MEAN: 46.53333333333333\n",
      "Iteration: 134 Best value: 66.66666666666666\n"
     ]
    },
    {
     "name": "stderr",
     "output_type": "stream",
     "text": [
      "100%|██████████| 500/500 [00:11<00:00, 44.24it/s]\n",
      "  1%|          | 5/500 [00:00<00:11, 43.14it/s]"
     ]
    },
    {
     "name": "stdout",
     "output_type": "stream",
     "text": [
      "Iteration MEAN: 45.743333333333325\n",
      "Iteration: 135 Best value: 66.66666666666666\n"
     ]
    },
    {
     "name": "stderr",
     "output_type": "stream",
     "text": [
      "100%|██████████| 500/500 [00:10<00:00, 46.33it/s]\n",
      "  1%|          | 5/500 [00:00<00:10, 48.13it/s]"
     ]
    },
    {
     "name": "stdout",
     "output_type": "stream",
     "text": [
      "Iteration MEAN: 46.36\n",
      "Iteration: 136 Best value: 70.0\n"
     ]
    },
    {
     "name": "stderr",
     "output_type": "stream",
     "text": [
      "100%|██████████| 500/500 [00:10<00:00, 47.96it/s]\n",
      "  1%|          | 5/500 [00:00<00:10, 47.45it/s]"
     ]
    },
    {
     "name": "stdout",
     "output_type": "stream",
     "text": [
      "Iteration MEAN: 46.51666666666666\n",
      "Iteration: 137 Best value: 63.33333333333333\n"
     ]
    },
    {
     "name": "stderr",
     "output_type": "stream",
     "text": [
      "100%|██████████| 500/500 [00:10<00:00, 45.77it/s]\n",
      "  2%|▏         | 9/500 [00:00<00:11, 41.82it/s]"
     ]
    },
    {
     "name": "stdout",
     "output_type": "stream",
     "text": [
      "Iteration MEAN: 46.70666666666666\n",
      "Iteration: 138 Best value: 66.66666666666666\n"
     ]
    },
    {
     "name": "stderr",
     "output_type": "stream",
     "text": [
      "100%|██████████| 500/500 [00:10<00:00, 47.26it/s]\n",
      "  1%|          | 6/500 [00:00<00:09, 50.24it/s]"
     ]
    },
    {
     "name": "stdout",
     "output_type": "stream",
     "text": [
      "Iteration MEAN: 46.25\n",
      "Iteration: 139 Best value: 65.0\n"
     ]
    },
    {
     "name": "stderr",
     "output_type": "stream",
     "text": [
      "100%|██████████| 500/500 [00:10<00:00, 47.02it/s]\n",
      "  2%|▏         | 10/500 [00:00<00:10, 46.44it/s]"
     ]
    },
    {
     "name": "stdout",
     "output_type": "stream",
     "text": [
      "Iteration MEAN: 46.77\n",
      "Iteration: 140 Best value: 65.0\n"
     ]
    },
    {
     "name": "stderr",
     "output_type": "stream",
     "text": [
      "100%|██████████| 500/500 [00:10<00:00, 47.30it/s]\n",
      "  2%|▏         | 10/500 [00:00<00:10, 47.78it/s]"
     ]
    },
    {
     "name": "stdout",
     "output_type": "stream",
     "text": [
      "Iteration MEAN: 46.47999999999999\n",
      "Iteration: 141 Best value: 65.0\n"
     ]
    },
    {
     "name": "stderr",
     "output_type": "stream",
     "text": [
      "100%|██████████| 500/500 [00:10<00:00, 48.67it/s]\n",
      "  2%|▏         | 10/500 [00:00<00:10, 47.84it/s]"
     ]
    },
    {
     "name": "stdout",
     "output_type": "stream",
     "text": [
      "Iteration MEAN: 46.633333333333326\n",
      "Iteration: 142 Best value: 61.66666666666667\n"
     ]
    },
    {
     "name": "stderr",
     "output_type": "stream",
     "text": [
      "100%|██████████| 500/500 [00:10<00:00, 49.11it/s]\n",
      "  1%|          | 5/500 [00:00<00:10, 46.65it/s]"
     ]
    },
    {
     "name": "stdout",
     "output_type": "stream",
     "text": [
      "Iteration MEAN: 46.063333333333325\n",
      "Iteration: 143 Best value: 70.0\n"
     ]
    },
    {
     "name": "stderr",
     "output_type": "stream",
     "text": [
      "100%|██████████| 500/500 [00:11<00:00, 42.67it/s]\n",
      "  1%|          | 5/500 [00:00<00:11, 44.33it/s]"
     ]
    },
    {
     "name": "stdout",
     "output_type": "stream",
     "text": [
      "Iteration MEAN: 46.486666666666665\n",
      "Iteration: 144 Best value: 65.0\n"
     ]
    },
    {
     "name": "stderr",
     "output_type": "stream",
     "text": [
      "100%|██████████| 500/500 [00:13<00:00, 36.19it/s]\n",
      "  0%|          | 2/500 [00:00<00:30, 16.41it/s]"
     ]
    },
    {
     "name": "stdout",
     "output_type": "stream",
     "text": [
      "Iteration MEAN: 46.83333333333333\n",
      "Iteration: 145 Best value: 68.33333333333333\n"
     ]
    },
    {
     "name": "stderr",
     "output_type": "stream",
     "text": [
      "100%|██████████| 500/500 [00:17<00:00, 28.36it/s]\n",
      "  0%|          | 0/500 [00:00<?, ?it/s]"
     ]
    },
    {
     "name": "stdout",
     "output_type": "stream",
     "text": [
      "Iteration MEAN: 46.22333333333333\n",
      "Iteration: 146 Best value: 68.33333333333333\n"
     ]
    },
    {
     "name": "stderr",
     "output_type": "stream",
     "text": [
      "100%|██████████| 500/500 [00:14<00:00, 34.03it/s]\n",
      "  1%|          | 4/500 [00:00<00:15, 32.70it/s]"
     ]
    },
    {
     "name": "stdout",
     "output_type": "stream",
     "text": [
      "Iteration MEAN: 46.163333333333334\n",
      "Iteration: 147 Best value: 70.0\n"
     ]
    },
    {
     "name": "stderr",
     "output_type": "stream",
     "text": [
      "100%|██████████| 500/500 [00:12<00:00, 40.06it/s]\n",
      "  0%|          | 0/500 [00:00<?, ?it/s]"
     ]
    },
    {
     "name": "stdout",
     "output_type": "stream",
     "text": [
      "Iteration MEAN: 46.73333333333333\n",
      "Iteration: 148 Best value: 66.66666666666666\n"
     ]
    },
    {
     "name": "stderr",
     "output_type": "stream",
     "text": [
      "100%|██████████| 500/500 [00:13<00:00, 37.79it/s]\n",
      "  0%|          | 0/500 [00:00<?, ?it/s]"
     ]
    },
    {
     "name": "stdout",
     "output_type": "stream",
     "text": [
      "Iteration MEAN: 46.41333333333333\n",
      "Iteration: 149 Best value: 65.0\n"
     ]
    },
    {
     "name": "stderr",
     "output_type": "stream",
     "text": [
      "100%|██████████| 500/500 [00:38<00:00, 12.90it/s]\n",
      "  2%|▏         | 8/500 [00:00<00:13, 37.00it/s]"
     ]
    },
    {
     "name": "stdout",
     "output_type": "stream",
     "text": [
      "Iteration MEAN: 45.56666666666667\n",
      "Iteration: 150 Best value: 61.66666666666667\n"
     ]
    },
    {
     "name": "stderr",
     "output_type": "stream",
     "text": [
      "100%|██████████| 500/500 [00:12<00:00, 40.72it/s]\n",
      "  2%|▏         | 10/500 [00:00<00:11, 41.75it/s]"
     ]
    },
    {
     "name": "stdout",
     "output_type": "stream",
     "text": [
      "Iteration MEAN: 46.54333333333333\n",
      "Iteration: 151 Best value: 63.33333333333333\n"
     ]
    },
    {
     "name": "stderr",
     "output_type": "stream",
     "text": [
      "100%|██████████| 500/500 [00:13<00:00, 36.65it/s]\n",
      "  1%|          | 4/500 [00:00<00:13, 36.63it/s]"
     ]
    },
    {
     "name": "stdout",
     "output_type": "stream",
     "text": [
      "Iteration MEAN: 47.69666666666667\n",
      "Iteration: 152 Best value: 66.66666666666666\n"
     ]
    },
    {
     "name": "stderr",
     "output_type": "stream",
     "text": [
      "100%|██████████| 500/500 [00:12<00:00, 40.34it/s]\n",
      "  1%|          | 5/500 [00:00<00:11, 44.07it/s]"
     ]
    },
    {
     "name": "stdout",
     "output_type": "stream",
     "text": [
      "Iteration MEAN: 47.633333333333326\n",
      "Iteration: 153 Best value: 65.0\n"
     ]
    },
    {
     "name": "stderr",
     "output_type": "stream",
     "text": [
      "100%|██████████| 500/500 [00:14<00:00, 33.83it/s]\n",
      "  0%|          | 0/500 [00:00<?, ?it/s]"
     ]
    },
    {
     "name": "stdout",
     "output_type": "stream",
     "text": [
      "Iteration MEAN: 47.076666666666654\n",
      "Iteration: 154 Best value: 65.0\n"
     ]
    },
    {
     "name": "stderr",
     "output_type": "stream",
     "text": [
      "100%|██████████| 500/500 [00:13<00:00, 37.59it/s]\n",
      "  1%|          | 5/500 [00:00<00:11, 41.83it/s]"
     ]
    },
    {
     "name": "stdout",
     "output_type": "stream",
     "text": [
      "Iteration MEAN: 48.086666666666666\n",
      "Iteration: 155 Best value: 68.33333333333333\n"
     ]
    },
    {
     "name": "stderr",
     "output_type": "stream",
     "text": [
      "100%|██████████| 500/500 [00:12<00:00, 40.23it/s]\n",
      "  2%|▏         | 8/500 [00:00<00:12, 39.37it/s]"
     ]
    },
    {
     "name": "stdout",
     "output_type": "stream",
     "text": [
      "Iteration MEAN: 48.03333333333334\n",
      "Iteration: 156 Best value: 65.0\n"
     ]
    },
    {
     "name": "stderr",
     "output_type": "stream",
     "text": [
      "100%|██████████| 500/500 [00:12<00:00, 40.73it/s]\n",
      "  2%|▏         | 10/500 [00:00<00:10, 44.56it/s]"
     ]
    },
    {
     "name": "stdout",
     "output_type": "stream",
     "text": [
      "Iteration MEAN: 48.193333333333335\n",
      "Iteration: 157 Best value: 66.66666666666666\n"
     ]
    },
    {
     "name": "stderr",
     "output_type": "stream",
     "text": [
      "100%|██████████| 500/500 [00:11<00:00, 44.36it/s]\n",
      "  1%|          | 4/500 [00:00<00:13, 36.24it/s]"
     ]
    },
    {
     "name": "stdout",
     "output_type": "stream",
     "text": [
      "Iteration MEAN: 47.79333333333334\n",
      "Iteration: 158 Best value: 65.0\n"
     ]
    },
    {
     "name": "stderr",
     "output_type": "stream",
     "text": [
      "100%|██████████| 500/500 [00:11<00:00, 42.72it/s]\n",
      "  1%|          | 5/500 [00:00<00:10, 45.81it/s]"
     ]
    },
    {
     "name": "stdout",
     "output_type": "stream",
     "text": [
      "Iteration MEAN: 47.79\n",
      "Iteration: 159 Best value: 70.0\n"
     ]
    },
    {
     "name": "stderr",
     "output_type": "stream",
     "text": [
      "100%|██████████| 500/500 [00:11<00:00, 44.87it/s]\n",
      "  1%|          | 5/500 [00:00<00:10, 46.23it/s]"
     ]
    },
    {
     "name": "stdout",
     "output_type": "stream",
     "text": [
      "Iteration MEAN: 47.56666666666667\n",
      "Iteration: 160 Best value: 63.33333333333333\n"
     ]
    },
    {
     "name": "stderr",
     "output_type": "stream",
     "text": [
      "100%|██████████| 500/500 [00:11<00:00, 44.97it/s]\n",
      "  1%|          | 5/500 [00:00<00:11, 44.05it/s]"
     ]
    },
    {
     "name": "stdout",
     "output_type": "stream",
     "text": [
      "Iteration MEAN: 48.04333333333334\n",
      "Iteration: 161 Best value: 68.33333333333333\n"
     ]
    },
    {
     "name": "stderr",
     "output_type": "stream",
     "text": [
      "100%|██████████| 500/500 [00:11<00:00, 43.48it/s]\n",
      "  1%|          | 5/500 [00:00<00:10, 46.16it/s]"
     ]
    },
    {
     "name": "stdout",
     "output_type": "stream",
     "text": [
      "Iteration MEAN: 47.96666666666666\n",
      "Iteration: 162 Best value: 65.0\n"
     ]
    },
    {
     "name": "stderr",
     "output_type": "stream",
     "text": [
      "100%|██████████| 500/500 [00:11<00:00, 44.24it/s]\n",
      "  1%|          | 5/500 [00:00<00:11, 43.74it/s]"
     ]
    },
    {
     "name": "stdout",
     "output_type": "stream",
     "text": [
      "Iteration MEAN: 47.92666666666667\n",
      "Iteration: 163 Best value: 68.33333333333333\n"
     ]
    },
    {
     "name": "stderr",
     "output_type": "stream",
     "text": [
      "100%|██████████| 500/500 [00:12<00:00, 41.27it/s]\n",
      "  1%|          | 5/500 [00:00<00:11, 42.83it/s]"
     ]
    },
    {
     "name": "stdout",
     "output_type": "stream",
     "text": [
      "Iteration MEAN: 47.39666666666667\n",
      "Iteration: 164 Best value: 63.33333333333333\n"
     ]
    },
    {
     "name": "stderr",
     "output_type": "stream",
     "text": [
      "100%|██████████| 500/500 [00:12<00:00, 39.78it/s]\n",
      "  2%|▏         | 10/500 [00:00<00:11, 41.12it/s]"
     ]
    },
    {
     "name": "stdout",
     "output_type": "stream",
     "text": [
      "Iteration MEAN: 47.70666666666666\n",
      "Iteration: 165 Best value: 66.66666666666666\n"
     ]
    },
    {
     "name": "stderr",
     "output_type": "stream",
     "text": [
      "100%|██████████| 500/500 [00:12<00:00, 40.67it/s]\n",
      "  1%|          | 5/500 [00:00<00:12, 40.51it/s]"
     ]
    },
    {
     "name": "stdout",
     "output_type": "stream",
     "text": [
      "Iteration MEAN: 47.65\n",
      "Iteration: 166 Best value: 65.0\n"
     ]
    },
    {
     "name": "stderr",
     "output_type": "stream",
     "text": [
      "100%|██████████| 500/500 [00:12<00:00, 41.09it/s]\n",
      "  1%|          | 4/500 [00:00<00:13, 37.83it/s]"
     ]
    },
    {
     "name": "stdout",
     "output_type": "stream",
     "text": [
      "Iteration MEAN: 47.64333333333333\n",
      "Iteration: 167 Best value: 68.33333333333333\n"
     ]
    },
    {
     "name": "stderr",
     "output_type": "stream",
     "text": [
      "100%|██████████| 500/500 [00:12<00:00, 40.09it/s]\n",
      "  1%|          | 4/500 [00:00<00:13, 37.27it/s]"
     ]
    },
    {
     "name": "stdout",
     "output_type": "stream",
     "text": [
      "Iteration MEAN: 47.65\n",
      "Iteration: 168 Best value: 68.33333333333333\n"
     ]
    },
    {
     "name": "stderr",
     "output_type": "stream",
     "text": [
      "100%|██████████| 500/500 [00:11<00:00, 41.99it/s]\n",
      "  2%|▏         | 10/500 [00:00<00:10, 46.61it/s]"
     ]
    },
    {
     "name": "stdout",
     "output_type": "stream",
     "text": [
      "Iteration MEAN: 47.91\n",
      "Iteration: 169 Best value: 65.0\n"
     ]
    },
    {
     "name": "stderr",
     "output_type": "stream",
     "text": [
      "100%|██████████| 500/500 [00:10<00:00, 47.80it/s]\n",
      "  1%|          | 5/500 [00:00<00:10, 48.52it/s]"
     ]
    },
    {
     "name": "stdout",
     "output_type": "stream",
     "text": [
      "Iteration MEAN: 48.18333333333334\n",
      "Iteration: 170 Best value: 65.0\n"
     ]
    },
    {
     "name": "stderr",
     "output_type": "stream",
     "text": [
      "100%|██████████| 500/500 [00:12<00:00, 40.80it/s]\n",
      "  1%|          | 5/500 [00:00<00:12, 40.04it/s]"
     ]
    },
    {
     "name": "stdout",
     "output_type": "stream",
     "text": [
      "Iteration MEAN: 48.616666666666674\n",
      "Iteration: 171 Best value: 70.0\n"
     ]
    },
    {
     "name": "stderr",
     "output_type": "stream",
     "text": [
      "100%|██████████| 500/500 [00:13<00:00, 37.87it/s]\n",
      "  1%|          | 3/500 [00:00<00:17, 28.66it/s]"
     ]
    },
    {
     "name": "stdout",
     "output_type": "stream",
     "text": [
      "Iteration MEAN: 48.07\n",
      "Iteration: 172 Best value: 66.66666666666666\n"
     ]
    },
    {
     "name": "stderr",
     "output_type": "stream",
     "text": [
      "100%|██████████| 500/500 [00:14<00:00, 34.20it/s]\n",
      "  0%|          | 0/500 [00:00<?, ?it/s]"
     ]
    },
    {
     "name": "stdout",
     "output_type": "stream",
     "text": [
      "Iteration MEAN: 48.43333333333334\n",
      "Iteration: 173 Best value: 66.66666666666666\n"
     ]
    },
    {
     "name": "stderr",
     "output_type": "stream",
     "text": [
      "100%|██████████| 500/500 [00:24<00:00, 20.83it/s]\n",
      "  1%|          | 4/500 [00:00<00:12, 38.51it/s]"
     ]
    },
    {
     "name": "stdout",
     "output_type": "stream",
     "text": [
      "Iteration MEAN: 47.976666666666674\n",
      "Iteration: 174 Best value: 66.66666666666666\n"
     ]
    },
    {
     "name": "stderr",
     "output_type": "stream",
     "text": [
      "100%|██████████| 500/500 [00:14<00:00, 33.43it/s]\n",
      "  0%|          | 0/500 [00:00<?, ?it/s]"
     ]
    },
    {
     "name": "stdout",
     "output_type": "stream",
     "text": [
      "Iteration MEAN: 48.27\n",
      "Iteration: 175 Best value: 66.66666666666666\n"
     ]
    },
    {
     "name": "stderr",
     "output_type": "stream",
     "text": [
      "100%|██████████| 500/500 [00:12<00:00, 39.03it/s]\n",
      "  1%|          | 4/500 [00:00<00:14, 35.12it/s]"
     ]
    },
    {
     "name": "stdout",
     "output_type": "stream",
     "text": [
      "Iteration MEAN: 48.506666666666675\n",
      "Iteration: 176 Best value: 75.0\n"
     ]
    },
    {
     "name": "stderr",
     "output_type": "stream",
     "text": [
      "100%|██████████| 500/500 [00:11<00:00, 42.14it/s]\n",
      "  1%|          | 5/500 [00:00<00:11, 44.31it/s]"
     ]
    },
    {
     "name": "stdout",
     "output_type": "stream",
     "text": [
      "Iteration MEAN: 48.42333333333334\n",
      "Iteration: 177 Best value: 66.66666666666666\n"
     ]
    },
    {
     "name": "stderr",
     "output_type": "stream",
     "text": [
      "100%|██████████| 500/500 [00:11<00:00, 44.46it/s]\n",
      "  1%|          | 5/500 [00:00<00:10, 46.21it/s]"
     ]
    },
    {
     "name": "stdout",
     "output_type": "stream",
     "text": [
      "Iteration MEAN: 48.793333333333344\n",
      "Iteration: 178 Best value: 68.33333333333333\n"
     ]
    },
    {
     "name": "stderr",
     "output_type": "stream",
     "text": [
      "100%|██████████| 500/500 [00:11<00:00, 44.16it/s]\n",
      "  2%|▏         | 10/500 [00:00<00:11, 44.49it/s]"
     ]
    },
    {
     "name": "stdout",
     "output_type": "stream",
     "text": [
      "Iteration MEAN: 48.71\n",
      "Iteration: 179 Best value: 68.33333333333333\n"
     ]
    },
    {
     "name": "stderr",
     "output_type": "stream",
     "text": [
      "100%|██████████| 500/500 [00:11<00:00, 43.60it/s]\n",
      "  1%|          | 4/500 [00:00<00:12, 39.79it/s]"
     ]
    },
    {
     "name": "stdout",
     "output_type": "stream",
     "text": [
      "Iteration MEAN: 48.506666666666675\n",
      "Iteration: 180 Best value: 66.66666666666666\n"
     ]
    },
    {
     "name": "stderr",
     "output_type": "stream",
     "text": [
      "100%|██████████| 500/500 [00:11<00:00, 42.81it/s]\n",
      "  2%|▏         | 10/500 [00:00<00:10, 44.69it/s]"
     ]
    },
    {
     "name": "stdout",
     "output_type": "stream",
     "text": [
      "Iteration MEAN: 48.67666666666667\n",
      "Iteration: 181 Best value: 68.33333333333333\n"
     ]
    },
    {
     "name": "stderr",
     "output_type": "stream",
     "text": [
      "100%|██████████| 500/500 [00:11<00:00, 44.06it/s]\n",
      "  1%|          | 5/500 [00:00<00:11, 44.46it/s]"
     ]
    },
    {
     "name": "stdout",
     "output_type": "stream",
     "text": [
      "Iteration MEAN: 48.63333333333334\n",
      "Iteration: 182 Best value: 66.66666666666666\n"
     ]
    },
    {
     "name": "stderr",
     "output_type": "stream",
     "text": [
      "100%|██████████| 500/500 [00:11<00:00, 43.33it/s]\n",
      "  1%|          | 5/500 [00:00<00:11, 41.72it/s]"
     ]
    },
    {
     "name": "stdout",
     "output_type": "stream",
     "text": [
      "Iteration MEAN: 49.31333333333334\n",
      "Iteration: 183 Best value: 70.0\n"
     ]
    },
    {
     "name": "stderr",
     "output_type": "stream",
     "text": [
      "100%|██████████| 500/500 [00:11<00:00, 42.92it/s]\n",
      "  2%|▏         | 10/500 [00:00<00:11, 42.41it/s]"
     ]
    },
    {
     "name": "stdout",
     "output_type": "stream",
     "text": [
      "Iteration MEAN: 48.90333333333334\n",
      "Iteration: 184 Best value: 76.66666666666667\n"
     ]
    },
    {
     "name": "stderr",
     "output_type": "stream",
     "text": [
      "100%|██████████| 500/500 [00:12<00:00, 41.43it/s]\n",
      "  1%|          | 4/500 [00:00<00:13, 35.78it/s]"
     ]
    },
    {
     "name": "stdout",
     "output_type": "stream",
     "text": [
      "Iteration MEAN: 49.226666666666674\n",
      "Iteration: 185 Best value: 71.66666666666667\n"
     ]
    },
    {
     "name": "stderr",
     "output_type": "stream",
     "text": [
      "100%|██████████| 500/500 [00:14<00:00, 35.24it/s]\n",
      "  1%|          | 4/500 [00:00<00:12, 38.70it/s]"
     ]
    },
    {
     "name": "stdout",
     "output_type": "stream",
     "text": [
      "Iteration MEAN: 49.393333333333345\n",
      "Iteration: 186 Best value: 70.0\n"
     ]
    },
    {
     "name": "stderr",
     "output_type": "stream",
     "text": [
      "100%|██████████| 500/500 [00:12<00:00, 39.15it/s]\n",
      "  1%|          | 5/500 [00:00<00:11, 44.20it/s]"
     ]
    },
    {
     "name": "stdout",
     "output_type": "stream",
     "text": [
      "Iteration MEAN: 49.24666666666667\n",
      "Iteration: 187 Best value: 70.0\n"
     ]
    },
    {
     "name": "stderr",
     "output_type": "stream",
     "text": [
      "100%|██████████| 500/500 [00:11<00:00, 42.47it/s]\n",
      "  1%|          | 5/500 [00:00<00:11, 42.53it/s]"
     ]
    },
    {
     "name": "stdout",
     "output_type": "stream",
     "text": [
      "Iteration MEAN: 49.14666666666667\n",
      "Iteration: 188 Best value: 70.0\n"
     ]
    },
    {
     "name": "stderr",
     "output_type": "stream",
     "text": [
      "100%|██████████| 500/500 [00:11<00:00, 42.19it/s]\n",
      "  1%|          | 5/500 [00:00<00:10, 45.51it/s]"
     ]
    },
    {
     "name": "stdout",
     "output_type": "stream",
     "text": [
      "Iteration MEAN: 49.12\n",
      "Iteration: 189 Best value: 71.66666666666667\n"
     ]
    },
    {
     "name": "stderr",
     "output_type": "stream",
     "text": [
      "100%|██████████| 500/500 [00:11<00:00, 44.70it/s]\n",
      "  2%|▏         | 10/500 [00:00<00:10, 47.25it/s]"
     ]
    },
    {
     "name": "stdout",
     "output_type": "stream",
     "text": [
      "Iteration MEAN: 49.26666666666667\n",
      "Iteration: 190 Best value: 70.0\n"
     ]
    },
    {
     "name": "stderr",
     "output_type": "stream",
     "text": [
      "100%|██████████| 500/500 [00:12<00:00, 40.67it/s]\n",
      "  2%|▏         | 10/500 [00:00<00:11, 41.98it/s]"
     ]
    },
    {
     "name": "stdout",
     "output_type": "stream",
     "text": [
      "Iteration MEAN: 49.08666666666667\n",
      "Iteration: 191 Best value: 68.33333333333333\n"
     ]
    },
    {
     "name": "stderr",
     "output_type": "stream",
     "text": [
      "100%|██████████| 500/500 [00:11<00:00, 44.44it/s]\n",
      "  1%|          | 5/500 [00:00<00:10, 46.15it/s]"
     ]
    },
    {
     "name": "stdout",
     "output_type": "stream",
     "text": [
      "Iteration MEAN: 49.79\n",
      "Iteration: 192 Best value: 68.33333333333333\n"
     ]
    },
    {
     "name": "stderr",
     "output_type": "stream",
     "text": [
      "100%|██████████| 500/500 [00:13<00:00, 35.91it/s]\n",
      "  0%|          | 0/500 [00:00<?, ?it/s]"
     ]
    },
    {
     "name": "stdout",
     "output_type": "stream",
     "text": [
      "Iteration MEAN: 49.56333333333334\n",
      "Iteration: 193 Best value: 70.0\n"
     ]
    },
    {
     "name": "stderr",
     "output_type": "stream",
     "text": [
      "100%|██████████| 500/500 [00:31<00:00, 15.78it/s]\n"
     ]
    },
    {
     "name": "stdout",
     "output_type": "stream",
     "text": [
      "Iteration MEAN: 49.30666666666667\n",
      "Iteration: 194 Best value: 73.33333333333333\n"
     ]
    },
    {
     "name": "stderr",
     "output_type": "stream",
     "text": [
      "100%|██████████| 500/500 [00:51<00:00,  9.66it/s]\n",
      "  1%|          | 6/500 [00:00<00:17, 28.01it/s]"
     ]
    },
    {
     "name": "stdout",
     "output_type": "stream",
     "text": [
      "Iteration MEAN: 48.71666666666667\n",
      "Iteration: 195 Best value: 71.66666666666667\n"
     ]
    },
    {
     "name": "stderr",
     "output_type": "stream",
     "text": [
      "100%|██████████| 500/500 [00:13<00:00, 37.28it/s]\n",
      "  1%|          | 4/500 [00:00<00:13, 36.62it/s]"
     ]
    },
    {
     "name": "stdout",
     "output_type": "stream",
     "text": [
      "Iteration MEAN: 49.37000000000001\n",
      "Iteration: 196 Best value: 66.66666666666666\n"
     ]
    },
    {
     "name": "stderr",
     "output_type": "stream",
     "text": [
      "100%|██████████| 500/500 [00:11<00:00, 43.91it/s]\n",
      "  1%|          | 5/500 [00:00<00:11, 44.11it/s]"
     ]
    },
    {
     "name": "stdout",
     "output_type": "stream",
     "text": [
      "Iteration MEAN: 49.02\n",
      "Iteration: 197 Best value: 71.66666666666667\n"
     ]
    },
    {
     "name": "stderr",
     "output_type": "stream",
     "text": [
      "100%|██████████| 500/500 [00:12<00:00, 40.62it/s]\n",
      "  1%|          | 5/500 [00:00<00:11, 42.15it/s]"
     ]
    },
    {
     "name": "stdout",
     "output_type": "stream",
     "text": [
      "Iteration MEAN: 49.19\n",
      "Iteration: 198 Best value: 66.66666666666666\n"
     ]
    },
    {
     "name": "stderr",
     "output_type": "stream",
     "text": [
      "100%|██████████| 500/500 [00:18<00:00, 26.41it/s]\n"
     ]
    },
    {
     "name": "stdout",
     "output_type": "stream",
     "text": [
      "Iteration MEAN: 49.28000000000001\n",
      "Iteration: 199 Best value: 68.33333333333333\n"
     ]
    }
   ],
   "source": [
    "best_and_mean_scores = []\n",
    "p_size= 500\n",
    "population = [Neural_strategy('AI') for n in range(0,p_size)]\n",
    "\n",
    "[p.init_neural_activity() for p in population] #starting network random weights\n",
    "\n",
    "from tqdm import tqdm\n",
    "for i_n in range(200):\n",
    "    fitness = []\n",
    "    for ai in tqdm(population):\n",
    "        matchs = []\n",
    "        f = 0\n",
    "        for x in range(60):\n",
    "            jogo = Game()\n",
    "            lucas = First_strategy('Lucas')\n",
    "            matchs.append(jogo.start_game([ ai, lucas]))\n",
    "            ai.reset_status()\n",
    "        #print matchs\n",
    "        f =  100 * (len([m for m in matchs if m == 'AI'])/float(len(matchs)))\n",
    "        #print f \n",
    "        fitness.append(f)\n",
    "    higher_fitness = sorted( [[f, p_f] for f , p_f in zip(fitness, population)], key=lambda s: s[0])\n",
    "    print ('Iteration MEAN:', np.mean([v[0] for v in higher_fitness]))\n",
    "        \n",
    "    loss_str= 'Best value: {}'.format(str(higher_fitness[-1][0]))\n",
    "    best_and_mean_scores.append([higher_fitness[-1][0], np.mean([v[0] for v in higher_fitness])])\n",
    "    itr_str = 'Iteration: {}'.format( str(i_n))\n",
    "    print (itr_str, loss_str)\n",
    "    #print [ h[0] for h in  higher_fitness[-5:]]\n",
    "    best_creatures = higher_fitness[-10:]\n",
    "    #print [float(b_c) for b_c in best_creatures]\n",
    "    population = [copy.deepcopy(random.choice(best_creatures)[1]) for i in range(0, p_size)]\n",
    "    [p_m.neural_network.mutate_all_layers() for p_m in population]\n",
    "\n",
    "    "
   ]
  },
  {
   "cell_type": "code",
   "execution_count": 9,
   "metadata": {},
   "outputs": [],
   "source": [
    "## Ploting the mean game values "
   ]
  },
  {
   "cell_type": "code",
   "execution_count": 41,
   "metadata": {},
   "outputs": [
    {
     "data": {
      "image/png": "[encoded data removed]",
      "text/plain": [
       "<Figure size 432x288 with 1 Axes>"
      ]
     },
     "metadata": {
      "needs_background": "light"
     },
     "output_type": "display_data"
    }
   ],
   "source": [
    "df_training = pd.DataFrame(best_and_mean_scores, columns=['best_result', 'mean_result'])\n",
    "\n",
    "plt.plot(df_training['mean_result'], lw=2)\n",
    "plt.title('Average win rate iteraction')\n",
    "plt.xlabel('Iteraction number')\n",
    "plt.show()"
   ]
  },
  {
   "cell_type": "code",
   "execution_count": 42,
   "metadata": {},
   "outputs": [
    {
     "data": {
      "image/png": "[encoded data removed]",
      "text/plain": [
       "<Figure size 432x288 with 1 Axes>"
      ]
     },
     "metadata": {
      "needs_background": "light"
     },
     "output_type": "display_data"
    }
   ],
   "source": [
    "plt.plot(df_training['best_result'], lw=2)\n",
    "plt.title('% of won games BEST RESULTS only')\n",
    "plt.xlabel('Iteraction number')\n",
    "plt.show()"
   ]
  }
 ],
 "metadata": {
  "kernelspec": {
   "display_name": "Python 3",
   "language": "python",
   "name": "python3"
  },
  "language_info": {
   "codemirror_mode": {
    "name": "ipython",
    "version": 3
   },
   "file_extension": ".py",
   "mimetype": "text/x-python",
   "name": "python",
   "nbconvert_exporter": "python",
   "pygments_lexer": "ipython3",
   "version": "3.7.1"
  }
 },
 "nbformat": 4,
 "nbformat_minor": 2
}
